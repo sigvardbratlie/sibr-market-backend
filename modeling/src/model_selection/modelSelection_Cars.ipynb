{
 "cells": [
  {
   "cell_type": "markdown",
   "id": "651ac575-a862-4be9-8256-3c8eb3c31850",
   "metadata": {},
   "source": "# Model Selection - CARS"
  },
  {
   "cell_type": "code",
   "id": "b60aac7e-b9b3-4f64-aad7-b0cc584e3e58",
   "metadata": {
    "ExecuteTime": {
     "end_time": "2025-07-09T12:46:55.000016Z",
     "start_time": "2025-07-09T12:46:51.488104Z"
    }
   },
   "source": [
    "import numpy as np\n",
    "import pandas as pd\n",
    "pd.set_option('display.max_columns', None)\n",
    "from sklearn.pipeline import Pipeline\n",
    "from sklearn.ensemble import RandomForestRegressor\n",
    "from xgboost import XGBRegressor\n",
    "from catboost import CatBoostRegressor\n",
    "from sklearn.model_selection import RandomizedSearchCV,train_test_split\n",
    "from sklearn.preprocessing import StandardScaler\n",
    "from sklearn.impute import SimpleImputer\n",
    "from sklearn.metrics import mean_squared_error,r2_score\n",
    "from scipy.stats import randint, uniform,loguniform\n",
    "import os\n",
    "os.chdir(\"../..\")\n",
    "from sibr_module import BigQuery, Logger, CStorage\n",
    "\n",
    "import torch\n",
    "from torch import nn"
   ],
   "outputs": [
    {
     "name": "stderr",
     "output_type": "stream",
     "text": [
      "/Users/sigvardbratlie/Documents/Projects/sibr_market_training/.venv/lib/python3.9/site-packages/urllib3/__init__.py:35: NotOpenSSLWarning: urllib3 v2 only supports OpenSSL 1.1.1+, currently the 'ssl' module is compiled with 'LibreSSL 2.8.3'. See: https://github.com/urllib3/urllib3/issues/3020\n",
      "  warnings.warn(\n"
     ]
    }
   ],
   "execution_count": 1
  },
  {
   "metadata": {
    "ExecuteTime": {
     "end_time": "2025-07-09T12:47:07.181034Z",
     "start_time": "2025-07-09T12:47:07.167900Z"
    }
   },
   "cell_type": "code",
   "source": [
    "dataset = 'cars'\n",
    "logger = Logger(f'model_selection{dataset.capitalize()}')\n",
    "bq = BigQuery(logger=logger,dataset=dataset)\n",
    "cs = CStorage(logger=logger, bucket_name='sibr-market-bucket')\n",
    "logger.debug(f'Dataset: {dataset}')"
   ],
   "id": "f5eeaf68fea9be78",
   "outputs": [
    {
     "name": "stderr",
     "output_type": "stream",
     "text": [
      "2025-07-09 14:47:07,171 - model_selectionCars - INFO - Cloud Logging is disabled. Using local logging to /Users/sigvardbratlie/Documents/Projects/sibr_market_training/logfiles/model_selectionCars.log\n",
      "2025-07-09 14:47:07,175 - model_selectionCars - INFO - BigQuery client initialized with project_id: sibr-market\n",
      "2025-07-09 14:47:07,178 - model_selectionCars - INFO - Google Cloud Storage client initialized with bucket: sibr-market-bucket\n",
      "2025-07-09 14:47:07,179 - model_selectionCars - DEBUG - Dataset: cars\n"
     ]
    }
   ],
   "execution_count": 2
  },
  {
   "cell_type": "code",
   "id": "e1ada178e163a0c7",
   "metadata": {
    "ExecuteTime": {
     "end_time": "2025-07-09T12:47:25.531101Z",
     "start_time": "2025-07-09T12:47:13.838177Z"
    }
   },
   "source": [
    "df_el = bq.read_preprocessed(table = 'cars_el',random_sample=5000,coordinates=False)\n",
    "df_fossil = bq.read_preprocessed(table = 'cars_fossil',random_sample=5000,coordinates=False)"
   ],
   "outputs": [
    {
     "name": "stderr",
     "output_type": "stream",
     "text": [
      "2025-07-09 14:47:17,981 - model_selectionCars - INFO - 5000 rows read from cars. Query: SELECT a.* FROM `sibr-market.pre_processed.cars_el` a ORDER BY RAND() LIMIT 5000... (truncated)\n",
      "2025-07-09 14:47:25,523 - model_selectionCars - INFO - 5000 rows read from cars. Query: SELECT a.* FROM `sibr-market.pre_processed.cars_fossil` a ORDER BY RAND() LIMIT 5000... (truncated)\n"
     ]
    }
   ],
   "execution_count": 3
  },
  {
   "metadata": {
    "ExecuteTime": {
     "end_time": "2025-07-09T12:48:12.255669Z",
     "start_time": "2025-07-09T12:48:12.237744Z"
    }
   },
   "cell_type": "code",
   "source": [
    "columns = ['price_excl_transfer','clean_date','pre_processed_date','warranty',\n",
    "    'color_interior',\n",
    "    'gearbox_type',\n",
    "    'warranty_length',\n",
    "    'condition_report']\n",
    "df_el.drop(columns = columns,inplace=True,errors='ignore')\n",
    "df_fossil.drop(columns = columns,inplace=True,errors='ignore')\n",
    "df_el.dropna(inplace=True)\n",
    "df_fossil.dropna(inplace=True)"
   ],
   "id": "a233487ccb81d5a",
   "outputs": [],
   "execution_count": 5
  },
  {
   "metadata": {
    "ExecuteTime": {
     "end_time": "2025-06-19T14:49:22.285476Z",
     "start_time": "2025-06-19T14:49:22.276395Z"
    }
   },
   "cell_type": "code",
   "source": [
    "def get_cat(df):\n",
    "    cat_cols = []\n",
    "    for col, dtype in df.dtypes.items():  # Use .items() to get (column_name, dtype) pairs\n",
    "        if dtype == 'object' or dtype == 'category' or dtype == 'string':\n",
    "            cat_cols.append(col)\n",
    "    return cat_cols\n",
    "\n",
    "cat_cols_el = get_cat(df_el)\n",
    "cat_cols_fossil = get_cat(df_fossil)"
   ],
   "id": "8722021926b39f63",
   "outputs": [],
   "execution_count": 35
  },
  {
   "cell_type": "code",
   "id": "d6444ad9ca9bbee3",
   "metadata": {
    "ExecuteTime": {
     "end_time": "2025-06-19T14:28:50.597523Z",
     "start_time": "2025-06-19T14:28:50.589289Z"
    }
   },
   "source": [
    "params_rf = {\n",
    "    # RandomForest har allerede 5 parametere, noe som er innenfor grensen.\n",
    "    # Disse er generelt ansett som viktige for Random Forest.\n",
    "    'model__n_estimators': randint(100, 1500),  # Litt redusert øvre grense for raskere søk\n",
    "    'model__max_depth': randint(5, 50),        # Redusert øvre grense\n",
    "    'model__min_samples_leaf': randint(1, 10),\n",
    "    'model__bootstrap': [True, False],\n",
    "    'model__random_state': randint(0, 100)     # Inkludert som i din originale kode\n",
    "}\n",
    "\n",
    "params_xgb = {\n",
    "    # Velger 4 kjerne-ytelsesparametere + random_state (totalt 5)\n",
    "    'model__n_estimators': randint(100, 1500),\n",
    "    'model__learning_rate': loguniform(0.01, 0.3),\n",
    "    'model__max_depth': randint(3, 15),           # Litt justert range\n",
    "    'model__subsample': uniform(0.6, 0.4),        # Genererer fra 0.6 til 1.0\n",
    "    # 'model__colsample_bytree': uniform(0.6, 0.4), # Kan legges til hvis du vil ha 5 ytelsesparams + random_state\n",
    "    # 'model__reg_lambda': loguniform(1e-8, 1.0),   # Alternativ til subsample/colsample\n",
    "    'model__random_state': randint(0, 100)\n",
    "}\n",
    "\n",
    "params_cat = {\n",
    "    # Velger 4 kjerne-ytelsesparametere. random_state er fast.\n",
    "    'model__iterations': randint(100, 1500),      # Samme som n_estimators\n",
    "    'model__learning_rate': loguniform(0.01, 0.3),\n",
    "    'model__depth': randint(3, 10),               # Samme som max_depth\n",
    "    'model__l2_leaf_reg': loguniform(1, 10),      # Viktig regulariseringsparameter for CatBoost\n",
    "    # 'model__bagging_temperature': uniform(0, 1), # Kan legges til for en femte parameter\n",
    "    'model__random_state': randint(0, 100)                     # Fast verdi, teller ikke mot justerbare\n",
    "}\n",
    "\n",
    "models = {\n",
    "    # 'RandomForest': (RandomForestRegressor(), params_rf),\n",
    "    # 'XGBoost': (XGBRegressor(), params_xgb),\n",
    "    'CatBoost': (CatBoostRegressor(silent=True), params_cat),\n",
    "}"
   ],
   "outputs": [],
   "execution_count": 12
  },
  {
   "cell_type": "code",
   "id": "ab6fa845ba6b798e",
   "metadata": {
    "ExecuteTime": {
     "end_time": "2025-06-19T14:52:43.917644Z",
     "start_time": "2025-06-19T14:52:43.909362Z"
    }
   },
   "source": [
    "def model_selection(df_sample,models:dict,target ,dataset_name):\n",
    "    logger.info(f'MODEL SELECTION FOR {dataset_name.upper()} \\n \\n')\n",
    "    X_train, X_test, y_train, y_test = train_test_split(\n",
    "        df_sample.drop(columns=[target], axis=1),\n",
    "        df_sample[target],\n",
    "        test_size=0.2,\n",
    "        # stratify=y_binned,\n",
    "        random_state=42)\n",
    "    logger.info(f\"Train set size: {X_train.shape[0]}, Test set size: {X_test.shape[0]}\")\n",
    "    logger.info(f'Columns in train set: {X_train.columns.tolist()}')\n",
    "\n",
    "\n",
    "    for model_name, (model, params) in models.items():\n",
    "        logger.info(f'Training {model_name} model with hyperparameter tuning. Dataset: {dataset_name}')\n",
    "        pipe = Pipeline([\n",
    "            #('impute', SimpleImputer()),\n",
    "            #('scaler', StandardScaler()),\n",
    "            ('model', model),\n",
    "        ])\n",
    "        cv = RandomizedSearchCV(pipe,\n",
    "                                    param_distributions=params,\n",
    "                                    n_iter=50,\n",
    "                                    cv=3,\n",
    "                                    scoring='neg_mean_squared_error',\n",
    "                                    verbose=1,\n",
    "                                    random_state=42,\n",
    "                                    n_jobs=-1,\n",
    "                                refit = 'neg_mean_squared_error',\n",
    "                                return_train_score=True)\n",
    "        try:\n",
    "            cv.fit(X_train, y_train)\n",
    "            y_pred = cv.predict(X_test)\n",
    "            mse = mean_squared_error(y_test, y_pred)\n",
    "            r2 = r2_score(y_test, y_pred)\n",
    "            logger.info(f'{model_name} model best parameters: {cv.best_params_} on {dataset_name}')\n",
    "            logger.info(f'Best score for {model_name}: Train: {-cv.best_score_}, Test: {mse}, R2 (test): {r2} on {dataset_name}')\n",
    "        except Exception as e:\n",
    "            logger.error(f'Error training {model_name} model: {e}')\n",
    "    return cv.best_estimator_, cv.best_params_\n",
    "\n",
    "def param_tuning_catboost(df_sample, params, target, cat_cols, dataset_name):\n",
    "    logger.info(f'Training CatBoost model for {target}')\n",
    "    model_name = 'CatBoost'\n",
    "    X_train, X_test, y_train, y_test = train_test_split(\n",
    "        df_sample.drop(columns=[target], axis=1),\n",
    "        df_sample[target],\n",
    "        test_size=0.2,\n",
    "        random_state=42)\n",
    "\n",
    "    # Remove 'model__' prefix from parameters\n",
    "    clean_params = {}\n",
    "    for key, value in params.items():\n",
    "        if key.startswith('model__'):\n",
    "            clean_params[key.replace('model__', '')] = value\n",
    "        else:\n",
    "            clean_params[key] = value\n",
    "\n",
    "    model = CatBoostRegressor(silent=True, cat_features=cat_cols)\n",
    "    cv = RandomizedSearchCV(model,\n",
    "                            param_distributions=clean_params,\n",
    "                            n_iter=50,\n",
    "                            cv=3,\n",
    "                            scoring='neg_mean_squared_error',\n",
    "                            verbose=0,\n",
    "                            random_state=42,\n",
    "                            n_jobs=-1,\n",
    "                            refit='neg_mean_squared_error',\n",
    "                            return_train_score=True)\n",
    "    try:\n",
    "        cv.fit(X_train, y_train)\n",
    "        y_pred = cv.predict(X_test)\n",
    "        mse = mean_squared_error(y_test, y_pred)\n",
    "        r2 = r2_score(y_test, y_pred)\n",
    "        logger.info(f'{model_name} model best parameters: {cv.best_params_} on {dataset_name}')\n",
    "        logger.info(f'Best score for {model_name}: Train: {-cv.best_score_}, Test: {mse}, R2 (test): {r2} on {dataset_name}')\n",
    "    except Exception as e:\n",
    "        logger.error(f'Error training {model_name} model: {e}')\n",
    "\n",
    "    return cv.best_estimator_, cv.best_params_"
   ],
   "outputs": [],
   "execution_count": 38
  },
  {
   "cell_type": "code",
   "id": "9191aa550b169230",
   "metadata": {
    "editable": true,
    "slideshow": {
     "slide_type": ""
    },
    "tags": [],
    "ExecuteTime": {
     "end_time": "2025-06-19T14:55:30.100422Z",
     "start_time": "2025-06-19T14:52:54.915588Z"
    }
   },
   "source": [
    "best_model_el,best_params_el = param_tuning_catboost(df_sample=df_el, params=params_cat, target='total_price', cat_cols=cat_cols_el, dataset_name='electric')\n",
    "print(f'Best params for apartments: {best_params_el}')"
   ],
   "outputs": [
    {
     "name": "stderr",
     "output_type": "stream",
     "text": [
      "2025-06-19 16:52:54,918 - model_selectionCars - INFO - Training CatBoost model for total_price\n",
      "2025-06-19 16:55:30,086 - model_selectionCars - INFO - CatBoost model best parameters: {'depth': 7, 'iterations': 1223, 'l2_leaf_reg': np.float64(1.3895264494261033), 'learning_rate': np.float64(0.09150423569345205), 'random_state': 52} on electric\n",
      "2025-06-19 16:55:30,089 - model_selectionCars - INFO - Best score for CatBoost: Train: 2189645470.267216, Test: 1408833243.3819115, R2 (test): 0.9592987893879528 on electric\n"
     ]
    },
    {
     "name": "stdout",
     "output_type": "stream",
     "text": [
      "Best params for apartments: {'depth': 7, 'iterations': 1223, 'l2_leaf_reg': np.float64(1.3895264494261033), 'learning_rate': np.float64(0.09150423569345205), 'random_state': 52}\n"
     ]
    }
   ],
   "execution_count": 39
  },
  {
   "cell_type": "code",
   "id": "3955ced8-961f-4c9e-b4f9-6df3aad5b9d5",
   "metadata": {
    "editable": true,
    "slideshow": {
     "slide_type": ""
    },
    "tags": [],
    "ExecuteTime": {
     "end_time": "2025-06-19T14:52:43.843225Z",
     "start_time": "2025-06-19T14:50:01.301783Z"
    }
   },
   "source": [
    "best_model_fossil,best_params_fossil = param_tuning_catboost(df_sample=df_fossil, params=params_cat, target='total_price', cat_cols=cat_cols_fossil, dataset_name='fossil')\n",
    "print(f'Best params for houses: {best_params_fossil}')"
   ],
   "outputs": [
    {
     "name": "stderr",
     "output_type": "stream",
     "text": [
      "2025-06-19 16:50:01,303 - model_selectionCars - INFO - Training CatBoost model for total_price\n"
     ]
    },
    {
     "name": "stdout",
     "output_type": "stream",
     "text": [
      "Fitting 3 folds for each of 50 candidates, totalling 150 fits\n"
     ]
    },
    {
     "name": "stderr",
     "output_type": "stream",
     "text": [
      "2025-06-19 16:52:43,832 - model_selectionCars - INFO - CatBoost model best parameters: {'depth': 4, 'iterations': 1463, 'l2_leaf_reg': np.float64(1.7419090119209117), 'learning_rate': np.float64(0.10215580871496355), 'random_state': 43} on fossil\n",
      "2025-06-19 16:52:43,834 - model_selectionCars - INFO - Best score for CatBoost: Train: 4775219318.095918, Test: 3763327950.501858, R2 (test): 0.9229957916461713 on fossil\n"
     ]
    },
    {
     "name": "stdout",
     "output_type": "stream",
     "text": [
      "Best params for houses: {'depth': 4, 'iterations': 1463, 'l2_leaf_reg': np.float64(1.7419090119209117), 'learning_rate': np.float64(0.10215580871496355), 'random_state': 43}\n"
     ]
    }
   ],
   "execution_count": 37
  },
  {
   "metadata": {},
   "cell_type": "code",
   "outputs": [],
   "execution_count": null,
   "source": "",
   "id": "f488fd66d3f030f8"
  }
 ],
 "metadata": {
  "environment": {
   "kernel": "conda-base-py",
   "name": "workbench-notebooks.m129",
   "type": "gcloud",
   "uri": "us-docker.pkg.dev/deeplearning-platform-release/gcr.io/workbench-notebooks:m129"
  },
  "kernelspec": {
   "display_name": "Python 3 (ipykernel)",
   "language": "python",
   "name": "python3"
  },
  "language_info": {
   "codemirror_mode": {
    "name": "ipython",
    "version": 3
   },
   "file_extension": ".py",
   "mimetype": "text/x-python",
   "name": "python",
   "nbconvert_exporter": "python",
   "pygments_lexer": "ipython3",
   "version": "3.10.16"
  }
 },
 "nbformat": 4,
 "nbformat_minor": 5
}

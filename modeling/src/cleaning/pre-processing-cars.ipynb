{
 "cells": [
  {
   "cell_type": "code",
   "id": "Xqzrda2z5ZJaxpnKF88Jukdt",
   "metadata": {
    "id": "Xqzrda2z5ZJaxpnKF88Jukdt",
    "tags": [],
    "ExecuteTime": {
     "end_time": "2025-07-09T12:02:58.120103Z",
     "start_time": "2025-07-09T12:02:56.920965Z"
    }
   },
   "source": [
    "import os\n",
    "from src.cleaning.common_functions import *\n",
    "os.chdir(\"../..\")\n",
    "from sibr_module import BigQuery, Logger, CStorage\n",
    "\n",
    "import pandas as pd\n",
    "pd.set_option('display.max_columns', 500)"
   ],
   "outputs": [
    {
     "name": "stderr",
     "output_type": "stream",
     "text": [
      "/Users/sigvardbratlie/Documents/Projects/sibr_market_training/.venv/lib/python3.9/site-packages/urllib3/__init__.py:35: NotOpenSSLWarning: urllib3 v2 only supports OpenSSL 1.1.1+, currently the 'ssl' module is compiled with 'LibreSSL 2.8.3'. See: https://github.com/urllib3/urllib3/issues/3020\n",
      "  warnings.warn(\n"
     ]
    }
   ],
   "execution_count": 1
  },
  {
   "metadata": {
    "ExecuteTime": {
     "end_time": "2025-07-09T12:02:58.905439Z",
     "start_time": "2025-07-09T12:02:58.893009Z"
    }
   },
   "cell_type": "code",
   "source": [
    "replace = True\n",
    "dataset = 'cars'\n",
    "logger = Logger(f'pre_process{dataset.capitalize()}')\n",
    "bq = BigQuery(logger=logger,dataset=dataset)\n",
    "cs = CStorage(logger=logger, bucket_name='sibr-market-bucket')\n",
    "logger.debug(f'Replace: {replace} | Dataset: {dataset}')"
   ],
   "id": "660e2b0b398c559d",
   "outputs": [
    {
     "name": "stderr",
     "output_type": "stream",
     "text": [
      "2025-07-09 14:02:58,896 - pre_processCars - INFO - Cloud Logging is disabled. Using local logging to /Users/sigvardbratlie/Documents/Projects/sibr_market_training/logfiles/pre_processCars.log\n",
      "2025-07-09 14:02:58,901 - pre_processCars - INFO - BigQuery client initialized with project_id: sibr-market\n",
      "2025-07-09 14:02:58,903 - pre_processCars - INFO - Google Cloud Storage client initialized with bucket: sibr-market-bucket\n",
      "2025-07-09 14:02:58,903 - pre_processCars - DEBUG - Replace: True | Dataset: cars\n"
     ]
    }
   ],
   "execution_count": 2
  },
  {
   "cell_type": "code",
   "id": "3mSAo2ISsH4u",
   "metadata": {
    "colab": {
     "base_uri": "https://localhost:8080/",
     "referenced_widgets": [
      "9978c3eaed644ed992073d8a51b421ba",
      "c23911907148402fb01e813dacace25f",
      "4aa7f1b59a754985863226aceae6a358",
      "435f5e57a5a1440aa83deb09c7351d9e",
      "f4aadb39468d426e818e7d5d1e4420e4",
      "0efecf6c931e403d81779d07292a69b0",
      "8b7b7763f1d544689332feea786fd135",
      "66d00030ec8e4e12b7861663dc4faf26",
      "06bbecbbcd9148bf86283f955aa32f8e",
      "4d2d1ed984b54dd58a22d903565364ce",
      "06a6dc0421804690a53c91d90b089d4c",
      "225077afc9064667a5ced49b9a7754e9",
      "a7ccdf6ca26f4a6188fe6101493d80fe",
      "fcd2b9e894e042348019895109f36bd2",
      "09e68d34d3024873a7709e4f0bfc046c",
      "181a5c68f0a745e1b1a6e86493941bd2",
      "fe7b7b5e0f5440b98d1871e3c54a511b",
      "66a79212dc404c678a422d703bd93d67",
      "7f6cd02dd35c43adbe5243abbb4911e0",
      "003b084538784bb69ed6de0fccca8a2f",
      "75ec65ebc565493d9c7fb09b9babbdd8",
      "cf5b5ee7bd5f4cc2ba933608f72bbc1a"
     ]
    },
    "executionInfo": {
     "elapsed": 5197,
     "status": "ok",
     "timestamp": 1749067580204,
     "user": {
      "displayName": "",
      "userId": ""
     },
     "user_tz": -120
    },
    "id": "3mSAo2ISsH4u",
    "outputId": "f0677631-2281-4c6c-f5f4-b88e027ff3ec",
    "ExecuteTime": {
     "end_time": "2025-07-09T12:03:42.506751Z",
     "start_time": "2025-07-09T12:03:01.490655Z"
    }
   },
   "source": "df_ = bq.read_clean(replace = replace)",
   "outputs": [
    {
     "name": "stderr",
     "output_type": "stream",
     "text": [
      "2025-07-09 14:03:01,492 - pre_processCars - INFO - Reading clean data from dataset: cars\n",
      "2025-07-09 14:03:42,504 - pre_processCars - INFO - 547870 rows read from cars. Query: \n",
      "            SELECT c.* FROM sibr-market.clean.cars c\n",
      "            ... (truncated)\n"
     ]
    }
   ],
   "execution_count": 3
  },
  {
   "cell_type": "markdown",
   "id": "KoGM8B88sTDs",
   "metadata": {
    "id": "KoGM8B88sTDs"
   },
   "source": [
    "## Set index and remove empty data"
   ]
  },
  {
   "cell_type": "code",
   "id": "P-25crrasP5K",
   "metadata": {
    "id": "P-25crrasP5K",
    "ExecuteTime": {
     "end_time": "2025-07-09T12:08:54.645426Z",
     "start_time": "2025-07-09T12:08:53.663633Z"
    }
   },
   "source": [
    "df = df_.dropna(subset='item_id')\n",
    "df.set_index('item_id',inplace=True)\n",
    "logger.debug(f'Length of df: {len(df)} | after dropping NaN on item_id')"
   ],
   "outputs": [
    {
     "name": "stderr",
     "output_type": "stream",
     "text": [
      "2025-07-09 14:08:54,642 - pre_processCars - DEBUG - Length of df: 547870 | after dropping NaN on item_id\n"
     ]
    }
   ],
   "execution_count": 7
  },
  {
   "cell_type": "code",
   "id": "5BbImA6ZsWU8",
   "metadata": {
    "id": "5BbImA6ZsWU8",
    "ExecuteTime": {
     "end_time": "2025-07-09T12:09:16.191938Z",
     "start_time": "2025-07-09T12:09:13.354844Z"
    }
   },
   "source": [
    "df.dropna(subset=['total_price','mileage','model_year'],inplace=True)\n",
    "\n",
    "drop = ['address','description','contact_person','phone','url','country','title','web','email','municipality','rn','FIRST','LAST','postal_code','region','last_updated','salgstid'\n",
    "    ,'vin','reg_num','co2','color_description','first_registration','cargo_space','prev_owners',\n",
    "        'last_eu','next_eu','trailer_weight','subtitle','warranty_until','known_issues','engine_tuned',\n",
    "        'liens','major_repairs','state','battery','price_excl_transfer','clean_date','warranty','color_interior', 'gearbox_type','warranty_length','condition_report','warranty'\n",
    "]\n",
    "\n",
    "drop_eq = [x for x in df.columns if x.startswith('eq_') if x not in\n",
    "           ['eq_rear_view_camera','eq_bluetooth','eq_tow_hitch','eq_360_camera','eq_cruise_control','eq_parking_sensor_behind',\n",
    " 'eq_parking_sensor_front', 'eq_air_conditioning','eq_navigation','eq_winter_tires','eq_summer_tires' ,\n",
    " 'eq_skin_interior','eq_apple_carplay','eq_led_lights', 'eq_xenon_lights',]]\n",
    "df.drop(columns=drop_eq, inplace=True, errors='ignore')\n",
    "\n",
    "df.drop(columns=drop,inplace=True,errors = 'ignore')\n",
    "df = rm_empty_features(df)\n",
    "logger.debug(f'Length of df: {len(df)} | after dropping NaN on price, usable_area and bedrooms')"
   ],
   "outputs": [
    {
     "name": "stderr",
     "output_type": "stream",
     "text": [
      "2025-07-09 14:09:16,190 - pre_processCars - DEBUG - Length of df: 547870 | after dropping NaN on price, usable_area and bedrooms\n"
     ]
    }
   ],
   "execution_count": 8
  },
  {
   "cell_type": "markdown",
   "id": "mCyZghGT6uSU",
   "metadata": {
    "id": "mCyZghGT6uSU"
   },
   "source": [
    "## DUMMY VARIABLES"
   ]
  },
  {
   "cell_type": "code",
   "id": "FCNv6G0x6nbl",
   "metadata": {
    "id": "FCNv6G0x6nbl",
    "ExecuteTime": {
     "end_time": "2025-06-25T13:27:44.394314Z",
     "start_time": "2025-06-25T13:27:44.391197Z"
    }
   },
   "source": [
    "\n",
    "# for col in dummy_cols:\n",
    "#     logger.debug(f'Processing column: {col}')\n",
    "#     df.loc[:,col] = df[col].str.lower()\n",
    "#     if col == 'fuel':\n",
    "#         df.loc[:,col] = df[col].map(fuel_mapping).fillna('annet')\n",
    "#     elif col == 'body_type':\n",
    "#         df.loc[:,col] = df[col].map(body_type_mapping).fillna('annet')\n",
    "#     elif col == 'brand':\n",
    "#         df.loc[:,col] = df[col].replace(brand_mapping)\n",
    "#     for cat, num in df[col].value_counts(normalize = True).items():\n",
    "#         if num < 0.01:\n",
    "#             df = df[df[col] != cat]\n",
    "#         #df.loc[:,col] = df[col].astype('category')"
   ],
   "outputs": [],
   "execution_count": 18
  },
  {
   "metadata": {
    "ExecuteTime": {
     "end_time": "2025-07-09T12:09:23.505374Z",
     "start_time": "2025-07-09T12:09:21.017194Z"
    }
   },
   "cell_type": "code",
   "source": [
    "dummy_cols = [\n",
    "    'gearbox',\n",
    "    'fuel',\n",
    "    'color',\n",
    "    'wheel_drive',\n",
    "    'body_type',\n",
    "    'sales_type',\n",
    "    'category',\n",
    "    'brand',\n",
    "    #'model',\n",
    "    'county',\n",
    "]\n",
    "fuel_mapping = {\n",
    "    'diesel': 'diesel',\n",
    "    'bensin': 'bensin',\n",
    "    'el': 'el',\n",
    "    'elektrisitet': 'el',\n",
    "    'el + bensin': 'el + bensin',\n",
    "    'hybrid bensin': 'el + bensin',\n",
    "    'plug-in bensin': 'el + bensin',\n",
    "    'el + diesel': 'el + diesel',\n",
    "    'hybrid diesel': 'el + diesel',\n",
    "    'plug-in diesel': 'el + diesel',\n",
    "    'hydrogen': 'hydrogen'\n",
    "}\n",
    "body_type_mapping = {\n",
    "    'suv/offroad': 'flerbruksbil (af)',\n",
    "    'stasjonsvogn': 'stasjonsvogn (ac)',\n",
    "    'kombi 5-dørs': 'kombikupé (ab)',\n",
    "    '5': 'kombikupé (ab)',\n",
    "    'kasse': 'integrert førerhus (bb)',\n",
    "    'sedan': 'sedan (aa)',\n",
    "    'annet': 'annet',\n",
    "    'flerbruksbil': 'flerbruksbil (af)',\n",
    "    'coupe': 'kupé (ad)',\n",
    "    'cabriolet': 'kabriolet (ae)',\n",
    "    'pickup': 'pick-up (be)',\n",
    "    'kombi 3-dørs': 'kombikupé (ab)',  # endret fra 'kupé (ad)'\n",
    "    '3': 'kombikupé (ab)'  # endret fra 'kupé (ad)'\n",
    "}\n",
    "brand_mapping = {'tesla motors':'tesla',\n",
    "             'bmw i':'bmw',\n",
    "             'alfa' : 'alfa romeo',\n",
    "             'jaguar land rover limited' : 'land rover',\n",
    "             'automobili lamborghini s.p.a.' : 'lamborghini',\n",
    "             'land' : 'land rover',\n",
    "             'rover' : 'land rover',\n",
    "             'range rover' : 'land rover',\n",
    "             'mercedes sprinter / kegger' : 'mercedes-benz',\n",
    "             'mercedes-amg' : 'mercedes-benz',\n",
    "             'ford-cng-technik' : 'ford',\n",
    "             'daimler' : 'mercedes-benz',\n",
    "             'kg mobility' : 'kgm',\n",
    "             'mitsubishi fuso' : 'mitsubishi',\n",
    "             'jaguar cars limited' : 'jaguar'}\n",
    "for col in ['fuel','body_type','brand']:\n",
    "    #logger.debug(f'Processing column: {col}')\n",
    "    df.loc[:,col] = df[col].str.lower()\n",
    "    if col == 'fuel':\n",
    "        df.loc[:,col] = df[col].map(fuel_mapping).fillna('annet')\n",
    "    elif col == 'body_type':\n",
    "        df.loc[:,col] = df[col].map(body_type_mapping).fillna('annet')\n",
    "    elif col == 'brand':\n",
    "        df.loc[:,col] = df[col].replace(brand_mapping)\n",
    "\n",
    "df['dealer'] = df['dealer'].apply(lambda x: False if x.lower() == 'private' else True)\n",
    "\n",
    "df = process_bool(df)\n",
    "\n",
    "logger.debug(f'Length of df: {len(df)} | after mapping categories and creating dummy variables')"
   ],
   "id": "b41432ca2a51cd8b",
   "outputs": [
    {
     "name": "stderr",
     "output_type": "stream",
     "text": [
      "2025-07-09 14:09:23,503 - pre_processCars - DEBUG - Length of df: 547870 | after mapping categories and creating dummy variables\n"
     ]
    }
   ],
   "execution_count": 9
  },
  {
   "metadata": {
    "ExecuteTime": {
     "end_time": "2025-07-09T12:09:24.367984Z",
     "start_time": "2025-07-09T12:09:24.340429Z"
    }
   },
   "cell_type": "code",
   "source": "df_['gearbox'].value_counts()",
   "id": "5769c2afd305a6d2",
   "outputs": [
    {
     "data": {
      "text/plain": [
       "gearbox\n",
       "Automat           425123\n",
       "Manuell           122679\n",
       "Ikke oppgitt          66\n",
       "AutomatAutomat         1\n",
       "MANUAL                 1\n",
       "Name: count, dtype: int64"
      ]
     },
     "execution_count": 10,
     "metadata": {},
     "output_type": "execute_result"
    }
   ],
   "execution_count": 10
  },
  {
   "metadata": {
    "ExecuteTime": {
     "end_time": "2025-07-09T12:09:41.951489Z",
     "start_time": "2025-07-09T12:09:38.464563Z"
    }
   },
   "cell_type": "code",
   "source": [
    "def mk_cat(df, col, valid_values):\n",
    "    \"\"\"\n",
    "    Convert a column to a categorical type with specified valid values.\n",
    "    \"\"\"\n",
    "    df[col] = df[col].apply(lambda x: x.lower() if  isinstance(x,str) else x)\n",
    "    valid_values = [x.lower() for x in valid_values if isinstance(x, str)]\n",
    "    isin = df[col].isin(valid_values)\n",
    "    df = df[isin].copy()\n",
    "    df.loc[:, col] = df[col].astype(str)\n",
    "    df.loc[:, col] = pd.Categorical(df[col], categories=valid_values, ordered=False)\n",
    "    return df\n",
    "\n",
    "col_valid_values = {\n",
    "    'fuel': ['el + bensin','el + diesel', 'diesel', 'el', 'bensin'],\n",
    "    'gearbox': ['automat', 'manuell'],\n",
    "    'color': ['svart', 'grå', 'rød', 'blå', 'sølv', 'grønn', 'brun', 'hvit'],\n",
    "    'wheel_drive': ['forhjulsdrift', 'firehjulsdrift', 'bakhjulsdrift'],\n",
    "    'body_type': [\n",
    "        'flerbruksbil (af)',\n",
    "        'stasjonsvogn (ac)',\n",
    "        'kombikupé (ab)',\n",
    "        'integrert førerhus (bb)',\n",
    "        'sedan (aa)',\n",
    "        'pick-up (be)',\n",
    "        'kupé (ad)',\n",
    "        'annet'\n",
    "    ],\n",
    "    'sales_type': ['bruktbil til salgs', 'auksjon', 'nybil til salgs'],\n",
    "    'brand': [\n",
    "        'ford', 'skoda', 'bmw', 'volvo', 'peugeot', 'mercedes-benz',\n",
    "        'volkswagen', 'kia', 'toyota', 'audi', 'porsche', 'citroen',\n",
    "        'opel', 'nissan', 'renault', 'hyundai', 'mazda', 'tesla',\n",
    "        'mitsubishi', 'suzuki'\n",
    "    ],\n",
    "    'county': [\n",
    "        'rogaland', 'innlandet', 'buskerud', 'akershus', 'møre og romsdal',\n",
    "        'vestfold', 'oslo', 'vestland', 'nordland', 'trøndelag', 'agder',\n",
    "        'østfold', 'telemark', 'troms'\n",
    "    ],\n",
    "    'category': ['personbil', 'varebil']\n",
    "}\n",
    "for col, valid_values in col_valid_values.items():\n",
    "    df = mk_cat(df, col, valid_values)\n",
    "    logger.debug(f'Length of df: {len(df)} | removing unwanted categories from {col}')\n",
    "\n",
    "logger.debug(f'Length of df: {len(df)} | after mapping and removing unwanted categories')"
   ],
   "id": "69983b4b2cbf3975",
   "outputs": [
    {
     "name": "stderr",
     "output_type": "stream",
     "text": [
      "2025-07-09 14:09:38,971 - pre_processCars - DEBUG - Length of df: 547405 | removing unwanted categories from fuel\n",
      "2025-07-09 14:09:39,346 - pre_processCars - DEBUG - Length of df: 547340 | removing unwanted categories from gearbox\n",
      "2025-07-09 14:09:39,736 - pre_processCars - DEBUG - Length of df: 533514 | removing unwanted categories from color\n",
      "2025-07-09 14:09:40,111 - pre_processCars - DEBUG - Length of df: 532097 | removing unwanted categories from wheel_drive\n",
      "2025-07-09 14:09:40,515 - pre_processCars - DEBUG - Length of df: 526989 | removing unwanted categories from body_type\n",
      "2025-07-09 14:09:40,890 - pre_processCars - DEBUG - Length of df: 526770 | removing unwanted categories from sales_type\n",
      "2025-07-09 14:09:41,249 - pre_processCars - DEBUG - Length of df: 484335 | removing unwanted categories from brand\n",
      "2025-07-09 14:09:41,629 - pre_processCars - DEBUG - Length of df: 477602 | removing unwanted categories from county\n",
      "2025-07-09 14:09:41,949 - pre_processCars - DEBUG - Length of df: 476639 | removing unwanted categories from category\n",
      "2025-07-09 14:09:41,950 - pre_processCars - DEBUG - Length of df: 476639 | after mapping and removing unwanted categories\n"
     ]
    }
   ],
   "execution_count": 11
  },
  {
   "metadata": {
    "ExecuteTime": {
     "end_time": "2025-07-09T12:09:45.927721Z",
     "start_time": "2025-07-09T12:09:45.822582Z"
    }
   },
   "cell_type": "code",
   "source": [
    "df = df[df['sales_type'] != 'leasing']\n",
    "\n",
    "logger.debug(f'Length of df: {len(df)} | After filtering sales_type')"
   ],
   "id": "43690bc6c59e43e6",
   "outputs": [
    {
     "name": "stderr",
     "output_type": "stream",
     "text": [
      "2025-07-09 14:09:45,925 - pre_processCars - DEBUG - Length of df: 476639 | After filtering sales_type\n"
     ]
    }
   ],
   "execution_count": 12
  },
  {
   "metadata": {},
   "cell_type": "markdown",
   "source": "## Features",
   "id": "4fb3857ec0a7af23"
  },
  {
   "metadata": {
    "ExecuteTime": {
     "end_time": "2025-07-09T12:09:49.631269Z",
     "start_time": "2025-07-09T12:09:48.436922Z"
    }
   },
   "cell_type": "code",
   "source": [
    "df['n_features'] = df['features'].apply(lambda x: len(x.split(',')) if isinstance(x, str) else 0)\n",
    "df.drop('features', axis=1, inplace=True)\n",
    "# # Step 1: Find the 10 most common features\n",
    "# features_lists = df['features'].dropna().apply(lambda x: [f.strip() for f in x.split(',')])\n",
    "# feature_counts = Counter(chain.from_iterable(features_lists))\n",
    "# top_10_features = set([f for f, _ in feature_counts.most_common(10)])\n",
    "#\n",
    "# # Step 2 & 3: Filter and update the features column\n",
    "# def filter_top_features(feature_str):\n",
    "#     if pd.isna(feature_str):\n",
    "#         return feature_str\n",
    "#     features = [f.strip() for f in feature_str.split(',')]\n",
    "#     filtered = [f for f in features if f in top_10_features]\n",
    "#     return ', '.join(filtered) if filtered else np.nan\n",
    "#\n",
    "# df['features'] = df['features'].apply(filter_top_features)"
   ],
   "id": "671ab90153047331",
   "outputs": [],
   "execution_count": 13
  },
  {
   "cell_type": "markdown",
   "id": "H8cpmk78WHQX",
   "metadata": {
    "id": "H8cpmk78WHQX"
   },
   "source": "## DATE COLUMNS"
  },
  {
   "cell_type": "code",
   "id": "Ei3j-zrr_An4",
   "metadata": {
    "id": "Ei3j-zrr_An4",
    "ExecuteTime": {
     "end_time": "2025-07-09T12:09:58.952848Z",
     "start_time": "2025-07-09T12:09:58.819824Z"
    }
   },
   "source": [
    "df['scrape_date'] = pd.to_datetime(df['scrape_date'], errors='coerce')\n",
    "df['day'] = df['scrape_date'].dt.day\n",
    "df['month'] = df['scrape_date'].dt.month\n",
    "df['year'] = df['scrape_date'].dt.year\n",
    "df.drop('scrape_date',axis=1,inplace=True)\n",
    "df['pre_processed_date'] = pd.Timestamp.now()\n",
    "logger.debug(f'Length of df: {len(df)} | after date columns')"
   ],
   "outputs": [
    {
     "name": "stderr",
     "output_type": "stream",
     "text": [
      "2025-07-09 14:09:58,951 - pre_processCars - DEBUG - Length of df: 476639 | after date columns\n"
     ]
    }
   ],
   "execution_count": 14
  },
  {
   "metadata": {},
   "cell_type": "markdown",
   "source": "## ENSURE CORRECT DATA TYPES",
   "id": "85aece5f37a120ce"
  },
  {
   "metadata": {
    "ExecuteTime": {
     "end_time": "2025-07-09T12:10:00.905007Z",
     "start_time": "2025-07-09T12:10:00.851377Z"
    }
   },
   "cell_type": "code",
   "source": "df = ensure_num_types(df,num_types=['int','float'])",
   "id": "203c1400e4c3b7b4",
   "outputs": [],
   "execution_count": 15
  },
  {
   "metadata": {},
   "cell_type": "markdown",
   "source": "## Split electric & fossil",
   "id": "c030cbd628cc453e"
  },
  {
   "metadata": {
    "ExecuteTime": {
     "end_time": "2025-07-09T12:10:03.118944Z",
     "start_time": "2025-07-09T12:10:03.004532Z"
    }
   },
   "cell_type": "code",
   "source": [
    "df_el = df[df['fuel'] == 'el']\n",
    "df_fossil = df[df['fuel'] != 'el']"
   ],
   "id": "35d086f4522fc93d",
   "outputs": [],
   "execution_count": 16
  },
  {
   "cell_type": "markdown",
   "id": "WEP4DPhUWU-9",
   "metadata": {
    "id": "WEP4DPhUWU-9"
   },
   "source": "## ELECTRIC"
  },
  {
   "metadata": {
    "ExecuteTime": {
     "end_time": "2025-07-09T12:10:04.235828Z",
     "start_time": "2025-07-09T12:10:04.142346Z"
    }
   },
   "cell_type": "code",
   "source": [
    "df_el.dropna(subset=['range'],inplace=True)\n",
    "df_el.drop(columns=['engine_volume'], inplace=True, errors='ignore')\n",
    "df_el.info()"
   ],
   "id": "59607d4f77f045a5",
   "outputs": [
    {
     "name": "stdout",
     "output_type": "stream",
     "text": [
      "<class 'pandas.core.frame.DataFrame'>\n",
      "Index: 126890 entries, 365946617 to 401238336\n",
      "Data columns (total 42 columns):\n",
      " #   Column                         Non-Null Count   Dtype         \n",
      "---  ------                         --------------   -----         \n",
      " 0   model_year                     126890 non-null  Int64         \n",
      " 1   mileage                        126890 non-null  Int64         \n",
      " 2   gearbox                        126890 non-null  object        \n",
      " 3   fuel                           126890 non-null  object        \n",
      " 4   transfer_fee                   126890 non-null  Int64         \n",
      " 5   color                          126890 non-null  object        \n",
      " 6   wheel_drive                    126890 non-null  object        \n",
      " 7   power                          126890 non-null  Int64         \n",
      " 8   weight                         126890 non-null  Int64         \n",
      " 9   seats                          126890 non-null  Int64         \n",
      " 10  body_type                      126890 non-null  object        \n",
      " 11  doors                          126890 non-null  Int64         \n",
      " 12  sales_type                     126890 non-null  object        \n",
      " 13  category                       126890 non-null  object        \n",
      " 14  range                          126890 non-null  Int64         \n",
      " 15  total_price                    126890 non-null  Int64         \n",
      " 16  brand                          126890 non-null  object        \n",
      " 17  model                          126869 non-null  object        \n",
      " 18  county                         126890 non-null  object        \n",
      " 19  dealer_True                    126890 non-null  bool          \n",
      " 20  car_for_parts_True             126890 non-null  bool          \n",
      " 21  timing_belt_True               126890 non-null  bool          \n",
      " 22  eq_cruise_control_True         126890 non-null  bool          \n",
      " 23  eq_parking_sensor_behind_True  126890 non-null  bool          \n",
      " 24  eq_parking_sensor_front_True   126890 non-null  bool          \n",
      " 25  eq_rear_view_camera_True       126890 non-null  bool          \n",
      " 26  eq_bluetooth_True              126890 non-null  bool          \n",
      " 27  eq_tow_hitch_True              126890 non-null  bool          \n",
      " 28  eq_360_camera_True             126890 non-null  bool          \n",
      " 29  eq_skin_interior_True          126890 non-null  bool          \n",
      " 30  eq_air_conditioning_True       126890 non-null  bool          \n",
      " 31  eq_apple_carplay_True          126890 non-null  bool          \n",
      " 32  eq_led_lights_True             126890 non-null  bool          \n",
      " 33  eq_xenon_lights_True           126890 non-null  bool          \n",
      " 34  eq_navigation_True             126890 non-null  bool          \n",
      " 35  eq_winter_tires_True           126890 non-null  bool          \n",
      " 36  eq_summer_tires_True           126890 non-null  bool          \n",
      " 37  n_features                     126890 non-null  Int64         \n",
      " 38  day                            126890 non-null  Int64         \n",
      " 39  month                          126890 non-null  Int64         \n",
      " 40  year                           126890 non-null  Int64         \n",
      " 41  pre_processed_date             126890 non-null  datetime64[us]\n",
      "dtypes: Int64(13), bool(18), datetime64[us](1), object(10)\n",
      "memory usage: 28.0+ MB\n"
     ]
    },
    {
     "name": "stderr",
     "output_type": "stream",
     "text": [
      "/var/folders/qv/k9q4x60x4wn1fy68fsy_wtl00000gn/T/ipykernel_23105/966714333.py:1: SettingWithCopyWarning: \n",
      "A value is trying to be set on a copy of a slice from a DataFrame\n",
      "\n",
      "See the caveats in the documentation: https://pandas.pydata.org/pandas-docs/stable/user_guide/indexing.html#returning-a-view-versus-a-copy\n",
      "  df_el.dropna(subset=['range'],inplace=True)\n",
      "/var/folders/qv/k9q4x60x4wn1fy68fsy_wtl00000gn/T/ipykernel_23105/966714333.py:2: SettingWithCopyWarning: \n",
      "A value is trying to be set on a copy of a slice from a DataFrame\n",
      "\n",
      "See the caveats in the documentation: https://pandas.pydata.org/pandas-docs/stable/user_guide/indexing.html#returning-a-view-versus-a-copy\n",
      "  df_el.drop(columns=['engine_volume'], inplace=True, errors='ignore')\n"
     ]
    }
   ],
   "execution_count": 17
  },
  {
   "cell_type": "code",
   "id": "yUaf_4iV7Qy1",
   "metadata": {
    "colab": {
     "base_uri": "https://localhost:8080/"
    },
    "executionInfo": {
     "elapsed": 3200,
     "status": "ok",
     "timestamp": 1749067583402,
     "user": {
      "displayName": "",
      "userId": ""
     },
     "user_tz": -120
    },
    "id": "yUaf_4iV7Qy1",
    "outputId": "1ed87e68-6fc9-491c-fbd2-65e3e73c12e8",
    "ExecuteTime": {
     "end_time": "2025-07-09T12:10:21.286434Z",
     "start_time": "2025-07-09T12:10:15.877665Z"
    }
   },
   "source": [
    "logger.debug(f'Length of df_el: {len(df_el)} | before saving to BQ. Replace is {replace}')\n",
    "if replace:\n",
    "    bq.to_bq(df_el,\n",
    "             table_name=f'{dataset}_el',\n",
    "             dataset_name='pre_processed',\n",
    "             if_exists='replace')\n",
    "else:\n",
    "    bq.to_bq(df_el,\n",
    "             table_name=f'{dataset}_el',\n",
    "             dataset_name='pre_processed',\n",
    "             if_exists='merge',\n",
    "             merge_on=['item_id'])"
   ],
   "outputs": [
    {
     "name": "stderr",
     "output_type": "stream",
     "text": [
      "2025-07-09 14:10:15,880 - pre_processCars - DEBUG - Length of df_el: 126890 | before saving to BQ. Replace is True\n",
      "2025-07-09 14:10:21,282 - pre_processCars - INFO - 126890 rader lagret i sibr-market.pre_processed.cars_el\n"
     ]
    }
   ],
   "execution_count": 18
  },
  {
   "cell_type": "markdown",
   "id": "MYXrnd9hXWRz",
   "metadata": {
    "id": "MYXrnd9hXWRz"
   },
   "source": "## FOSSIL"
  },
  {
   "cell_type": "code",
   "id": "v3QqqayC9xac",
   "metadata": {
    "id": "v3QqqayC9xac",
    "ExecuteTime": {
     "end_time": "2025-07-09T12:10:21.456242Z",
     "start_time": "2025-07-09T12:10:21.340088Z"
    }
   },
   "source": [
    "df_fossil = df_fossil.drop(columns=['range'], errors='ignore')\n",
    "df_fossil.info()"
   ],
   "outputs": [
    {
     "name": "stdout",
     "output_type": "stream",
     "text": [
      "<class 'pandas.core.frame.DataFrame'>\n",
      "Index: 336319 entries, 400706752 to 390060678\n",
      "Data columns (total 42 columns):\n",
      " #   Column                         Non-Null Count   Dtype         \n",
      "---  ------                         --------------   -----         \n",
      " 0   model_year                     336319 non-null  Int64         \n",
      " 1   mileage                        336319 non-null  Int64         \n",
      " 2   gearbox                        336319 non-null  object        \n",
      " 3   fuel                           336319 non-null  object        \n",
      " 4   transfer_fee                   336319 non-null  Int64         \n",
      " 5   color                          336319 non-null  object        \n",
      " 6   wheel_drive                    336319 non-null  object        \n",
      " 7   power                          336319 non-null  Int64         \n",
      " 8   engine_volume                  327449 non-null  Float64       \n",
      " 9   weight                         336319 non-null  Int64         \n",
      " 10  seats                          336319 non-null  Int64         \n",
      " 11  body_type                      336319 non-null  object        \n",
      " 12  doors                          336319 non-null  Int64         \n",
      " 13  sales_type                     336319 non-null  object        \n",
      " 14  category                       336319 non-null  object        \n",
      " 15  total_price                    336319 non-null  Int64         \n",
      " 16  brand                          336319 non-null  object        \n",
      " 17  model                          336148 non-null  object        \n",
      " 18  county                         336319 non-null  object        \n",
      " 19  dealer_True                    336319 non-null  bool          \n",
      " 20  car_for_parts_True             336319 non-null  bool          \n",
      " 21  timing_belt_True               336319 non-null  bool          \n",
      " 22  eq_cruise_control_True         336319 non-null  bool          \n",
      " 23  eq_parking_sensor_behind_True  336319 non-null  bool          \n",
      " 24  eq_parking_sensor_front_True   336319 non-null  bool          \n",
      " 25  eq_rear_view_camera_True       336319 non-null  bool          \n",
      " 26  eq_bluetooth_True              336319 non-null  bool          \n",
      " 27  eq_tow_hitch_True              336319 non-null  bool          \n",
      " 28  eq_360_camera_True             336319 non-null  bool          \n",
      " 29  eq_skin_interior_True          336319 non-null  bool          \n",
      " 30  eq_air_conditioning_True       336319 non-null  bool          \n",
      " 31  eq_apple_carplay_True          336319 non-null  bool          \n",
      " 32  eq_led_lights_True             336319 non-null  bool          \n",
      " 33  eq_xenon_lights_True           336319 non-null  bool          \n",
      " 34  eq_navigation_True             336319 non-null  bool          \n",
      " 35  eq_winter_tires_True           336319 non-null  bool          \n",
      " 36  eq_summer_tires_True           336319 non-null  bool          \n",
      " 37  n_features                     336319 non-null  Int64         \n",
      " 38  day                            336319 non-null  Int64         \n",
      " 39  month                          336319 non-null  Int64         \n",
      " 40  year                           336319 non-null  Int64         \n",
      " 41  pre_processed_date             336319 non-null  datetime64[us]\n",
      "dtypes: Float64(1), Int64(12), bool(18), datetime64[us](1), object(10)\n",
      "memory usage: 74.1+ MB\n"
     ]
    }
   ],
   "execution_count": 19
  },
  {
   "cell_type": "code",
   "id": "s1BtTmTDeZ_X",
   "metadata": {
    "colab": {
     "base_uri": "https://localhost:8080/"
    },
    "executionInfo": {
     "elapsed": 4142,
     "status": "ok",
     "timestamp": 1749067587542,
     "user": {
      "displayName": "",
      "userId": ""
     },
     "user_tz": -120
    },
    "id": "s1BtTmTDeZ_X",
    "outputId": "db2df971-d17a-4f2c-9121-2303b6fd5bee",
    "ExecuteTime": {
     "end_time": "2025-07-09T12:10:29.045752Z",
     "start_time": "2025-07-09T12:10:21.499406Z"
    }
   },
   "source": [
    "logger.debug(f'Length of df_fossil: {len(df_fossil)} | Before saving to BQ. Replace is {replace}')\n",
    "if replace:\n",
    "    bq.to_bq(df_fossil,\n",
    "             table_name=f'{dataset}_fossil',\n",
    "             dataset_name='pre_processed',\n",
    "             if_exists='replace')\n",
    "else:\n",
    "    bq.to_bq(df_fossil,\n",
    "             table_name=f'{dataset}_fossil',\n",
    "             dataset_name='pre_processed',\n",
    "             if_exists='merge',\n",
    "             merge_on=['item_id'])"
   ],
   "outputs": [
    {
     "name": "stderr",
     "output_type": "stream",
     "text": [
      "2025-07-09 14:10:21,500 - pre_processCars - DEBUG - Length of df_fossil: 336319 | Before saving to BQ. Replace is True\n",
      "2025-07-09 14:10:29,043 - pre_processCars - INFO - 336319 rader lagret i sibr-market.pre_processed.cars_fossil\n"
     ]
    }
   ],
   "execution_count": 20
  },
  {
   "metadata": {
    "ExecuteTime": {
     "end_time": "2025-07-09T12:10:29.091254Z",
     "start_time": "2025-07-09T12:10:29.089553Z"
    }
   },
   "cell_type": "code",
   "source": "",
   "id": "5deee05e7a732409",
   "outputs": [],
   "execution_count": null
  },
  {
   "metadata": {},
   "cell_type": "code",
   "outputs": [],
   "execution_count": null,
   "source": "",
   "id": "de4545158448244b"
  }
 ],
 "metadata": {
  "colab": {
   "name": "pre-processing-rentals",
   "provenance": []
  },
  "environment": {
   "kernel": "conda-base-py",
   "name": "workbench-notebooks.m129",
   "type": "gcloud",
   "uri": "us-docker.pkg.dev/deeplearning-platform-release/gcr.io/workbench-notebooks:m129"
  },
  "kernelspec": {
   "display_name": "Python 3 (ipykernel)",
   "language": "python",
   "name": "python3"
  },
  "language_info": {
   "codemirror_mode": {
    "name": "ipython",
    "version": 3
   },
   "file_extension": ".py",
   "mimetype": "text/x-python",
   "name": "python",
   "nbconvert_exporter": "python",
   "pygments_lexer": "ipython3",
   "version": "3.10.16"
  },
  "widgets": {
   "application/vnd.jupyter.widget-state+json": {
    "003b084538784bb69ed6de0fccca8a2f": {
     "model_module": "@jupyter-widgets/controls",
     "model_module_version": "1.5.0",
     "model_name": "ProgressStyleModel",
     "state": {
      "_model_module": "@jupyter-widgets/controls",
      "_model_module_version": "1.5.0",
      "_model_name": "ProgressStyleModel",
      "_view_count": null,
      "_view_module": "@jupyter-widgets/base",
      "_view_module_version": "1.2.0",
      "_view_name": "StyleView",
      "bar_color": null,
      "description_width": ""
     }
    },
    "06a6dc0421804690a53c91d90b089d4c": {
     "model_module": "@jupyter-widgets/controls",
     "model_module_version": "1.5.0",
     "model_name": "DescriptionStyleModel",
     "state": {
      "_model_module": "@jupyter-widgets/controls",
      "_model_module_version": "1.5.0",
      "_model_name": "DescriptionStyleModel",
      "_view_count": null,
      "_view_module": "@jupyter-widgets/base",
      "_view_module_version": "1.2.0",
      "_view_name": "StyleView",
      "description_width": ""
     }
    },
    "06bbecbbcd9148bf86283f955aa32f8e": {
     "model_module": "@jupyter-widgets/controls",
     "model_module_version": "1.5.0",
     "model_name": "ProgressStyleModel",
     "state": {
      "_model_module": "@jupyter-widgets/controls",
      "_model_module_version": "1.5.0",
      "_model_name": "ProgressStyleModel",
      "_view_count": null,
      "_view_module": "@jupyter-widgets/base",
      "_view_module_version": "1.2.0",
      "_view_name": "StyleView",
      "bar_color": null,
      "description_width": ""
     }
    },
    "09e68d34d3024873a7709e4f0bfc046c": {
     "model_module": "@jupyter-widgets/controls",
     "model_module_version": "1.5.0",
     "model_name": "HTMLModel",
     "state": {
      "_dom_classes": [],
      "_model_module": "@jupyter-widgets/controls",
      "_model_module_version": "1.5.0",
      "_model_name": "HTMLModel",
      "_view_count": null,
      "_view_module": "@jupyter-widgets/controls",
      "_view_module_version": "1.5.0",
      "_view_name": "HTMLView",
      "description": "",
      "description_tooltip": null,
      "layout": "IPY_MODEL_75ec65ebc565493d9c7fb09b9babbdd8",
      "placeholder": "​",
      "style": "IPY_MODEL_cf5b5ee7bd5f4cc2ba933608f72bbc1a",
      "value": ""
     }
    },
    "0efecf6c931e403d81779d07292a69b0": {
     "model_module": "@jupyter-widgets/base",
     "model_module_version": "1.2.0",
     "model_name": "LayoutModel",
     "state": {
      "_model_module": "@jupyter-widgets/base",
      "_model_module_version": "1.2.0",
      "_model_name": "LayoutModel",
      "_view_count": null,
      "_view_module": "@jupyter-widgets/base",
      "_view_module_version": "1.2.0",
      "_view_name": "LayoutView",
      "align_content": null,
      "align_items": null,
      "align_self": null,
      "border": null,
      "bottom": null,
      "display": null,
      "flex": null,
      "flex_flow": null,
      "grid_area": null,
      "grid_auto_columns": null,
      "grid_auto_flow": null,
      "grid_auto_rows": null,
      "grid_column": null,
      "grid_gap": null,
      "grid_row": null,
      "grid_template_areas": null,
      "grid_template_columns": null,
      "grid_template_rows": null,
      "height": null,
      "justify_content": null,
      "justify_items": null,
      "left": null,
      "margin": null,
      "max_height": null,
      "max_width": null,
      "min_height": null,
      "min_width": null,
      "object_fit": null,
      "object_position": null,
      "order": null,
      "overflow": null,
      "overflow_x": null,
      "overflow_y": null,
      "padding": null,
      "right": null,
      "top": null,
      "visibility": null,
      "width": null
     }
    },
    "181a5c68f0a745e1b1a6e86493941bd2": {
     "model_module": "@jupyter-widgets/base",
     "model_module_version": "1.2.0",
     "model_name": "LayoutModel",
     "state": {
      "_model_module": "@jupyter-widgets/base",
      "_model_module_version": "1.2.0",
      "_model_name": "LayoutModel",
      "_view_count": null,
      "_view_module": "@jupyter-widgets/base",
      "_view_module_version": "1.2.0",
      "_view_name": "LayoutView",
      "align_content": null,
      "align_items": null,
      "align_self": null,
      "border": null,
      "bottom": null,
      "display": null,
      "flex": null,
      "flex_flow": null,
      "grid_area": null,
      "grid_auto_columns": null,
      "grid_auto_flow": null,
      "grid_auto_rows": null,
      "grid_column": null,
      "grid_gap": null,
      "grid_row": null,
      "grid_template_areas": null,
      "grid_template_columns": null,
      "grid_template_rows": null,
      "height": null,
      "justify_content": null,
      "justify_items": null,
      "left": null,
      "margin": null,
      "max_height": null,
      "max_width": null,
      "min_height": null,
      "min_width": null,
      "object_fit": null,
      "object_position": null,
      "order": null,
      "overflow": null,
      "overflow_x": null,
      "overflow_y": null,
      "padding": null,
      "right": null,
      "top": null,
      "visibility": null,
      "width": null
     }
    },
    "225077afc9064667a5ced49b9a7754e9": {
     "model_module": "@jupyter-widgets/controls",
     "model_module_version": "1.5.0",
     "model_name": "HBoxModel",
     "state": {
      "_dom_classes": [],
      "_model_module": "@jupyter-widgets/controls",
      "_model_module_version": "1.5.0",
      "_model_name": "HBoxModel",
      "_view_count": null,
      "_view_module": "@jupyter-widgets/controls",
      "_view_module_version": "1.5.0",
      "_view_name": "HBoxView",
      "box_style": "",
      "children": [
       "IPY_MODEL_a7ccdf6ca26f4a6188fe6101493d80fe",
       "IPY_MODEL_fcd2b9e894e042348019895109f36bd2",
       "IPY_MODEL_09e68d34d3024873a7709e4f0bfc046c"
      ],
      "layout": "IPY_MODEL_181a5c68f0a745e1b1a6e86493941bd2"
     }
    },
    "435f5e57a5a1440aa83deb09c7351d9e": {
     "model_module": "@jupyter-widgets/controls",
     "model_module_version": "1.5.0",
     "model_name": "HTMLModel",
     "state": {
      "_dom_classes": [],
      "_model_module": "@jupyter-widgets/controls",
      "_model_module_version": "1.5.0",
      "_model_name": "HTMLModel",
      "_view_count": null,
      "_view_module": "@jupyter-widgets/controls",
      "_view_module_version": "1.5.0",
      "_view_name": "HTMLView",
      "description": "",
      "description_tooltip": null,
      "layout": "IPY_MODEL_4d2d1ed984b54dd58a22d903565364ce",
      "placeholder": "​",
      "style": "IPY_MODEL_06a6dc0421804690a53c91d90b089d4c",
      "value": ""
     }
    },
    "4aa7f1b59a754985863226aceae6a358": {
     "model_module": "@jupyter-widgets/controls",
     "model_module_version": "1.5.0",
     "model_name": "FloatProgressModel",
     "state": {
      "_dom_classes": [],
      "_model_module": "@jupyter-widgets/controls",
      "_model_module_version": "1.5.0",
      "_model_name": "FloatProgressModel",
      "_view_count": null,
      "_view_module": "@jupyter-widgets/controls",
      "_view_module_version": "1.5.0",
      "_view_name": "ProgressView",
      "bar_style": "success",
      "description": "",
      "description_tooltip": null,
      "layout": "IPY_MODEL_66d00030ec8e4e12b7861663dc4faf26",
      "max": 1,
      "min": 0,
      "orientation": "horizontal",
      "style": "IPY_MODEL_06bbecbbcd9148bf86283f955aa32f8e",
      "value": 1
     }
    },
    "4d2d1ed984b54dd58a22d903565364ce": {
     "model_module": "@jupyter-widgets/base",
     "model_module_version": "1.2.0",
     "model_name": "LayoutModel",
     "state": {
      "_model_module": "@jupyter-widgets/base",
      "_model_module_version": "1.2.0",
      "_model_name": "LayoutModel",
      "_view_count": null,
      "_view_module": "@jupyter-widgets/base",
      "_view_module_version": "1.2.0",
      "_view_name": "LayoutView",
      "align_content": null,
      "align_items": null,
      "align_self": null,
      "border": null,
      "bottom": null,
      "display": null,
      "flex": null,
      "flex_flow": null,
      "grid_area": null,
      "grid_auto_columns": null,
      "grid_auto_flow": null,
      "grid_auto_rows": null,
      "grid_column": null,
      "grid_gap": null,
      "grid_row": null,
      "grid_template_areas": null,
      "grid_template_columns": null,
      "grid_template_rows": null,
      "height": null,
      "justify_content": null,
      "justify_items": null,
      "left": null,
      "margin": null,
      "max_height": null,
      "max_width": null,
      "min_height": null,
      "min_width": null,
      "object_fit": null,
      "object_position": null,
      "order": null,
      "overflow": null,
      "overflow_x": null,
      "overflow_y": null,
      "padding": null,
      "right": null,
      "top": null,
      "visibility": null,
      "width": null
     }
    },
    "66a79212dc404c678a422d703bd93d67": {
     "model_module": "@jupyter-widgets/controls",
     "model_module_version": "1.5.0",
     "model_name": "DescriptionStyleModel",
     "state": {
      "_model_module": "@jupyter-widgets/controls",
      "_model_module_version": "1.5.0",
      "_model_name": "DescriptionStyleModel",
      "_view_count": null,
      "_view_module": "@jupyter-widgets/base",
      "_view_module_version": "1.2.0",
      "_view_name": "StyleView",
      "description_width": ""
     }
    },
    "66d00030ec8e4e12b7861663dc4faf26": {
     "model_module": "@jupyter-widgets/base",
     "model_module_version": "1.2.0",
     "model_name": "LayoutModel",
     "state": {
      "_model_module": "@jupyter-widgets/base",
      "_model_module_version": "1.2.0",
      "_model_name": "LayoutModel",
      "_view_count": null,
      "_view_module": "@jupyter-widgets/base",
      "_view_module_version": "1.2.0",
      "_view_name": "LayoutView",
      "align_content": null,
      "align_items": null,
      "align_self": null,
      "border": null,
      "bottom": null,
      "display": null,
      "flex": null,
      "flex_flow": null,
      "grid_area": null,
      "grid_auto_columns": null,
      "grid_auto_flow": null,
      "grid_auto_rows": null,
      "grid_column": null,
      "grid_gap": null,
      "grid_row": null,
      "grid_template_areas": null,
      "grid_template_columns": null,
      "grid_template_rows": null,
      "height": null,
      "justify_content": null,
      "justify_items": null,
      "left": null,
      "margin": null,
      "max_height": null,
      "max_width": null,
      "min_height": null,
      "min_width": null,
      "object_fit": null,
      "object_position": null,
      "order": null,
      "overflow": null,
      "overflow_x": null,
      "overflow_y": null,
      "padding": null,
      "right": null,
      "top": null,
      "visibility": null,
      "width": null
     }
    },
    "75ec65ebc565493d9c7fb09b9babbdd8": {
     "model_module": "@jupyter-widgets/base",
     "model_module_version": "1.2.0",
     "model_name": "LayoutModel",
     "state": {
      "_model_module": "@jupyter-widgets/base",
      "_model_module_version": "1.2.0",
      "_model_name": "LayoutModel",
      "_view_count": null,
      "_view_module": "@jupyter-widgets/base",
      "_view_module_version": "1.2.0",
      "_view_name": "LayoutView",
      "align_content": null,
      "align_items": null,
      "align_self": null,
      "border": null,
      "bottom": null,
      "display": null,
      "flex": null,
      "flex_flow": null,
      "grid_area": null,
      "grid_auto_columns": null,
      "grid_auto_flow": null,
      "grid_auto_rows": null,
      "grid_column": null,
      "grid_gap": null,
      "grid_row": null,
      "grid_template_areas": null,
      "grid_template_columns": null,
      "grid_template_rows": null,
      "height": null,
      "justify_content": null,
      "justify_items": null,
      "left": null,
      "margin": null,
      "max_height": null,
      "max_width": null,
      "min_height": null,
      "min_width": null,
      "object_fit": null,
      "object_position": null,
      "order": null,
      "overflow": null,
      "overflow_x": null,
      "overflow_y": null,
      "padding": null,
      "right": null,
      "top": null,
      "visibility": null,
      "width": null
     }
    },
    "7f6cd02dd35c43adbe5243abbb4911e0": {
     "model_module": "@jupyter-widgets/base",
     "model_module_version": "1.2.0",
     "model_name": "LayoutModel",
     "state": {
      "_model_module": "@jupyter-widgets/base",
      "_model_module_version": "1.2.0",
      "_model_name": "LayoutModel",
      "_view_count": null,
      "_view_module": "@jupyter-widgets/base",
      "_view_module_version": "1.2.0",
      "_view_name": "LayoutView",
      "align_content": null,
      "align_items": null,
      "align_self": null,
      "border": null,
      "bottom": null,
      "display": null,
      "flex": null,
      "flex_flow": null,
      "grid_area": null,
      "grid_auto_columns": null,
      "grid_auto_flow": null,
      "grid_auto_rows": null,
      "grid_column": null,
      "grid_gap": null,
      "grid_row": null,
      "grid_template_areas": null,
      "grid_template_columns": null,
      "grid_template_rows": null,
      "height": null,
      "justify_content": null,
      "justify_items": null,
      "left": null,
      "margin": null,
      "max_height": null,
      "max_width": null,
      "min_height": null,
      "min_width": null,
      "object_fit": null,
      "object_position": null,
      "order": null,
      "overflow": null,
      "overflow_x": null,
      "overflow_y": null,
      "padding": null,
      "right": null,
      "top": null,
      "visibility": null,
      "width": null
     }
    },
    "8b7b7763f1d544689332feea786fd135": {
     "model_module": "@jupyter-widgets/controls",
     "model_module_version": "1.5.0",
     "model_name": "DescriptionStyleModel",
     "state": {
      "_model_module": "@jupyter-widgets/controls",
      "_model_module_version": "1.5.0",
      "_model_name": "DescriptionStyleModel",
      "_view_count": null,
      "_view_module": "@jupyter-widgets/base",
      "_view_module_version": "1.2.0",
      "_view_name": "StyleView",
      "description_width": ""
     }
    },
    "9978c3eaed644ed992073d8a51b421ba": {
     "model_module": "@jupyter-widgets/controls",
     "model_module_version": "1.5.0",
     "model_name": "HBoxModel",
     "state": {
      "_dom_classes": [],
      "_model_module": "@jupyter-widgets/controls",
      "_model_module_version": "1.5.0",
      "_model_name": "HBoxModel",
      "_view_count": null,
      "_view_module": "@jupyter-widgets/controls",
      "_view_module_version": "1.5.0",
      "_view_name": "HBoxView",
      "box_style": "",
      "children": [
       "IPY_MODEL_c23911907148402fb01e813dacace25f",
       "IPY_MODEL_4aa7f1b59a754985863226aceae6a358",
       "IPY_MODEL_435f5e57a5a1440aa83deb09c7351d9e"
      ],
      "layout": "IPY_MODEL_f4aadb39468d426e818e7d5d1e4420e4"
     }
    },
    "a7ccdf6ca26f4a6188fe6101493d80fe": {
     "model_module": "@jupyter-widgets/controls",
     "model_module_version": "1.5.0",
     "model_name": "HTMLModel",
     "state": {
      "_dom_classes": [],
      "_model_module": "@jupyter-widgets/controls",
      "_model_module_version": "1.5.0",
      "_model_name": "HTMLModel",
      "_view_count": null,
      "_view_module": "@jupyter-widgets/controls",
      "_view_module_version": "1.5.0",
      "_view_name": "HTMLView",
      "description": "",
      "description_tooltip": null,
      "layout": "IPY_MODEL_fe7b7b5e0f5440b98d1871e3c54a511b",
      "placeholder": "​",
      "style": "IPY_MODEL_66a79212dc404c678a422d703bd93d67",
      "value": "Downloading: 100%"
     }
    },
    "c23911907148402fb01e813dacace25f": {
     "model_module": "@jupyter-widgets/controls",
     "model_module_version": "1.5.0",
     "model_name": "HTMLModel",
     "state": {
      "_dom_classes": [],
      "_model_module": "@jupyter-widgets/controls",
      "_model_module_version": "1.5.0",
      "_model_name": "HTMLModel",
      "_view_count": null,
      "_view_module": "@jupyter-widgets/controls",
      "_view_module_version": "1.5.0",
      "_view_name": "HTMLView",
      "description": "",
      "description_tooltip": null,
      "layout": "IPY_MODEL_0efecf6c931e403d81779d07292a69b0",
      "placeholder": "​",
      "style": "IPY_MODEL_8b7b7763f1d544689332feea786fd135",
      "value": "Job ID f56f3f25-f5c0-4b87-9743-71cb780a683a successfully executed: 100%"
     }
    },
    "cf5b5ee7bd5f4cc2ba933608f72bbc1a": {
     "model_module": "@jupyter-widgets/controls",
     "model_module_version": "1.5.0",
     "model_name": "DescriptionStyleModel",
     "state": {
      "_model_module": "@jupyter-widgets/controls",
      "_model_module_version": "1.5.0",
      "_model_name": "DescriptionStyleModel",
      "_view_count": null,
      "_view_module": "@jupyter-widgets/base",
      "_view_module_version": "1.2.0",
      "_view_name": "StyleView",
      "description_width": ""
     }
    },
    "f4aadb39468d426e818e7d5d1e4420e4": {
     "model_module": "@jupyter-widgets/base",
     "model_module_version": "1.2.0",
     "model_name": "LayoutModel",
     "state": {
      "_model_module": "@jupyter-widgets/base",
      "_model_module_version": "1.2.0",
      "_model_name": "LayoutModel",
      "_view_count": null,
      "_view_module": "@jupyter-widgets/base",
      "_view_module_version": "1.2.0",
      "_view_name": "LayoutView",
      "align_content": null,
      "align_items": null,
      "align_self": null,
      "border": null,
      "bottom": null,
      "display": null,
      "flex": null,
      "flex_flow": null,
      "grid_area": null,
      "grid_auto_columns": null,
      "grid_auto_flow": null,
      "grid_auto_rows": null,
      "grid_column": null,
      "grid_gap": null,
      "grid_row": null,
      "grid_template_areas": null,
      "grid_template_columns": null,
      "grid_template_rows": null,
      "height": null,
      "justify_content": null,
      "justify_items": null,
      "left": null,
      "margin": null,
      "max_height": null,
      "max_width": null,
      "min_height": null,
      "min_width": null,
      "object_fit": null,
      "object_position": null,
      "order": null,
      "overflow": null,
      "overflow_x": null,
      "overflow_y": null,
      "padding": null,
      "right": null,
      "top": null,
      "visibility": null,
      "width": null
     }
    },
    "fcd2b9e894e042348019895109f36bd2": {
     "model_module": "@jupyter-widgets/controls",
     "model_module_version": "1.5.0",
     "model_name": "FloatProgressModel",
     "state": {
      "_dom_classes": [],
      "_model_module": "@jupyter-widgets/controls",
      "_model_module_version": "1.5.0",
      "_model_name": "FloatProgressModel",
      "_view_count": null,
      "_view_module": "@jupyter-widgets/controls",
      "_view_module_version": "1.5.0",
      "_view_name": "ProgressView",
      "bar_style": "success",
      "description": "",
      "description_tooltip": null,
      "layout": "IPY_MODEL_7f6cd02dd35c43adbe5243abbb4911e0",
      "max": 33854,
      "min": 0,
      "orientation": "horizontal",
      "style": "IPY_MODEL_003b084538784bb69ed6de0fccca8a2f",
      "value": 33854
     }
    },
    "fe7b7b5e0f5440b98d1871e3c54a511b": {
     "model_module": "@jupyter-widgets/base",
     "model_module_version": "1.2.0",
     "model_name": "LayoutModel",
     "state": {
      "_model_module": "@jupyter-widgets/base",
      "_model_module_version": "1.2.0",
      "_model_name": "LayoutModel",
      "_view_count": null,
      "_view_module": "@jupyter-widgets/base",
      "_view_module_version": "1.2.0",
      "_view_name": "LayoutView",
      "align_content": null,
      "align_items": null,
      "align_self": null,
      "border": null,
      "bottom": null,
      "display": null,
      "flex": null,
      "flex_flow": null,
      "grid_area": null,
      "grid_auto_columns": null,
      "grid_auto_flow": null,
      "grid_auto_rows": null,
      "grid_column": null,
      "grid_gap": null,
      "grid_row": null,
      "grid_template_areas": null,
      "grid_template_columns": null,
      "grid_template_rows": null,
      "height": null,
      "justify_content": null,
      "justify_items": null,
      "left": null,
      "margin": null,
      "max_height": null,
      "max_width": null,
      "min_height": null,
      "min_width": null,
      "object_fit": null,
      "object_position": null,
      "order": null,
      "overflow": null,
      "overflow_x": null,
      "overflow_y": null,
      "padding": null,
      "right": null,
      "top": null,
      "visibility": null,
      "width": null
     }
    }
   }
  }
 },
 "nbformat": 4,
 "nbformat_minor": 5
}

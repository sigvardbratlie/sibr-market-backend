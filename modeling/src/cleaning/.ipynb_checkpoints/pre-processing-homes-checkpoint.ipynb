{
 "cells": [
  {
   "cell_type": "markdown",
   "id": "c6eed7fe-b736-4edb-8286-d2a38a0078d4",
   "metadata": {
    "executionInfo": {
     "elapsed": 1,
     "status": "ok",
     "timestamp": 1749066534821,
     "user": {
      "displayName": "",
      "userId": ""
     },
     "user_tz": -120
    },
    "id": "Xqzrda2z5ZJaxpnKF88Jukdt",
    "tags": []
   },
   "source": [
    "## PRE-PROCESS HOMES"
   ]
  },
  {
   "cell_type": "code",
   "execution_count": 3,
   "id": "96ca63cb-1cef-4e2f-80a7-518e55d9712f",
   "metadata": {
    "executionInfo": {
     "elapsed": 1,
     "status": "ok",
     "timestamp": 1749066534821,
     "user": {
      "displayName": "",
      "userId": ""
     },
     "user_tz": -120
    },
    "id": "Xqzrda2z5ZJaxpnKF88Jukdt",
    "tags": []
   },
   "outputs": [],
   "source": [
    "import re\n",
    "import numpy as np\n",
    "import seaborn as sns\n",
    "import pandas as pd\n",
    "import matplotlib.pyplot as plt\n",
    "import pandas_gbq as gbq\n",
    "from google.cloud import bigquery\n",
    "pd.set_option('display.max_columns', 500)\n",
    "replace = False"
   ]
  },
  {
   "cell_type": "code",
   "execution_count": 4,
   "id": "3mSAo2ISsH4u",
   "metadata": {
    "colab": {
     "base_uri": "https://localhost:8080/",
     "height": 81,
     "referenced_widgets": [
      "ee82dcf755ff4547a9ab98be02582d25",
      "74100ce0d1ec456eb779c523d7e89e20",
      "23c00f8c4fda43c98060b593ca1bbfe6",
      "442cd854d8d843159d3770f2ffea756e",
      "86a56bc903ce4c799c7932c50be2cbd5",
      "82c1a8deb2c94430ad52be1ea8250eca",
      "f6416afe25744bf7b3b562c6ff6564f0",
      "479b7e8d6dc14259bf947e670dc4d272",
      "2e52520b98f845a3b989f00b9ed74761",
      "f4a276077db740758f93df02a54ac789",
      "d75dc724c5e64a1d9b1b4f628d012b59",
      "014ab4015cc84934ba58d0adcad2a847",
      "eaddb19cf64042188cc90d85c5d10511",
      "f1b709e3a6a8449486efa44421d022d4",
      "4196a8c9f99140a5907fbed344b58403",
      "1a153586e35442fc84c3f85a1b477d85",
      "27d06b446d564445a172bc4f9628bce5",
      "a71a47dde8244df89df40c5be93e3cb0",
      "f6e83873690c4e6cb413b62de7680756",
      "302198af0c714edc8948067b159561f3",
      "3f8746d913ae4b20b7d487fce856b924",
      "592491b63eb84debb6f566f6eb346bd0"
     ]
    },
    "executionInfo": {
     "elapsed": 3684,
     "status": "ok",
     "timestamp": 1749066533373,
     "user": {
      "displayName": "",
      "userId": ""
     },
     "user_tz": -120
    },
    "id": "3mSAo2ISsH4u",
    "outputId": "96cf5c02-99e7-4eeb-b50c-7ab4dbcbeb37"
   },
   "outputs": [
    {
     "name": "stdout",
     "output_type": "stream",
     "text": [
      "length of df: 52551\n"
     ]
    }
   ],
   "source": [
    "if replace:\n",
    "    sql = '''\n",
    "            SELECT m.* FROM sibr-market.clean.homes m\n",
    "    '''\n",
    "else:\n",
    "    sql = '''\n",
    "            SELECT m.* FROM sibr-market.clean.homes m\n",
    "            LEFT JOIN sibr-market.pre_processed.homes_rentals a USING(item_id)\n",
    "            WHERE a.item_id IS NULL\n",
    "    '''\n",
    "\n",
    "try:\n",
    "    client = bigquery.Client()\n",
    "    job = client.query(sql)\n",
    "    df_ = job.to_dataframe()\n",
    "    if len(df_) == 0:\n",
    "        raise ValueError('No results for query')\n",
    "    print(f'length of df: {len(df_)}')\n",
    "except:\n",
    "    raise ValueError(f'Could not initiate data!')"
   ]
  },
  {
   "cell_type": "markdown",
   "id": "KoGM8B88sTDs",
   "metadata": {
    "id": "KoGM8B88sTDs"
   },
   "source": [
    "## Set index and remove empty data"
   ]
  },
  {
   "cell_type": "code",
   "execution_count": 5,
   "id": "P-25crrasP5K",
   "metadata": {
    "executionInfo": {
     "elapsed": 2,
     "status": "ok",
     "timestamp": 1749066536947,
     "user": {
      "displayName": "",
      "userId": ""
     },
     "user_tz": -120
    },
    "id": "P-25crrasP5K"
   },
   "outputs": [],
   "source": [
    "df = df_.dropna(subset='item_id')\n",
    "df.set_index('item_id',inplace=True)"
   ]
  },
  {
   "cell_type": "code",
   "execution_count": 6,
   "id": "5BbImA6ZsWU8",
   "metadata": {
    "executionInfo": {
     "elapsed": 622,
     "status": "ok",
     "timestamp": 1749066538040,
     "user": {
      "displayName": "",
      "userId": ""
     },
     "user_tz": -120
    },
    "id": "5BbImA6ZsWU8"
   },
   "outputs": [],
   "source": [
    "df.dropna(subset=['price','usable_area','bedrooms'],inplace=True)\n",
    "\n",
    "drop = ['district','address','title','sold',\n",
    "        'description','email','contact_person','phone','url','new','country',\n",
    "        'facilities','energy_rating','internal_area',\n",
    "        'rn','FIRST','LAST','postal_code','municipality','county','region','last_updated','salgstid','facilities','tax_value',\n",
    "        'total_price','price_pr_bedroom','price_pr_sqm','web','cadastral_num','unit_num','section_num']\n",
    "\n",
    "df.drop(columns=drop,inplace=True)"
   ]
  },
  {
   "cell_type": "markdown",
   "id": "mCyZghGT6uSU",
   "metadata": {
    "id": "mCyZghGT6uSU"
   },
   "source": [
    "## DUMMY VARIABLES"
   ]
  },
  {
   "cell_type": "code",
   "execution_count": 7,
   "id": "fb7Swxio8GBU",
   "metadata": {
    "executionInfo": {
     "elapsed": 1,
     "status": "ok",
     "timestamp": 1749066538462,
     "user": {
      "displayName": "",
      "userId": ""
     },
     "user_tz": -120
    },
    "id": "fb7Swxio8GBU"
   },
   "outputs": [],
   "source": [
    "df['dealer'] = df['dealer'].apply(lambda x: False if x.lower() == 'private' else True)"
   ]
  },
  {
   "cell_type": "code",
   "execution_count": 8,
   "id": "L_VchTe-sXW9",
   "metadata": {
    "executionInfo": {
     "elapsed": 1,
     "status": "ok",
     "timestamp": 1749066539144,
     "user": {
      "displayName": "",
      "userId": ""
     },
     "user_tz": -120
    },
    "id": "L_VchTe-sXW9"
   },
   "outputs": [],
   "source": [
    "#df['energy_letter'] = df['energy_rating'].apply(lambda x: x.split(\" - \")[0] if isinstance(x,str) and x.split(\" - \") else x)\n",
    "#df['energy_color'] = df['energy_rating'].apply(lambda x: x.split(\" - \")[1] if isinstance(x,str) and len(x.split(\" - \"))>1 else x)\n",
    "#df.drop('energy_rating',axis=1,inplace=True)"
   ]
  },
  {
   "cell_type": "code",
   "execution_count": 9,
   "id": "FCNv6G0x6nbl",
   "metadata": {
    "executionInfo": {
     "elapsed": 654,
     "status": "ok",
     "timestamp": 1749066540461,
     "user": {
      "displayName": "",
      "userId": ""
     },
     "user_tz": -120
    },
    "id": "FCNv6G0x6nbl"
   },
   "outputs": [],
   "source": [
    "dummy_cols = ['dealer','fixer-upper',\n",
    "              #'energy_letter','energy_color',\n",
    "              'ownership_type','property_type']\n",
    "\n",
    "for col in dummy_cols:\n",
    "    for cat, num in df[col].value_counts(normalize = True).items():\n",
    "        if num < 0.01:\n",
    "            df = df[df[col] != cat]\n",
    "dummy_cols.remove('property_type')\n",
    "df = pd.get_dummies(df,columns=dummy_cols,drop_first=True)"
   ]
  },
  {
   "cell_type": "markdown",
   "id": "H8cpmk78WHQX",
   "metadata": {
    "id": "H8cpmk78WHQX"
   },
   "source": [
    "## DATE COLUMNS"
   ]
  },
  {
   "cell_type": "code",
   "execution_count": 10,
   "id": "Ei3j-zrr_An4",
   "metadata": {
    "executionInfo": {
     "elapsed": 1,
     "status": "ok",
     "timestamp": 1749066542345,
     "user": {
      "displayName": "",
      "userId": ""
     },
     "user_tz": -120
    },
    "id": "Ei3j-zrr_An4"
   },
   "outputs": [],
   "source": [
    "df['day'] = df['scrape_date'].dt.day\n",
    "df['month'] = df['scrape_date'].dt.month\n",
    "df['year'] = df['scrape_date'].dt.year\n",
    "df.drop('scrape_date',axis=1,inplace=True)"
   ]
  },
  {
   "cell_type": "markdown",
   "id": "WEP4DPhUWU-9",
   "metadata": {
    "id": "WEP4DPhUWU-9"
   },
   "source": [
    "## SPLIT INTO APARTMENTS AND HOUSES AND RENTALS"
   ]
  },
  {
   "cell_type": "code",
   "execution_count": 11,
   "id": "yUaf_4iV7Qy1",
   "metadata": {
    "executionInfo": {
     "elapsed": 1,
     "status": "ok",
     "timestamp": 1749066543389,
     "user": {
      "displayName": "",
      "userId": ""
     },
     "user_tz": -120
    },
    "id": "yUaf_4iV7Qy1"
   },
   "outputs": [],
   "source": [
    "df_a = df[df['property_type'] == 'Leilighet']\n",
    "df_h = df[df['property_type'] != 'Leilighet']\n",
    "rental_cols = ['property_type','bedrooms','floor','usable_area','day','month','year','sqm_pr_bedroom']\n",
    "df_r = df[rental_cols]"
   ]
  },
  {
   "cell_type": "markdown",
   "id": "MYXrnd9hXWRz",
   "metadata": {
    "id": "MYXrnd9hXWRz"
   },
   "source": [
    "## APARTMENTS"
   ]
  },
  {
   "cell_type": "code",
   "execution_count": 12,
   "id": "v3QqqayC9xac",
   "metadata": {
    "id": "v3QqqayC9xac"
   },
   "outputs": [],
   "source": [
    "df_a = pd.get_dummies(df_a,columns=['property_type'],drop_first=True)\n",
    "df_a.loc[:, 'joint_debt'] = df_a['joint_debt'].fillna(0)\n",
    "df_a.loc[:, 'collective_assets'] = df_a['collective_assets'].fillna(0)\n",
    "df_a.loc[:, 'balcony'] = df_a['balcony'].fillna(0)\n",
    "df_a.loc[:, 'floor'] = df_a['floor'].fillna(0)\n",
    "df_a.loc[:, 'rooms'] = df_a['rooms'].fillna(df_a['bedrooms']+1)\n",
    "df_a.loc[:, 'external_area'] = df_a['external_area'].fillna(0)\n",
    "df_a.loc[:, 'monthly_common_cost'] = df_a['monthly_common_cost'].fillna(0)"
   ]
  },
  {
   "cell_type": "code",
   "execution_count": 13,
   "id": "s1BtTmTDeZ_X",
   "metadata": {
    "ExecuteTime": {
     "end_time": "2025-06-08T10:57:13.330769Z",
     "start_time": "2025-06-08T10:57:13.327715Z"
    },
    "colab": {
     "base_uri": "https://localhost:8080/"
    },
    "executionInfo": {
     "elapsed": 4824,
     "status": "ok",
     "timestamp": 1749064511602,
     "user": {
      "displayName": "",
      "userId": ""
     },
     "user_tz": -120
    },
    "id": "s1BtTmTDeZ_X",
    "outputId": "b82623fd-93bc-4063-91d3-5eaf9790b933"
   },
   "outputs": [
    {
     "name": "stderr",
     "output_type": "stream",
     "text": [
      "100%|██████████| 1/1 [00:00<00:00, 9962.72it/s]\n"
     ]
    }
   ],
   "source": [
    "if replace:\n",
    "    gbq.to_gbq(dataframe = df_a,\n",
    "               destination_table='pre_processed.homes_apartments',\n",
    "               project_id = 'sibr-market',\n",
    "               if_exists='replace')\n",
    "else:\n",
    "    gbq.to_gbq(dataframe = df_a,\n",
    "               destination_table='pre_processed.homes_apartments',\n",
    "               project_id = 'sibr-market',\n",
    "                if_exists='append')"
   ]
  },
  {
   "cell_type": "markdown",
   "id": "_xhajaMZcJkN",
   "metadata": {
    "id": "_xhajaMZcJkN"
   },
   "source": [
    "## HOUSES"
   ]
  },
  {
   "cell_type": "code",
   "execution_count": 14,
   "id": "mXAClYabW5Zu",
   "metadata": {
    "colab": {
     "base_uri": "https://localhost:8080/"
    },
    "executionInfo": {
     "elapsed": 4,
     "status": "ok",
     "timestamp": 1749064511602,
     "user": {
      "displayName": "",
      "userId": ""
     },
     "user_tz": -120
    },
    "id": "mXAClYabW5Zu",
    "outputId": "035bf029-761d-43a4-be02-c0d4517fc25e"
   },
   "outputs": [
    {
     "name": "stderr",
     "output_type": "stream",
     "text": [
      "/var/tmp/ipykernel_4360/604321535.py:3: SettingWithCopyWarning: \n",
      "A value is trying to be set on a copy of a slice from a DataFrame\n",
      "\n",
      "See the caveats in the documentation: https://pandas.pydata.org/pandas-docs/stable/user_guide/indexing.html#returning-a-view-versus-a-copy\n",
      "  df_h.drop(columns=drop,inplace=True)\n"
     ]
    }
   ],
   "source": [
    "drop = ['collective_assets','joint_debt','balcony','floor',\n",
    "        'monthly_common_cost','rooms','external_area']\n",
    "df_h.drop(columns=drop,inplace=True)\n",
    "df_h = pd.get_dummies(df_h,columns=['property_type'],drop_first=True)"
   ]
  },
  {
   "cell_type": "code",
   "execution_count": 15,
   "id": "gx192gDWYI8z",
   "metadata": {
    "colab": {
     "base_uri": "https://localhost:8080/"
    },
    "executionInfo": {
     "elapsed": 3805,
     "status": "ok",
     "timestamp": 1749064515405,
     "user": {
      "displayName": "",
      "userId": ""
     },
     "user_tz": -120
    },
    "id": "gx192gDWYI8z",
    "outputId": "c642b46c-0e58-45f4-873b-8315d0827ac1"
   },
   "outputs": [
    {
     "name": "stderr",
     "output_type": "stream",
     "text": [
      "100%|██████████| 1/1 [00:00<00:00, 11275.01it/s]\n"
     ]
    }
   ],
   "source": [
    "if replace:\n",
    "    gbq.to_gbq(dataframe = df_h,\n",
    "               destination_table='pre_processed.homes_houses',\n",
    "               project_id = 'sibr-market',\n",
    "               if_exists='replace')\n",
    "else:\n",
    "    gbq.to_gbq(dataframe = df_h,\n",
    "               destination_table='pre_processed.homes_houses',\n",
    "               project_id = 'sibr-market',\n",
    "                if_exists='append')"
   ]
  },
  {
   "cell_type": "markdown",
   "id": "teIV_cF9ZSMw",
   "metadata": {
    "id": "teIV_cF9ZSMw"
   },
   "source": [
    "## RENTAL PREDICTION"
   ]
  },
  {
   "cell_type": "code",
   "execution_count": 16,
   "id": "yr1GeMOIdYBI",
   "metadata": {
    "executionInfo": {
     "elapsed": 419,
     "status": "ok",
     "timestamp": 1749066554579,
     "user": {
      "displayName": "",
      "userId": ""
     },
     "user_tz": -120
    },
    "id": "yr1GeMOIdYBI"
   },
   "outputs": [],
   "source": [
    "df_r = pd.get_dummies(df_r,columns=['property_type'],drop_first=True)"
   ]
  },
  {
   "cell_type": "code",
   "execution_count": 17,
   "id": "g8Mz6WNpeBqX",
   "metadata": {
    "colab": {
     "base_uri": "https://localhost:8080/"
    },
    "executionInfo": {
     "elapsed": 3614,
     "status": "ok",
     "timestamp": 1749066573574,
     "user": {
      "displayName": "",
      "userId": ""
     },
     "user_tz": -120
    },
    "id": "g8Mz6WNpeBqX",
    "outputId": "c7596a31-5a66-4e84-b97e-d3afa53756c9"
   },
   "outputs": [
    {
     "name": "stderr",
     "output_type": "stream",
     "text": [
      "100%|██████████| 1/1 [00:00<00:00, 2592.28it/s]\n"
     ]
    }
   ],
   "source": [
    "if replace:\n",
    "    gbq.to_gbq(dataframe = df_r,\n",
    "           destination_table='pre_processed.homes_rentals',\n",
    "           project_id = 'sibr-market',\n",
    "           if_exists='replace')\n",
    "else:\n",
    "    gbq.to_gbq(dataframe = df_r,\n",
    "               destination_table='pre_processed.homes_rentals',\n",
    "               project_id = 'sibr-market',\n",
    "                if_exists='append')"
   ]
  },
  {
   "cell_type": "code",
   "execution_count": null,
   "id": "zj-ZCkZMfbG4",
   "metadata": {
    "id": "zj-ZCkZMfbG4"
   },
   "outputs": [],
   "source": []
  },
  {
   "cell_type": "code",
   "execution_count": null,
   "id": "6d31d371-14b7-49e6-9acf-650af70f68a7",
   "metadata": {},
   "outputs": [],
   "source": []
  }
 ],
 "metadata": {
  "colab": {
   "name": "pre-processing-homes",
   "provenance": []
  },
  "environment": {
   "kernel": "conda-base-py",
   "name": "workbench-notebooks.m129",
   "type": "gcloud",
   "uri": "us-docker.pkg.dev/deeplearning-platform-release/gcr.io/workbench-notebooks:m129"
  },
  "kernelspec": {
   "display_name": "Python 3 (ipykernel) (Local)",
   "language": "python",
   "name": "conda-base-py"
  },
  "language_info": {
   "codemirror_mode": {
    "name": "ipython",
    "version": 3
   },
   "file_extension": ".py",
   "mimetype": "text/x-python",
   "name": "python",
   "nbconvert_exporter": "python",
   "pygments_lexer": "ipython3",
   "version": "3.10.16"
  },
  "widgets": {
   "application/vnd.jupyter.widget-state+json": {
    "014ab4015cc84934ba58d0adcad2a847": {
     "model_module": "@jupyter-widgets/controls",
     "model_module_version": "1.5.0",
     "model_name": "HBoxModel",
     "state": {
      "_dom_classes": [],
      "_model_module": "@jupyter-widgets/controls",
      "_model_module_version": "1.5.0",
      "_model_name": "HBoxModel",
      "_view_count": null,
      "_view_module": "@jupyter-widgets/controls",
      "_view_module_version": "1.5.0",
      "_view_name": "HBoxView",
      "box_style": "",
      "children": [
       "IPY_MODEL_eaddb19cf64042188cc90d85c5d10511",
       "IPY_MODEL_f1b709e3a6a8449486efa44421d022d4",
       "IPY_MODEL_4196a8c9f99140a5907fbed344b58403"
      ],
      "layout": "IPY_MODEL_1a153586e35442fc84c3f85a1b477d85"
     }
    },
    "1a153586e35442fc84c3f85a1b477d85": {
     "model_module": "@jupyter-widgets/base",
     "model_module_version": "1.2.0",
     "model_name": "LayoutModel",
     "state": {
      "_model_module": "@jupyter-widgets/base",
      "_model_module_version": "1.2.0",
      "_model_name": "LayoutModel",
      "_view_count": null,
      "_view_module": "@jupyter-widgets/base",
      "_view_module_version": "1.2.0",
      "_view_name": "LayoutView",
      "align_content": null,
      "align_items": null,
      "align_self": null,
      "border": null,
      "bottom": null,
      "display": null,
      "flex": null,
      "flex_flow": null,
      "grid_area": null,
      "grid_auto_columns": null,
      "grid_auto_flow": null,
      "grid_auto_rows": null,
      "grid_column": null,
      "grid_gap": null,
      "grid_row": null,
      "grid_template_areas": null,
      "grid_template_columns": null,
      "grid_template_rows": null,
      "height": null,
      "justify_content": null,
      "justify_items": null,
      "left": null,
      "margin": null,
      "max_height": null,
      "max_width": null,
      "min_height": null,
      "min_width": null,
      "object_fit": null,
      "object_position": null,
      "order": null,
      "overflow": null,
      "overflow_x": null,
      "overflow_y": null,
      "padding": null,
      "right": null,
      "top": null,
      "visibility": null,
      "width": null
     }
    },
    "23c00f8c4fda43c98060b593ca1bbfe6": {
     "model_module": "@jupyter-widgets/controls",
     "model_module_version": "1.5.0",
     "model_name": "FloatProgressModel",
     "state": {
      "_dom_classes": [],
      "_model_module": "@jupyter-widgets/controls",
      "_model_module_version": "1.5.0",
      "_model_name": "FloatProgressModel",
      "_view_count": null,
      "_view_module": "@jupyter-widgets/controls",
      "_view_module_version": "1.5.0",
      "_view_name": "ProgressView",
      "bar_style": "success",
      "description": "",
      "description_tooltip": null,
      "layout": "IPY_MODEL_479b7e8d6dc14259bf947e670dc4d272",
      "max": 1,
      "min": 0,
      "orientation": "horizontal",
      "style": "IPY_MODEL_2e52520b98f845a3b989f00b9ed74761",
      "value": 1
     }
    },
    "27d06b446d564445a172bc4f9628bce5": {
     "model_module": "@jupyter-widgets/base",
     "model_module_version": "1.2.0",
     "model_name": "LayoutModel",
     "state": {
      "_model_module": "@jupyter-widgets/base",
      "_model_module_version": "1.2.0",
      "_model_name": "LayoutModel",
      "_view_count": null,
      "_view_module": "@jupyter-widgets/base",
      "_view_module_version": "1.2.0",
      "_view_name": "LayoutView",
      "align_content": null,
      "align_items": null,
      "align_self": null,
      "border": null,
      "bottom": null,
      "display": null,
      "flex": null,
      "flex_flow": null,
      "grid_area": null,
      "grid_auto_columns": null,
      "grid_auto_flow": null,
      "grid_auto_rows": null,
      "grid_column": null,
      "grid_gap": null,
      "grid_row": null,
      "grid_template_areas": null,
      "grid_template_columns": null,
      "grid_template_rows": null,
      "height": null,
      "justify_content": null,
      "justify_items": null,
      "left": null,
      "margin": null,
      "max_height": null,
      "max_width": null,
      "min_height": null,
      "min_width": null,
      "object_fit": null,
      "object_position": null,
      "order": null,
      "overflow": null,
      "overflow_x": null,
      "overflow_y": null,
      "padding": null,
      "right": null,
      "top": null,
      "visibility": null,
      "width": null
     }
    },
    "2e52520b98f845a3b989f00b9ed74761": {
     "model_module": "@jupyter-widgets/controls",
     "model_module_version": "1.5.0",
     "model_name": "ProgressStyleModel",
     "state": {
      "_model_module": "@jupyter-widgets/controls",
      "_model_module_version": "1.5.0",
      "_model_name": "ProgressStyleModel",
      "_view_count": null,
      "_view_module": "@jupyter-widgets/base",
      "_view_module_version": "1.2.0",
      "_view_name": "StyleView",
      "bar_color": null,
      "description_width": ""
     }
    },
    "302198af0c714edc8948067b159561f3": {
     "model_module": "@jupyter-widgets/controls",
     "model_module_version": "1.5.0",
     "model_name": "ProgressStyleModel",
     "state": {
      "_model_module": "@jupyter-widgets/controls",
      "_model_module_version": "1.5.0",
      "_model_name": "ProgressStyleModel",
      "_view_count": null,
      "_view_module": "@jupyter-widgets/base",
      "_view_module_version": "1.2.0",
      "_view_name": "StyleView",
      "bar_color": null,
      "description_width": ""
     }
    },
    "3f8746d913ae4b20b7d487fce856b924": {
     "model_module": "@jupyter-widgets/base",
     "model_module_version": "1.2.0",
     "model_name": "LayoutModel",
     "state": {
      "_model_module": "@jupyter-widgets/base",
      "_model_module_version": "1.2.0",
      "_model_name": "LayoutModel",
      "_view_count": null,
      "_view_module": "@jupyter-widgets/base",
      "_view_module_version": "1.2.0",
      "_view_name": "LayoutView",
      "align_content": null,
      "align_items": null,
      "align_self": null,
      "border": null,
      "bottom": null,
      "display": null,
      "flex": null,
      "flex_flow": null,
      "grid_area": null,
      "grid_auto_columns": null,
      "grid_auto_flow": null,
      "grid_auto_rows": null,
      "grid_column": null,
      "grid_gap": null,
      "grid_row": null,
      "grid_template_areas": null,
      "grid_template_columns": null,
      "grid_template_rows": null,
      "height": null,
      "justify_content": null,
      "justify_items": null,
      "left": null,
      "margin": null,
      "max_height": null,
      "max_width": null,
      "min_height": null,
      "min_width": null,
      "object_fit": null,
      "object_position": null,
      "order": null,
      "overflow": null,
      "overflow_x": null,
      "overflow_y": null,
      "padding": null,
      "right": null,
      "top": null,
      "visibility": null,
      "width": null
     }
    },
    "4196a8c9f99140a5907fbed344b58403": {
     "model_module": "@jupyter-widgets/controls",
     "model_module_version": "1.5.0",
     "model_name": "HTMLModel",
     "state": {
      "_dom_classes": [],
      "_model_module": "@jupyter-widgets/controls",
      "_model_module_version": "1.5.0",
      "_model_name": "HTMLModel",
      "_view_count": null,
      "_view_module": "@jupyter-widgets/controls",
      "_view_module_version": "1.5.0",
      "_view_name": "HTMLView",
      "description": "",
      "description_tooltip": null,
      "layout": "IPY_MODEL_3f8746d913ae4b20b7d487fce856b924",
      "placeholder": "​",
      "style": "IPY_MODEL_592491b63eb84debb6f566f6eb346bd0",
      "value": ""
     }
    },
    "442cd854d8d843159d3770f2ffea756e": {
     "model_module": "@jupyter-widgets/controls",
     "model_module_version": "1.5.0",
     "model_name": "HTMLModel",
     "state": {
      "_dom_classes": [],
      "_model_module": "@jupyter-widgets/controls",
      "_model_module_version": "1.5.0",
      "_model_name": "HTMLModel",
      "_view_count": null,
      "_view_module": "@jupyter-widgets/controls",
      "_view_module_version": "1.5.0",
      "_view_name": "HTMLView",
      "description": "",
      "description_tooltip": null,
      "layout": "IPY_MODEL_f4a276077db740758f93df02a54ac789",
      "placeholder": "​",
      "style": "IPY_MODEL_d75dc724c5e64a1d9b1b4f628d012b59",
      "value": ""
     }
    },
    "479b7e8d6dc14259bf947e670dc4d272": {
     "model_module": "@jupyter-widgets/base",
     "model_module_version": "1.2.0",
     "model_name": "LayoutModel",
     "state": {
      "_model_module": "@jupyter-widgets/base",
      "_model_module_version": "1.2.0",
      "_model_name": "LayoutModel",
      "_view_count": null,
      "_view_module": "@jupyter-widgets/base",
      "_view_module_version": "1.2.0",
      "_view_name": "LayoutView",
      "align_content": null,
      "align_items": null,
      "align_self": null,
      "border": null,
      "bottom": null,
      "display": null,
      "flex": null,
      "flex_flow": null,
      "grid_area": null,
      "grid_auto_columns": null,
      "grid_auto_flow": null,
      "grid_auto_rows": null,
      "grid_column": null,
      "grid_gap": null,
      "grid_row": null,
      "grid_template_areas": null,
      "grid_template_columns": null,
      "grid_template_rows": null,
      "height": null,
      "justify_content": null,
      "justify_items": null,
      "left": null,
      "margin": null,
      "max_height": null,
      "max_width": null,
      "min_height": null,
      "min_width": null,
      "object_fit": null,
      "object_position": null,
      "order": null,
      "overflow": null,
      "overflow_x": null,
      "overflow_y": null,
      "padding": null,
      "right": null,
      "top": null,
      "visibility": null,
      "width": null
     }
    },
    "592491b63eb84debb6f566f6eb346bd0": {
     "model_module": "@jupyter-widgets/controls",
     "model_module_version": "1.5.0",
     "model_name": "DescriptionStyleModel",
     "state": {
      "_model_module": "@jupyter-widgets/controls",
      "_model_module_version": "1.5.0",
      "_model_name": "DescriptionStyleModel",
      "_view_count": null,
      "_view_module": "@jupyter-widgets/base",
      "_view_module_version": "1.2.0",
      "_view_name": "StyleView",
      "description_width": ""
     }
    },
    "74100ce0d1ec456eb779c523d7e89e20": {
     "model_module": "@jupyter-widgets/controls",
     "model_module_version": "1.5.0",
     "model_name": "HTMLModel",
     "state": {
      "_dom_classes": [],
      "_model_module": "@jupyter-widgets/controls",
      "_model_module_version": "1.5.0",
      "_model_name": "HTMLModel",
      "_view_count": null,
      "_view_module": "@jupyter-widgets/controls",
      "_view_module_version": "1.5.0",
      "_view_name": "HTMLView",
      "description": "",
      "description_tooltip": null,
      "layout": "IPY_MODEL_82c1a8deb2c94430ad52be1ea8250eca",
      "placeholder": "​",
      "style": "IPY_MODEL_f6416afe25744bf7b3b562c6ff6564f0",
      "value": "Job ID 83ceaaec-c623-4112-b762-fe26548770d7 successfully executed: 100%"
     }
    },
    "82c1a8deb2c94430ad52be1ea8250eca": {
     "model_module": "@jupyter-widgets/base",
     "model_module_version": "1.2.0",
     "model_name": "LayoutModel",
     "state": {
      "_model_module": "@jupyter-widgets/base",
      "_model_module_version": "1.2.0",
      "_model_name": "LayoutModel",
      "_view_count": null,
      "_view_module": "@jupyter-widgets/base",
      "_view_module_version": "1.2.0",
      "_view_name": "LayoutView",
      "align_content": null,
      "align_items": null,
      "align_self": null,
      "border": null,
      "bottom": null,
      "display": null,
      "flex": null,
      "flex_flow": null,
      "grid_area": null,
      "grid_auto_columns": null,
      "grid_auto_flow": null,
      "grid_auto_rows": null,
      "grid_column": null,
      "grid_gap": null,
      "grid_row": null,
      "grid_template_areas": null,
      "grid_template_columns": null,
      "grid_template_rows": null,
      "height": null,
      "justify_content": null,
      "justify_items": null,
      "left": null,
      "margin": null,
      "max_height": null,
      "max_width": null,
      "min_height": null,
      "min_width": null,
      "object_fit": null,
      "object_position": null,
      "order": null,
      "overflow": null,
      "overflow_x": null,
      "overflow_y": null,
      "padding": null,
      "right": null,
      "top": null,
      "visibility": null,
      "width": null
     }
    },
    "86a56bc903ce4c799c7932c50be2cbd5": {
     "model_module": "@jupyter-widgets/base",
     "model_module_version": "1.2.0",
     "model_name": "LayoutModel",
     "state": {
      "_model_module": "@jupyter-widgets/base",
      "_model_module_version": "1.2.0",
      "_model_name": "LayoutModel",
      "_view_count": null,
      "_view_module": "@jupyter-widgets/base",
      "_view_module_version": "1.2.0",
      "_view_name": "LayoutView",
      "align_content": null,
      "align_items": null,
      "align_self": null,
      "border": null,
      "bottom": null,
      "display": null,
      "flex": null,
      "flex_flow": null,
      "grid_area": null,
      "grid_auto_columns": null,
      "grid_auto_flow": null,
      "grid_auto_rows": null,
      "grid_column": null,
      "grid_gap": null,
      "grid_row": null,
      "grid_template_areas": null,
      "grid_template_columns": null,
      "grid_template_rows": null,
      "height": null,
      "justify_content": null,
      "justify_items": null,
      "left": null,
      "margin": null,
      "max_height": null,
      "max_width": null,
      "min_height": null,
      "min_width": null,
      "object_fit": null,
      "object_position": null,
      "order": null,
      "overflow": null,
      "overflow_x": null,
      "overflow_y": null,
      "padding": null,
      "right": null,
      "top": null,
      "visibility": null,
      "width": null
     }
    },
    "a71a47dde8244df89df40c5be93e3cb0": {
     "model_module": "@jupyter-widgets/controls",
     "model_module_version": "1.5.0",
     "model_name": "DescriptionStyleModel",
     "state": {
      "_model_module": "@jupyter-widgets/controls",
      "_model_module_version": "1.5.0",
      "_model_name": "DescriptionStyleModel",
      "_view_count": null,
      "_view_module": "@jupyter-widgets/base",
      "_view_module_version": "1.2.0",
      "_view_name": "StyleView",
      "description_width": ""
     }
    },
    "d75dc724c5e64a1d9b1b4f628d012b59": {
     "model_module": "@jupyter-widgets/controls",
     "model_module_version": "1.5.0",
     "model_name": "DescriptionStyleModel",
     "state": {
      "_model_module": "@jupyter-widgets/controls",
      "_model_module_version": "1.5.0",
      "_model_name": "DescriptionStyleModel",
      "_view_count": null,
      "_view_module": "@jupyter-widgets/base",
      "_view_module_version": "1.2.0",
      "_view_name": "StyleView",
      "description_width": ""
     }
    },
    "eaddb19cf64042188cc90d85c5d10511": {
     "model_module": "@jupyter-widgets/controls",
     "model_module_version": "1.5.0",
     "model_name": "HTMLModel",
     "state": {
      "_dom_classes": [],
      "_model_module": "@jupyter-widgets/controls",
      "_model_module_version": "1.5.0",
      "_model_name": "HTMLModel",
      "_view_count": null,
      "_view_module": "@jupyter-widgets/controls",
      "_view_module_version": "1.5.0",
      "_view_name": "HTMLView",
      "description": "",
      "description_tooltip": null,
      "layout": "IPY_MODEL_27d06b446d564445a172bc4f9628bce5",
      "placeholder": "​",
      "style": "IPY_MODEL_a71a47dde8244df89df40c5be93e3cb0",
      "value": "Downloading: 100%"
     }
    },
    "ee82dcf755ff4547a9ab98be02582d25": {
     "model_module": "@jupyter-widgets/controls",
     "model_module_version": "1.5.0",
     "model_name": "HBoxModel",
     "state": {
      "_dom_classes": [],
      "_model_module": "@jupyter-widgets/controls",
      "_model_module_version": "1.5.0",
      "_model_name": "HBoxModel",
      "_view_count": null,
      "_view_module": "@jupyter-widgets/controls",
      "_view_module_version": "1.5.0",
      "_view_name": "HBoxView",
      "box_style": "",
      "children": [
       "IPY_MODEL_74100ce0d1ec456eb779c523d7e89e20",
       "IPY_MODEL_23c00f8c4fda43c98060b593ca1bbfe6",
       "IPY_MODEL_442cd854d8d843159d3770f2ffea756e"
      ],
      "layout": "IPY_MODEL_86a56bc903ce4c799c7932c50be2cbd5"
     }
    },
    "f1b709e3a6a8449486efa44421d022d4": {
     "model_module": "@jupyter-widgets/controls",
     "model_module_version": "1.5.0",
     "model_name": "FloatProgressModel",
     "state": {
      "_dom_classes": [],
      "_model_module": "@jupyter-widgets/controls",
      "_model_module_version": "1.5.0",
      "_model_name": "FloatProgressModel",
      "_view_count": null,
      "_view_module": "@jupyter-widgets/controls",
      "_view_module_version": "1.5.0",
      "_view_name": "ProgressView",
      "bar_style": "success",
      "description": "",
      "description_tooltip": null,
      "layout": "IPY_MODEL_f6e83873690c4e6cb413b62de7680756",
      "max": 106637,
      "min": 0,
      "orientation": "horizontal",
      "style": "IPY_MODEL_302198af0c714edc8948067b159561f3",
      "value": 106637
     }
    },
    "f4a276077db740758f93df02a54ac789": {
     "model_module": "@jupyter-widgets/base",
     "model_module_version": "1.2.0",
     "model_name": "LayoutModel",
     "state": {
      "_model_module": "@jupyter-widgets/base",
      "_model_module_version": "1.2.0",
      "_model_name": "LayoutModel",
      "_view_count": null,
      "_view_module": "@jupyter-widgets/base",
      "_view_module_version": "1.2.0",
      "_view_name": "LayoutView",
      "align_content": null,
      "align_items": null,
      "align_self": null,
      "border": null,
      "bottom": null,
      "display": null,
      "flex": null,
      "flex_flow": null,
      "grid_area": null,
      "grid_auto_columns": null,
      "grid_auto_flow": null,
      "grid_auto_rows": null,
      "grid_column": null,
      "grid_gap": null,
      "grid_row": null,
      "grid_template_areas": null,
      "grid_template_columns": null,
      "grid_template_rows": null,
      "height": null,
      "justify_content": null,
      "justify_items": null,
      "left": null,
      "margin": null,
      "max_height": null,
      "max_width": null,
      "min_height": null,
      "min_width": null,
      "object_fit": null,
      "object_position": null,
      "order": null,
      "overflow": null,
      "overflow_x": null,
      "overflow_y": null,
      "padding": null,
      "right": null,
      "top": null,
      "visibility": null,
      "width": null
     }
    },
    "f6416afe25744bf7b3b562c6ff6564f0": {
     "model_module": "@jupyter-widgets/controls",
     "model_module_version": "1.5.0",
     "model_name": "DescriptionStyleModel",
     "state": {
      "_model_module": "@jupyter-widgets/controls",
      "_model_module_version": "1.5.0",
      "_model_name": "DescriptionStyleModel",
      "_view_count": null,
      "_view_module": "@jupyter-widgets/base",
      "_view_module_version": "1.2.0",
      "_view_name": "StyleView",
      "description_width": ""
     }
    },
    "f6e83873690c4e6cb413b62de7680756": {
     "model_module": "@jupyter-widgets/base",
     "model_module_version": "1.2.0",
     "model_name": "LayoutModel",
     "state": {
      "_model_module": "@jupyter-widgets/base",
      "_model_module_version": "1.2.0",
      "_model_name": "LayoutModel",
      "_view_count": null,
      "_view_module": "@jupyter-widgets/base",
      "_view_module_version": "1.2.0",
      "_view_name": "LayoutView",
      "align_content": null,
      "align_items": null,
      "align_self": null,
      "border": null,
      "bottom": null,
      "display": null,
      "flex": null,
      "flex_flow": null,
      "grid_area": null,
      "grid_auto_columns": null,
      "grid_auto_flow": null,
      "grid_auto_rows": null,
      "grid_column": null,
      "grid_gap": null,
      "grid_row": null,
      "grid_template_areas": null,
      "grid_template_columns": null,
      "grid_template_rows": null,
      "height": null,
      "justify_content": null,
      "justify_items": null,
      "left": null,
      "margin": null,
      "max_height": null,
      "max_width": null,
      "min_height": null,
      "min_width": null,
      "object_fit": null,
      "object_position": null,
      "order": null,
      "overflow": null,
      "overflow_x": null,
      "overflow_y": null,
      "padding": null,
      "right": null,
      "top": null,
      "visibility": null,
      "width": null
     }
    }
   }
  }
 },
 "nbformat": 4,
 "nbformat_minor": 5
}

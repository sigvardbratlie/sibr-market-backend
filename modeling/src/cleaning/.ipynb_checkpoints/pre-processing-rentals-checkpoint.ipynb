{
 "cells": [
  {
   "cell_type": "code",
   "execution_count": 6,
   "id": "Xqzrda2z5ZJaxpnKF88Jukdt",
   "metadata": {
    "id": "Xqzrda2z5ZJaxpnKF88Jukdt",
    "tags": []
   },
   "outputs": [],
   "source": [
    "import re\n",
    "import numpy as np\n",
    "import seaborn as sns\n",
    "import pandas as pd\n",
    "import matplotlib.pyplot as plt\n",
    "import pandas_gbq as gbq\n",
    "from google.cloud import bigquery\n",
    "from sqlglot.transforms import eliminate_semi_and_anti_joins\n",
    "pd.set_option('display.max_columns', 500)\n",
    "replace = False"
   ]
  },
  {
   "cell_type": "code",
   "execution_count": 7,
   "id": "3mSAo2ISsH4u",
   "metadata": {
    "colab": {
     "base_uri": "https://localhost:8080/",
     "referenced_widgets": [
      "9978c3eaed644ed992073d8a51b421ba",
      "c23911907148402fb01e813dacace25f",
      "4aa7f1b59a754985863226aceae6a358",
      "435f5e57a5a1440aa83deb09c7351d9e",
      "f4aadb39468d426e818e7d5d1e4420e4",
      "0efecf6c931e403d81779d07292a69b0",
      "8b7b7763f1d544689332feea786fd135",
      "66d00030ec8e4e12b7861663dc4faf26",
      "06bbecbbcd9148bf86283f955aa32f8e",
      "4d2d1ed984b54dd58a22d903565364ce",
      "06a6dc0421804690a53c91d90b089d4c",
      "225077afc9064667a5ced49b9a7754e9",
      "a7ccdf6ca26f4a6188fe6101493d80fe",
      "fcd2b9e894e042348019895109f36bd2",
      "09e68d34d3024873a7709e4f0bfc046c",
      "181a5c68f0a745e1b1a6e86493941bd2",
      "fe7b7b5e0f5440b98d1871e3c54a511b",
      "66a79212dc404c678a422d703bd93d67",
      "7f6cd02dd35c43adbe5243abbb4911e0",
      "003b084538784bb69ed6de0fccca8a2f",
      "75ec65ebc565493d9c7fb09b9babbdd8",
      "cf5b5ee7bd5f4cc2ba933608f72bbc1a"
     ]
    },
    "executionInfo": {
     "elapsed": 5197,
     "status": "ok",
     "timestamp": 1749067580204,
     "user": {
      "displayName": "",
      "userId": ""
     },
     "user_tz": -120
    },
    "id": "3mSAo2ISsH4u",
    "outputId": "f0677631-2281-4c6c-f5f4-b88e027ff3ec"
   },
   "outputs": [
    {
     "name": "stdout",
     "output_type": "stream",
     "text": [
      "length of df: 14700\n"
     ]
    }
   ],
   "source": [
    "\n",
    "\n",
    "if replace:\n",
    "    sql = '''\n",
    "    SELECT c.* FROM sibr-market.clean.rentals c\n",
    "    '''\n",
    "else:\n",
    "    sql = '''\n",
    "    SELECT c.* FROM sibr-market.clean.rentals c\n",
    "    LEFT JOIN sibr-market.pre_processed.rentals p USING(item_id)\n",
    "    WHERE p.item_id IS NULL\n",
    "    '''\n",
    "\n",
    "try:\n",
    "    client = bigquery.Client()\n",
    "    job = client.query(sql)\n",
    "    df_ = job.to_dataframe()\n",
    "    if len(df_) == 0:\n",
    "        raise ValueError('No results for query')\n",
    "    print(f'length of df: {len(df_)}')\n",
    "except:\n",
    "    raise ValueError(f'Could not initiate data!')"
   ]
  },
  {
   "cell_type": "markdown",
   "id": "KoGM8B88sTDs",
   "metadata": {
    "id": "KoGM8B88sTDs"
   },
   "source": [
    "## Set index and remove empty data"
   ]
  },
  {
   "cell_type": "code",
   "execution_count": 8,
   "id": "P-25crrasP5K",
   "metadata": {
    "id": "P-25crrasP5K"
   },
   "outputs": [],
   "source": [
    "df = df_.dropna(subset='item_id')\n",
    "df.set_index('item_id',inplace=True)"
   ]
  },
  {
   "cell_type": "code",
   "execution_count": 9,
   "id": "CZXw2ZrrDCp6",
   "metadata": {
    "colab": {
     "base_uri": "https://localhost:8080/"
    },
    "executionInfo": {
     "elapsed": 4,
     "status": "ok",
     "timestamp": 1749067580204,
     "user": {
      "displayName": "",
      "userId": ""
     },
     "user_tz": -120
    },
    "id": "CZXw2ZrrDCp6",
    "outputId": "fa554072-65a6-49a4-8135-98246ea169ad"
   },
   "outputs": [
    {
     "name": "stdout",
     "output_type": "stream",
     "text": [
      "<class 'pandas.core.frame.DataFrame'>\n",
      "Index: 14700 entries, 357864085.0 to 367836067\n",
      "Data columns (total 32 columns):\n",
      " #   Column            Non-Null Count  Dtype         \n",
      "---  ------            --------------  -----         \n",
      " 0   dealer            14700 non-null  object        \n",
      " 1   address           14700 non-null  object        \n",
      " 2   monthly_rent      14700 non-null  float64       \n",
      " 3   deposit           9579 non-null   float64       \n",
      " 4   includes          10874 non-null  object        \n",
      " 5   property_type     14700 non-null  object        \n",
      " 6   bedrooms          14700 non-null  float64       \n",
      " 7   floor             11771 non-null  float64       \n",
      " 8   usable_area       14700 non-null  float64       \n",
      " 9   internal_area     5894 non-null   float64       \n",
      " 10  gross_area        5948 non-null   float64       \n",
      " 11  facilities        14586 non-null  object        \n",
      " 12  last_updated      14654 non-null  object        \n",
      " 13  url               14700 non-null  object        \n",
      " 14  description       10532 non-null  object        \n",
      " 15  contact_person    389 non-null    object        \n",
      " 16  primary_area      14700 non-null  float64       \n",
      " 17  phone             0 non-null      object        \n",
      " 18  scrape_date       14700 non-null  datetime64[us]\n",
      " 19  country           14700 non-null  object        \n",
      " 20  title             0 non-null      object        \n",
      " 21  rn                14700 non-null  Int64         \n",
      " 22  FIRST             0 non-null      dbdate        \n",
      " 23  LAST              0 non-null      dbdate        \n",
      " 24  salgstid          0 non-null      Int64         \n",
      " 25  rent_pr_sqm       14700 non-null  float64       \n",
      " 26  price_pr_bedroom  14700 non-null  float64       \n",
      " 27  sqm_pr_bedroom    14700 non-null  float64       \n",
      " 28  postal_code       14700 non-null  object        \n",
      " 29  municipality      14669 non-null  object        \n",
      " 30  county            14669 non-null  object        \n",
      " 31  region            14669 non-null  object        \n",
      "dtypes: Int64(2), datetime64[us](1), dbdate(2), float64(11), object(16)\n",
      "memory usage: 3.7+ MB\n"
     ]
    }
   ],
   "source": [
    "df.info()"
   ]
  },
  {
   "cell_type": "code",
   "execution_count": 10,
   "id": "5BbImA6ZsWU8",
   "metadata": {
    "id": "5BbImA6ZsWU8"
   },
   "outputs": [],
   "source": [
    "df.dropna(subset=['monthly_rent','usable_area'],inplace=True)\n",
    "\n",
    "drop = ['address','description','contact_person','phone','url','country','title',\n",
    "        'facilities','deposit','includes','web','email',\n",
    "        'rn','FIRST','LAST','postal_code','municipality','county','region','last_updated','salgstid','facilities'\n",
    "        ,'price_pr_bedroom','rent_pr_sqm']\n",
    "\n",
    "df.drop(columns=drop,inplace=True,errors = 'ignore')"
   ]
  },
  {
   "cell_type": "markdown",
   "id": "mCyZghGT6uSU",
   "metadata": {
    "id": "mCyZghGT6uSU"
   },
   "source": [
    "## DUMMY VARIABLES"
   ]
  },
  {
   "cell_type": "code",
   "execution_count": 11,
   "id": "fb7Swxio8GBU",
   "metadata": {
    "id": "fb7Swxio8GBU"
   },
   "outputs": [],
   "source": [
    "df['dealer'] = df['dealer'].apply(lambda x: False if x.lower() == 'private' else True)"
   ]
  },
  {
   "cell_type": "code",
   "execution_count": 12,
   "id": "FCNv6G0x6nbl",
   "metadata": {
    "id": "FCNv6G0x6nbl"
   },
   "outputs": [],
   "source": [
    "dummy_cols = ['dealer',\n",
    "              'property_type']\n",
    "for col in dummy_cols:\n",
    "    for cat, num in df[col].value_counts(normalize = True).items():\n",
    "        if num < 0.01:\n",
    "            df = df[df[col] != cat]\n",
    "df = pd.get_dummies(df,columns=dummy_cols,drop_first=True)"
   ]
  },
  {
   "cell_type": "markdown",
   "id": "H8cpmk78WHQX",
   "metadata": {
    "id": "H8cpmk78WHQX"
   },
   "source": [
    "## DATE COLUMNS"
   ]
  },
  {
   "cell_type": "code",
   "execution_count": 13,
   "id": "Ei3j-zrr_An4",
   "metadata": {
    "id": "Ei3j-zrr_An4"
   },
   "outputs": [],
   "source": [
    "df['day'] = df['scrape_date'].dt.day\n",
    "df['month'] = df['scrape_date'].dt.month\n",
    "df['year'] = df['scrape_date'].dt.year\n",
    "df.drop('scrape_date',axis=1,inplace=True)"
   ]
  },
  {
   "cell_type": "markdown",
   "id": "WEP4DPhUWU-9",
   "metadata": {
    "id": "WEP4DPhUWU-9"
   },
   "source": [
    "## ORDINARY RENTALS"
   ]
  },
  {
   "cell_type": "code",
   "execution_count": 14,
   "id": "yUaf_4iV7Qy1",
   "metadata": {
    "ExecuteTime": {
     "end_time": "2025-06-08T10:59:18.749822Z",
     "start_time": "2025-06-08T10:59:18.746949Z"
    },
    "colab": {
     "base_uri": "https://localhost:8080/"
    },
    "executionInfo": {
     "elapsed": 3200,
     "status": "ok",
     "timestamp": 1749067583402,
     "user": {
      "displayName": "",
      "userId": ""
     },
     "user_tz": -120
    },
    "id": "yUaf_4iV7Qy1",
    "outputId": "1ed87e68-6fc9-491c-fbd2-65e3e73c12e8"
   },
   "outputs": [
    {
     "name": "stderr",
     "output_type": "stream",
     "text": [
      "100%|██████████| 1/1 [00:00<00:00, 8035.07it/s]\n"
     ]
    }
   ],
   "source": [
    "if replace:\n",
    "    gbq.to_gbq(dataframe = df,\n",
    "               destination_table='pre_processed.rentals',\n",
    "               project_id = 'sibr-market',\n",
    "               if_exists='replace')\n",
    "else:\n",
    "    gbq.to_gbq(dataframe = df,\n",
    "               destination_table='pre_processed.rentals',\n",
    "               project_id = 'sibr-market',\n",
    "               if_exists='append')"
   ]
  },
  {
   "cell_type": "markdown",
   "id": "MYXrnd9hXWRz",
   "metadata": {
    "id": "MYXrnd9hXWRz"
   },
   "source": [
    "p## HOUSING RENTALS"
   ]
  },
  {
   "cell_type": "code",
   "execution_count": 15,
   "id": "v3QqqayC9xac",
   "metadata": {
    "id": "v3QqqayC9xac"
   },
   "outputs": [],
   "source": [
    "drop_rentals = ['internal_area','gross_area','primary_area','dealer_True']\n",
    "df_r = df.drop(columns=drop_rentals)\n",
    "df_r = df_r[(df_r['property_type_Rom i bofellesskap'] != 1) & (df_r['property_type_Hybel'] != 1)]\n",
    "df_r.drop(columns=['property_type_Rom i bofellesskap','property_type_Hybel'],inplace=True)"
   ]
  },
  {
   "cell_type": "code",
   "execution_count": 16,
   "id": "s1BtTmTDeZ_X",
   "metadata": {
    "colab": {
     "base_uri": "https://localhost:8080/"
    },
    "executionInfo": {
     "elapsed": 4142,
     "status": "ok",
     "timestamp": 1749067587542,
     "user": {
      "displayName": "",
      "userId": ""
     },
     "user_tz": -120
    },
    "id": "s1BtTmTDeZ_X",
    "outputId": "db2df971-d17a-4f2c-9121-2303b6fd5bee"
   },
   "outputs": [
    {
     "name": "stderr",
     "output_type": "stream",
     "text": [
      "100%|██████████| 1/1 [00:00<00:00, 6213.78it/s]\n"
     ]
    }
   ],
   "source": [
    "if replace:\n",
    "    gbq.to_gbq(dataframe = df_r,\n",
    "               destination_table='pre_processed.rentals_homes',\n",
    "               project_id = 'sibr-market',\n",
    "               if_exists='replace')\n",
    "else:\n",
    "    gbq.to_gbq(dataframe = df_r,\n",
    "                   destination_table='pre_processed.rentals_homes',\n",
    "                   project_id = 'sibr-market',\n",
    "                    if_exists='append')"
   ]
  },
  {
   "cell_type": "code",
   "execution_count": null,
   "id": "hPjeUwH9jJnw",
   "metadata": {
    "id": "hPjeUwH9jJnw"
   },
   "outputs": [],
   "source": []
  }
 ],
 "metadata": {
  "colab": {
   "name": "pre-processing-rentals",
   "provenance": []
  },
  "environment": {
   "kernel": "conda-base-py",
   "name": "workbench-notebooks.m129",
   "type": "gcloud",
   "uri": "us-docker.pkg.dev/deeplearning-platform-release/gcr.io/workbench-notebooks:m129"
  },
  "kernelspec": {
   "display_name": "Python 3 (ipykernel) (Local)",
   "language": "python",
   "name": "conda-base-py"
  },
  "language_info": {
   "codemirror_mode": {
    "name": "ipython",
    "version": 3
   },
   "file_extension": ".py",
   "mimetype": "text/x-python",
   "name": "python",
   "nbconvert_exporter": "python",
   "pygments_lexer": "ipython3",
   "version": "3.10.16"
  },
  "widgets": {
   "application/vnd.jupyter.widget-state+json": {
    "003b084538784bb69ed6de0fccca8a2f": {
     "model_module": "@jupyter-widgets/controls",
     "model_module_version": "1.5.0",
     "model_name": "ProgressStyleModel",
     "state": {
      "_model_module": "@jupyter-widgets/controls",
      "_model_module_version": "1.5.0",
      "_model_name": "ProgressStyleModel",
      "_view_count": null,
      "_view_module": "@jupyter-widgets/base",
      "_view_module_version": "1.2.0",
      "_view_name": "StyleView",
      "bar_color": null,
      "description_width": ""
     }
    },
    "06a6dc0421804690a53c91d90b089d4c": {
     "model_module": "@jupyter-widgets/controls",
     "model_module_version": "1.5.0",
     "model_name": "DescriptionStyleModel",
     "state": {
      "_model_module": "@jupyter-widgets/controls",
      "_model_module_version": "1.5.0",
      "_model_name": "DescriptionStyleModel",
      "_view_count": null,
      "_view_module": "@jupyter-widgets/base",
      "_view_module_version": "1.2.0",
      "_view_name": "StyleView",
      "description_width": ""
     }
    },
    "06bbecbbcd9148bf86283f955aa32f8e": {
     "model_module": "@jupyter-widgets/controls",
     "model_module_version": "1.5.0",
     "model_name": "ProgressStyleModel",
     "state": {
      "_model_module": "@jupyter-widgets/controls",
      "_model_module_version": "1.5.0",
      "_model_name": "ProgressStyleModel",
      "_view_count": null,
      "_view_module": "@jupyter-widgets/base",
      "_view_module_version": "1.2.0",
      "_view_name": "StyleView",
      "bar_color": null,
      "description_width": ""
     }
    },
    "09e68d34d3024873a7709e4f0bfc046c": {
     "model_module": "@jupyter-widgets/controls",
     "model_module_version": "1.5.0",
     "model_name": "HTMLModel",
     "state": {
      "_dom_classes": [],
      "_model_module": "@jupyter-widgets/controls",
      "_model_module_version": "1.5.0",
      "_model_name": "HTMLModel",
      "_view_count": null,
      "_view_module": "@jupyter-widgets/controls",
      "_view_module_version": "1.5.0",
      "_view_name": "HTMLView",
      "description": "",
      "description_tooltip": null,
      "layout": "IPY_MODEL_75ec65ebc565493d9c7fb09b9babbdd8",
      "placeholder": "​",
      "style": "IPY_MODEL_cf5b5ee7bd5f4cc2ba933608f72bbc1a",
      "value": ""
     }
    },
    "0efecf6c931e403d81779d07292a69b0": {
     "model_module": "@jupyter-widgets/base",
     "model_module_version": "1.2.0",
     "model_name": "LayoutModel",
     "state": {
      "_model_module": "@jupyter-widgets/base",
      "_model_module_version": "1.2.0",
      "_model_name": "LayoutModel",
      "_view_count": null,
      "_view_module": "@jupyter-widgets/base",
      "_view_module_version": "1.2.0",
      "_view_name": "LayoutView",
      "align_content": null,
      "align_items": null,
      "align_self": null,
      "border": null,
      "bottom": null,
      "display": null,
      "flex": null,
      "flex_flow": null,
      "grid_area": null,
      "grid_auto_columns": null,
      "grid_auto_flow": null,
      "grid_auto_rows": null,
      "grid_column": null,
      "grid_gap": null,
      "grid_row": null,
      "grid_template_areas": null,
      "grid_template_columns": null,
      "grid_template_rows": null,
      "height": null,
      "justify_content": null,
      "justify_items": null,
      "left": null,
      "margin": null,
      "max_height": null,
      "max_width": null,
      "min_height": null,
      "min_width": null,
      "object_fit": null,
      "object_position": null,
      "order": null,
      "overflow": null,
      "overflow_x": null,
      "overflow_y": null,
      "padding": null,
      "right": null,
      "top": null,
      "visibility": null,
      "width": null
     }
    },
    "181a5c68f0a745e1b1a6e86493941bd2": {
     "model_module": "@jupyter-widgets/base",
     "model_module_version": "1.2.0",
     "model_name": "LayoutModel",
     "state": {
      "_model_module": "@jupyter-widgets/base",
      "_model_module_version": "1.2.0",
      "_model_name": "LayoutModel",
      "_view_count": null,
      "_view_module": "@jupyter-widgets/base",
      "_view_module_version": "1.2.0",
      "_view_name": "LayoutView",
      "align_content": null,
      "align_items": null,
      "align_self": null,
      "border": null,
      "bottom": null,
      "display": null,
      "flex": null,
      "flex_flow": null,
      "grid_area": null,
      "grid_auto_columns": null,
      "grid_auto_flow": null,
      "grid_auto_rows": null,
      "grid_column": null,
      "grid_gap": null,
      "grid_row": null,
      "grid_template_areas": null,
      "grid_template_columns": null,
      "grid_template_rows": null,
      "height": null,
      "justify_content": null,
      "justify_items": null,
      "left": null,
      "margin": null,
      "max_height": null,
      "max_width": null,
      "min_height": null,
      "min_width": null,
      "object_fit": null,
      "object_position": null,
      "order": null,
      "overflow": null,
      "overflow_x": null,
      "overflow_y": null,
      "padding": null,
      "right": null,
      "top": null,
      "visibility": null,
      "width": null
     }
    },
    "225077afc9064667a5ced49b9a7754e9": {
     "model_module": "@jupyter-widgets/controls",
     "model_module_version": "1.5.0",
     "model_name": "HBoxModel",
     "state": {
      "_dom_classes": [],
      "_model_module": "@jupyter-widgets/controls",
      "_model_module_version": "1.5.0",
      "_model_name": "HBoxModel",
      "_view_count": null,
      "_view_module": "@jupyter-widgets/controls",
      "_view_module_version": "1.5.0",
      "_view_name": "HBoxView",
      "box_style": "",
      "children": [
       "IPY_MODEL_a7ccdf6ca26f4a6188fe6101493d80fe",
       "IPY_MODEL_fcd2b9e894e042348019895109f36bd2",
       "IPY_MODEL_09e68d34d3024873a7709e4f0bfc046c"
      ],
      "layout": "IPY_MODEL_181a5c68f0a745e1b1a6e86493941bd2"
     }
    },
    "435f5e57a5a1440aa83deb09c7351d9e": {
     "model_module": "@jupyter-widgets/controls",
     "model_module_version": "1.5.0",
     "model_name": "HTMLModel",
     "state": {
      "_dom_classes": [],
      "_model_module": "@jupyter-widgets/controls",
      "_model_module_version": "1.5.0",
      "_model_name": "HTMLModel",
      "_view_count": null,
      "_view_module": "@jupyter-widgets/controls",
      "_view_module_version": "1.5.0",
      "_view_name": "HTMLView",
      "description": "",
      "description_tooltip": null,
      "layout": "IPY_MODEL_4d2d1ed984b54dd58a22d903565364ce",
      "placeholder": "​",
      "style": "IPY_MODEL_06a6dc0421804690a53c91d90b089d4c",
      "value": ""
     }
    },
    "4aa7f1b59a754985863226aceae6a358": {
     "model_module": "@jupyter-widgets/controls",
     "model_module_version": "1.5.0",
     "model_name": "FloatProgressModel",
     "state": {
      "_dom_classes": [],
      "_model_module": "@jupyter-widgets/controls",
      "_model_module_version": "1.5.0",
      "_model_name": "FloatProgressModel",
      "_view_count": null,
      "_view_module": "@jupyter-widgets/controls",
      "_view_module_version": "1.5.0",
      "_view_name": "ProgressView",
      "bar_style": "success",
      "description": "",
      "description_tooltip": null,
      "layout": "IPY_MODEL_66d00030ec8e4e12b7861663dc4faf26",
      "max": 1,
      "min": 0,
      "orientation": "horizontal",
      "style": "IPY_MODEL_06bbecbbcd9148bf86283f955aa32f8e",
      "value": 1
     }
    },
    "4d2d1ed984b54dd58a22d903565364ce": {
     "model_module": "@jupyter-widgets/base",
     "model_module_version": "1.2.0",
     "model_name": "LayoutModel",
     "state": {
      "_model_module": "@jupyter-widgets/base",
      "_model_module_version": "1.2.0",
      "_model_name": "LayoutModel",
      "_view_count": null,
      "_view_module": "@jupyter-widgets/base",
      "_view_module_version": "1.2.0",
      "_view_name": "LayoutView",
      "align_content": null,
      "align_items": null,
      "align_self": null,
      "border": null,
      "bottom": null,
      "display": null,
      "flex": null,
      "flex_flow": null,
      "grid_area": null,
      "grid_auto_columns": null,
      "grid_auto_flow": null,
      "grid_auto_rows": null,
      "grid_column": null,
      "grid_gap": null,
      "grid_row": null,
      "grid_template_areas": null,
      "grid_template_columns": null,
      "grid_template_rows": null,
      "height": null,
      "justify_content": null,
      "justify_items": null,
      "left": null,
      "margin": null,
      "max_height": null,
      "max_width": null,
      "min_height": null,
      "min_width": null,
      "object_fit": null,
      "object_position": null,
      "order": null,
      "overflow": null,
      "overflow_x": null,
      "overflow_y": null,
      "padding": null,
      "right": null,
      "top": null,
      "visibility": null,
      "width": null
     }
    },
    "66a79212dc404c678a422d703bd93d67": {
     "model_module": "@jupyter-widgets/controls",
     "model_module_version": "1.5.0",
     "model_name": "DescriptionStyleModel",
     "state": {
      "_model_module": "@jupyter-widgets/controls",
      "_model_module_version": "1.5.0",
      "_model_name": "DescriptionStyleModel",
      "_view_count": null,
      "_view_module": "@jupyter-widgets/base",
      "_view_module_version": "1.2.0",
      "_view_name": "StyleView",
      "description_width": ""
     }
    },
    "66d00030ec8e4e12b7861663dc4faf26": {
     "model_module": "@jupyter-widgets/base",
     "model_module_version": "1.2.0",
     "model_name": "LayoutModel",
     "state": {
      "_model_module": "@jupyter-widgets/base",
      "_model_module_version": "1.2.0",
      "_model_name": "LayoutModel",
      "_view_count": null,
      "_view_module": "@jupyter-widgets/base",
      "_view_module_version": "1.2.0",
      "_view_name": "LayoutView",
      "align_content": null,
      "align_items": null,
      "align_self": null,
      "border": null,
      "bottom": null,
      "display": null,
      "flex": null,
      "flex_flow": null,
      "grid_area": null,
      "grid_auto_columns": null,
      "grid_auto_flow": null,
      "grid_auto_rows": null,
      "grid_column": null,
      "grid_gap": null,
      "grid_row": null,
      "grid_template_areas": null,
      "grid_template_columns": null,
      "grid_template_rows": null,
      "height": null,
      "justify_content": null,
      "justify_items": null,
      "left": null,
      "margin": null,
      "max_height": null,
      "max_width": null,
      "min_height": null,
      "min_width": null,
      "object_fit": null,
      "object_position": null,
      "order": null,
      "overflow": null,
      "overflow_x": null,
      "overflow_y": null,
      "padding": null,
      "right": null,
      "top": null,
      "visibility": null,
      "width": null
     }
    },
    "75ec65ebc565493d9c7fb09b9babbdd8": {
     "model_module": "@jupyter-widgets/base",
     "model_module_version": "1.2.0",
     "model_name": "LayoutModel",
     "state": {
      "_model_module": "@jupyter-widgets/base",
      "_model_module_version": "1.2.0",
      "_model_name": "LayoutModel",
      "_view_count": null,
      "_view_module": "@jupyter-widgets/base",
      "_view_module_version": "1.2.0",
      "_view_name": "LayoutView",
      "align_content": null,
      "align_items": null,
      "align_self": null,
      "border": null,
      "bottom": null,
      "display": null,
      "flex": null,
      "flex_flow": null,
      "grid_area": null,
      "grid_auto_columns": null,
      "grid_auto_flow": null,
      "grid_auto_rows": null,
      "grid_column": null,
      "grid_gap": null,
      "grid_row": null,
      "grid_template_areas": null,
      "grid_template_columns": null,
      "grid_template_rows": null,
      "height": null,
      "justify_content": null,
      "justify_items": null,
      "left": null,
      "margin": null,
      "max_height": null,
      "max_width": null,
      "min_height": null,
      "min_width": null,
      "object_fit": null,
      "object_position": null,
      "order": null,
      "overflow": null,
      "overflow_x": null,
      "overflow_y": null,
      "padding": null,
      "right": null,
      "top": null,
      "visibility": null,
      "width": null
     }
    },
    "7f6cd02dd35c43adbe5243abbb4911e0": {
     "model_module": "@jupyter-widgets/base",
     "model_module_version": "1.2.0",
     "model_name": "LayoutModel",
     "state": {
      "_model_module": "@jupyter-widgets/base",
      "_model_module_version": "1.2.0",
      "_model_name": "LayoutModel",
      "_view_count": null,
      "_view_module": "@jupyter-widgets/base",
      "_view_module_version": "1.2.0",
      "_view_name": "LayoutView",
      "align_content": null,
      "align_items": null,
      "align_self": null,
      "border": null,
      "bottom": null,
      "display": null,
      "flex": null,
      "flex_flow": null,
      "grid_area": null,
      "grid_auto_columns": null,
      "grid_auto_flow": null,
      "grid_auto_rows": null,
      "grid_column": null,
      "grid_gap": null,
      "grid_row": null,
      "grid_template_areas": null,
      "grid_template_columns": null,
      "grid_template_rows": null,
      "height": null,
      "justify_content": null,
      "justify_items": null,
      "left": null,
      "margin": null,
      "max_height": null,
      "max_width": null,
      "min_height": null,
      "min_width": null,
      "object_fit": null,
      "object_position": null,
      "order": null,
      "overflow": null,
      "overflow_x": null,
      "overflow_y": null,
      "padding": null,
      "right": null,
      "top": null,
      "visibility": null,
      "width": null
     }
    },
    "8b7b7763f1d544689332feea786fd135": {
     "model_module": "@jupyter-widgets/controls",
     "model_module_version": "1.5.0",
     "model_name": "DescriptionStyleModel",
     "state": {
      "_model_module": "@jupyter-widgets/controls",
      "_model_module_version": "1.5.0",
      "_model_name": "DescriptionStyleModel",
      "_view_count": null,
      "_view_module": "@jupyter-widgets/base",
      "_view_module_version": "1.2.0",
      "_view_name": "StyleView",
      "description_width": ""
     }
    },
    "9978c3eaed644ed992073d8a51b421ba": {
     "model_module": "@jupyter-widgets/controls",
     "model_module_version": "1.5.0",
     "model_name": "HBoxModel",
     "state": {
      "_dom_classes": [],
      "_model_module": "@jupyter-widgets/controls",
      "_model_module_version": "1.5.0",
      "_model_name": "HBoxModel",
      "_view_count": null,
      "_view_module": "@jupyter-widgets/controls",
      "_view_module_version": "1.5.0",
      "_view_name": "HBoxView",
      "box_style": "",
      "children": [
       "IPY_MODEL_c23911907148402fb01e813dacace25f",
       "IPY_MODEL_4aa7f1b59a754985863226aceae6a358",
       "IPY_MODEL_435f5e57a5a1440aa83deb09c7351d9e"
      ],
      "layout": "IPY_MODEL_f4aadb39468d426e818e7d5d1e4420e4"
     }
    },
    "a7ccdf6ca26f4a6188fe6101493d80fe": {
     "model_module": "@jupyter-widgets/controls",
     "model_module_version": "1.5.0",
     "model_name": "HTMLModel",
     "state": {
      "_dom_classes": [],
      "_model_module": "@jupyter-widgets/controls",
      "_model_module_version": "1.5.0",
      "_model_name": "HTMLModel",
      "_view_count": null,
      "_view_module": "@jupyter-widgets/controls",
      "_view_module_version": "1.5.0",
      "_view_name": "HTMLView",
      "description": "",
      "description_tooltip": null,
      "layout": "IPY_MODEL_fe7b7b5e0f5440b98d1871e3c54a511b",
      "placeholder": "​",
      "style": "IPY_MODEL_66a79212dc404c678a422d703bd93d67",
      "value": "Downloading: 100%"
     }
    },
    "c23911907148402fb01e813dacace25f": {
     "model_module": "@jupyter-widgets/controls",
     "model_module_version": "1.5.0",
     "model_name": "HTMLModel",
     "state": {
      "_dom_classes": [],
      "_model_module": "@jupyter-widgets/controls",
      "_model_module_version": "1.5.0",
      "_model_name": "HTMLModel",
      "_view_count": null,
      "_view_module": "@jupyter-widgets/controls",
      "_view_module_version": "1.5.0",
      "_view_name": "HTMLView",
      "description": "",
      "description_tooltip": null,
      "layout": "IPY_MODEL_0efecf6c931e403d81779d07292a69b0",
      "placeholder": "​",
      "style": "IPY_MODEL_8b7b7763f1d544689332feea786fd135",
      "value": "Job ID f56f3f25-f5c0-4b87-9743-71cb780a683a successfully executed: 100%"
     }
    },
    "cf5b5ee7bd5f4cc2ba933608f72bbc1a": {
     "model_module": "@jupyter-widgets/controls",
     "model_module_version": "1.5.0",
     "model_name": "DescriptionStyleModel",
     "state": {
      "_model_module": "@jupyter-widgets/controls",
      "_model_module_version": "1.5.0",
      "_model_name": "DescriptionStyleModel",
      "_view_count": null,
      "_view_module": "@jupyter-widgets/base",
      "_view_module_version": "1.2.0",
      "_view_name": "StyleView",
      "description_width": ""
     }
    },
    "f4aadb39468d426e818e7d5d1e4420e4": {
     "model_module": "@jupyter-widgets/base",
     "model_module_version": "1.2.0",
     "model_name": "LayoutModel",
     "state": {
      "_model_module": "@jupyter-widgets/base",
      "_model_module_version": "1.2.0",
      "_model_name": "LayoutModel",
      "_view_count": null,
      "_view_module": "@jupyter-widgets/base",
      "_view_module_version": "1.2.0",
      "_view_name": "LayoutView",
      "align_content": null,
      "align_items": null,
      "align_self": null,
      "border": null,
      "bottom": null,
      "display": null,
      "flex": null,
      "flex_flow": null,
      "grid_area": null,
      "grid_auto_columns": null,
      "grid_auto_flow": null,
      "grid_auto_rows": null,
      "grid_column": null,
      "grid_gap": null,
      "grid_row": null,
      "grid_template_areas": null,
      "grid_template_columns": null,
      "grid_template_rows": null,
      "height": null,
      "justify_content": null,
      "justify_items": null,
      "left": null,
      "margin": null,
      "max_height": null,
      "max_width": null,
      "min_height": null,
      "min_width": null,
      "object_fit": null,
      "object_position": null,
      "order": null,
      "overflow": null,
      "overflow_x": null,
      "overflow_y": null,
      "padding": null,
      "right": null,
      "top": null,
      "visibility": null,
      "width": null
     }
    },
    "fcd2b9e894e042348019895109f36bd2": {
     "model_module": "@jupyter-widgets/controls",
     "model_module_version": "1.5.0",
     "model_name": "FloatProgressModel",
     "state": {
      "_dom_classes": [],
      "_model_module": "@jupyter-widgets/controls",
      "_model_module_version": "1.5.0",
      "_model_name": "FloatProgressModel",
      "_view_count": null,
      "_view_module": "@jupyter-widgets/controls",
      "_view_module_version": "1.5.0",
      "_view_name": "ProgressView",
      "bar_style": "success",
      "description": "",
      "description_tooltip": null,
      "layout": "IPY_MODEL_7f6cd02dd35c43adbe5243abbb4911e0",
      "max": 33854,
      "min": 0,
      "orientation": "horizontal",
      "style": "IPY_MODEL_003b084538784bb69ed6de0fccca8a2f",
      "value": 33854
     }
    },
    "fe7b7b5e0f5440b98d1871e3c54a511b": {
     "model_module": "@jupyter-widgets/base",
     "model_module_version": "1.2.0",
     "model_name": "LayoutModel",
     "state": {
      "_model_module": "@jupyter-widgets/base",
      "_model_module_version": "1.2.0",
      "_model_name": "LayoutModel",
      "_view_count": null,
      "_view_module": "@jupyter-widgets/base",
      "_view_module_version": "1.2.0",
      "_view_name": "LayoutView",
      "align_content": null,
      "align_items": null,
      "align_self": null,
      "border": null,
      "bottom": null,
      "display": null,
      "flex": null,
      "flex_flow": null,
      "grid_area": null,
      "grid_auto_columns": null,
      "grid_auto_flow": null,
      "grid_auto_rows": null,
      "grid_column": null,
      "grid_gap": null,
      "grid_row": null,
      "grid_template_areas": null,
      "grid_template_columns": null,
      "grid_template_rows": null,
      "height": null,
      "justify_content": null,
      "justify_items": null,
      "left": null,
      "margin": null,
      "max_height": null,
      "max_width": null,
      "min_height": null,
      "min_width": null,
      "object_fit": null,
      "object_position": null,
      "order": null,
      "overflow": null,
      "overflow_x": null,
      "overflow_y": null,
      "padding": null,
      "right": null,
      "top": null,
      "visibility": null,
      "width": null
     }
    }
   }
  }
 },
 "nbformat": 4,
 "nbformat_minor": 5
}

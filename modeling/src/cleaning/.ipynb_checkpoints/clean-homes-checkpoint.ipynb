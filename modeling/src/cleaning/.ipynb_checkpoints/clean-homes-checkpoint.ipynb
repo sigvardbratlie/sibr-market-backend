{
 "cells": [
  {
   "cell_type": "markdown",
   "metadata": {
    "id": "cJ9IGjfClsFj"
   },
   "source": [
    "## CLEAN HOMES"
   ]
  },
  {
   "cell_type": "code",
   "execution_count": 1,
   "metadata": {
    "ExecuteTime": {
     "end_time": "2025-06-09T18:59:01.270275Z",
     "start_time": "2025-06-09T18:59:00.208940Z"
    }
   },
   "outputs": [],
   "source": [
    "import os\n",
    "os.chdir(\"../..\")\n",
    "from examples.help_modules import BigQuery, ConfigReader, Logger,CStorage\n",
    "import re\n",
    "import numpy as np\n",
    "import pandas as pd\n",
    "import pandas_gbq as gbq\n",
    "\n",
    "pd.set_option('display.max_columns', None)\n",
    "pd.set_option('future.no_silent_downcasting', True)"
   ]
  },
  {
   "cell_type": "code",
   "execution_count": 3,
   "metadata": {
    "ExecuteTime": {
     "end_time": "2025-06-09T18:59:01.437077Z",
     "start_time": "2025-06-09T18:59:01.281026Z"
    }
   },
   "outputs": [
    {
     "name": "stderr",
     "output_type": "stream",
     "text": [
      "2025-06-10 17:11:54,278 - cleanHomes - INFO - Google Cloud Logging initialized with project: sibr-market\n",
      "2025-06-10 17:11:54,279 - cleanHomes - INFO - All loggs successfully initiated\n",
      "2025-06-10 17:11:54,331 - cleanHomes - INFO - BigQuery client initialized with project_id: sibr-market\n",
      "2025-06-10 17:11:54,389 - cleanHomes - INFO - Google Cloud Storage client initialized with bucket: sibr-market-bucket\n"
     ]
    }
   ],
   "source": [
    "replace = False\n",
    "p = ConfigReader().get_config().get('bq_path')\n",
    "logger = Logger('cleanHomes',CREDENTIALS_PATH=p)\n",
    "bq = BigQuery(CREDENTIALS_PATH=p, logger=logger)\n",
    "cs = CStorage(logger=logger, bucket_name='sibr-market-bucket', CREDENTIALS_PATH=p)"
   ]
  },
  {
   "cell_type": "code",
   "execution_count": 4,
   "metadata": {
    "ExecuteTime": {
     "end_time": "2025-06-09T18:59:17.624008Z",
     "start_time": "2025-06-09T18:59:01.553529Z"
    }
   },
   "outputs": [
    {
     "name": "stderr",
     "output_type": "stream",
     "text": [
      "2025-06-10 17:12:22,392 - cleanHomes - DEBUG - Replace: False\n"
     ]
    },
    {
     "data": {
      "text/html": [
       "Query job 1933d933-9145-40e9-92a7-850fd7a402bb is DONE. 0 Bytes processed. <a target=\"_blank\" href=\"https://console.cloud.google.com/bigquery?project=sibr-market&j=bq:EU:1933d933-9145-40e9-92a7-850fd7a402bb&page=queryresults\">Open Job</a>"
      ],
      "text/plain": [
       "<IPython.core.display.HTML object>"
      ]
     },
     "metadata": {},
     "output_type": "display_data"
    },
    {
     "data": {
      "text/html": [
       "Query job 5082638e-4bb7-4ab5-90db-fb09c8cc8446 is DONE. 1.9 GB processed. <a target=\"_blank\" href=\"https://console.cloud.google.com/bigquery?project=sibr-market&j=bq:EU:5082638e-4bb7-4ab5-90db-fb09c8cc8446&page=queryresults\">Open Job</a>"
      ],
      "text/plain": [
       "<IPython.core.display.HTML object>"
      ]
     },
     "metadata": {},
     "output_type": "display_data"
    },
    {
     "data": {
      "text/html": [
       "Query job ff95c898-f8d4-453b-9960-77da2b50a7cc is DONE. 66.3 MB processed. <a target=\"_blank\" href=\"https://console.cloud.google.com/bigquery?project=sibr-market&j=bq:EU:ff95c898-f8d4-453b-9960-77da2b50a7cc&page=queryresults\">Open Job</a>"
      ],
      "text/plain": [
       "<IPython.core.display.HTML object>"
      ]
     },
     "metadata": {},
     "output_type": "display_data"
    },
    {
     "name": "stderr",
     "output_type": "stream",
     "text": [
      "2025-06-10 17:12:40,177 - cleanHomes - INFO - 23172 rader lest fra BigQuery\n"
     ]
    }
   ],
   "source": [
    "logger.debug(f'Replace: {replace}')\n",
    "if replace:\n",
    "    sql = '''\n",
    "            SELECT\n",
    "                t.*\n",
    "            FROM\n",
    "              (SELECT\n",
    "                    *,\n",
    "                    ROW_NUMBER() OVER(PARTITION BY item_id ORDER BY scrape_date DESC) as rn\n",
    "                  FROM sibr-market.raw.homes) t\n",
    "            WHERE t.rn = 1\n",
    "    '''\n",
    "else:\n",
    "    sql = '''\n",
    "            SELECT\n",
    "            t.*\n",
    "        FROM\n",
    "          (SELECT\n",
    "                *,\n",
    "                ROW_NUMBER() OVER(PARTITION BY item_id ORDER BY scrape_date DESC) as rn\n",
    "              FROM sibr-market.raw.homes) t\n",
    "        LEFT JOIN sibr-market.clean.homes h ON t.item_id = h.item_id\n",
    "        WHERE t.rn = 1\n",
    "        AND t.scrape_date = (SELECT MAX(scrape_date) FROM sibr-market.raw.homes)\n",
    "'''\n",
    "\n",
    "try:\n",
    "    df_ = bq.read_bq(sql)\n",
    "    if len(df_) == 0:\n",
    "        raise ValueError('No results for query')\n",
    "except:\n",
    "    raise ValueError(f'Could not initiate data!')"
   ]
  },
  {
   "cell_type": "code",
   "execution_count": 5,
   "metadata": {
    "ExecuteTime": {
     "end_time": "2025-06-09T18:59:18.556791Z",
     "start_time": "2025-06-09T18:59:17.644608Z"
    }
   },
   "outputs": [
    {
     "name": "stdout",
     "output_type": "stream",
     "text": [
      "Downloading: 100%|\u001B[32m██████████\u001B[0m|"
     ]
    },
    {
     "name": "stderr",
     "output_type": "stream",
     "text": [
      "2025-06-10 17:12:41,165 - cleanHomes - INFO - 5137 rader lest fra BigQuery\n"
     ]
    },
    {
     "name": "stdout",
     "output_type": "stream",
     "text": [
      "\n"
     ]
    }
   ],
   "source": [
    "geo = bq.read_bq('SELECT * FROM admin.geo_norge', read_type='pandas_gbq')"
   ]
  },
  {
   "cell_type": "code",
   "execution_count": 6,
   "metadata": {
    "ExecuteTime": {
     "end_time": "2025-06-09T18:59:25.121536Z",
     "start_time": "2025-06-09T18:59:18.572269Z"
    }
   },
   "outputs": [
    {
     "data": {
      "text/html": [
       "Query job 3aa215d5-230c-4e3d-a8f6-51c36ae255f1 is DONE. 37.3 MB processed. <a target=\"_blank\" href=\"https://console.cloud.google.com/bigquery?project=sibr-market&j=bq:EU:3aa215d5-230c-4e3d-a8f6-51c36ae255f1&page=queryresults\">Open Job</a>"
      ],
      "text/plain": [
       "<IPython.core.display.HTML object>"
      ]
     },
     "metadata": {},
     "output_type": "display_data"
    },
    {
     "data": {
      "text/html": [
       "Query job 61b63e14-5f1a-4e13-908d-1fbd6708abd7 is DONE. 130.5 kB processed. <a target=\"_blank\" href=\"https://console.cloud.google.com/bigquery?project=sibr-market&j=bq:EU:61b63e14-5f1a-4e13-908d-1fbd6708abd7&page=queryresults\">Open Job</a>"
      ],
      "text/plain": [
       "<IPython.core.display.HTML object>"
      ]
     },
     "metadata": {},
     "output_type": "display_data"
    },
    {
     "name": "stderr",
     "output_type": "stream",
     "text": [
      "2025-06-10 17:12:48,836 - cleanHomes - INFO - 3708 rader lest fra BigQuery\n"
     ]
    }
   ],
   "source": [
    "if replace:\n",
    "    sql = '''\n",
    "    SELECT\n",
    "      nd.item_id,\n",
    "      PARSE_DATE('%Y-%m-%d', MIN(nd.scrape_date)) AS FIRST,\n",
    "      PARSE_DATE('%Y-%m-%d', MAX(nd.scrape_date)) AS LAST,\n",
    "      NULLIF( DATE_DIFF( PARSE_DATE('%Y-%m-%d', MAX(nd.scrape_date)), PARSE_DATE('%Y-%m-%d', MIN(nd.scrape_date)), DAY), 0) AS salgstid\n",
    "    FROM\n",
    "      `sibr-market.raw.homes` AS nd\n",
    "    WHERE\n",
    "      nd.item_id NOT IN\n",
    "      (\n",
    "      SELECT item_id\n",
    "          FROM `sibr-market.raw.homes`\n",
    "          WHERE\n",
    "            scrape_date = (SELECT MIN(scrape_date) FROM`sibr-market.raw.homes`)\n",
    "            OR\n",
    "            scrape_date = (SELECT MAX(scrape_date) FROM`sibr-market.raw.homes` )\n",
    "            )\n",
    "    GROUP BY\n",
    "      1;\n",
    "      '''\n",
    "else:\n",
    "    sql = '''\n",
    "    SELECT\n",
    "      nd.item_id,\n",
    "      PARSE_DATE('%Y-%m-%d', MIN(nd.scrape_date)) AS FIRST,\n",
    "      PARSE_DATE('%Y-%m-%d', MAX(nd.scrape_date)) AS LAST,\n",
    "      NULLIF( DATE_DIFF( PARSE_DATE('%Y-%m-%d', MAX(nd.scrape_date)), PARSE_DATE('%Y-%m-%d', MIN(nd.scrape_date)), DAY), 0) AS salgstid\n",
    "    FROM\n",
    "      `sibr-market.raw.homes` AS nd\n",
    "      LEFT JOIN sibr-market.clean.homes c ON c.item_id = nd.item_id\n",
    "    WHERE\n",
    "      nd.item_id NOT IN\n",
    "      (\n",
    "      SELECT item_id\n",
    "          FROM `sibr-market.raw.homes`\n",
    "          WHERE\n",
    "            scrape_date = (SELECT MIN(scrape_date) FROM`sibr-market.raw.homes`)\n",
    "            OR\n",
    "            scrape_date = (SELECT MAX(scrape_date) FROM`sibr-market.raw.homes` )\n",
    "            )\n",
    "    AND c.item_id IS NULL\n",
    "    GROUP BY\n",
    "      1;\n",
    "      '''\n",
    "try:\n",
    "    salgstid = bq.read_bq(sql)\n",
    "    if len(salgstid) == 0:\n",
    "        raise ValueError('No results for query')\n",
    "except:\n",
    "    raise ValueError(f'Could not initiate data!')"
   ]
  },
  {
   "cell_type": "markdown",
   "metadata": {},
   "source": [
    "## Remove empty feature and missing data"
   ]
  },
  {
   "cell_type": "code",
   "execution_count": 7,
   "metadata": {
    "ExecuteTime": {
     "end_time": "2025-06-09T18:59:25.216519Z",
     "start_time": "2025-06-09T18:59:25.138816Z"
    }
   },
   "outputs": [
    {
     "name": "stderr",
     "output_type": "stream",
     "text": [
      "2025-06-10 17:12:48,848 - cleanHomes - DEBUG - Length of df before cleaning: 23172\n",
      "2025-06-10 17:12:49,077 - cleanHomes - DEBUG - Length: 23172 | after removing columns with >90% missing values\n"
     ]
    }
   ],
   "source": [
    "logger.debug(f'Length of df before cleaning: {len(df_)}')\n",
    "df = df_.drop_duplicates(subset='item_id')\n",
    "null_val = ['nan','None','','null','NULL','NA','np.nan','<NA>','NaN','NAType',np.nan]\n",
    "df = df.replace(null_val,np.nan)\n",
    "\n",
    "for col in df.columns:\n",
    "  if df[col].isna().sum() / len(df) > 0.9:\n",
    "    df.drop(col,axis=1,inplace=True)\n",
    "logger.debug(f'Length: {len(df)} | after removing columns with >90% missing values')"
   ]
  },
  {
   "cell_type": "code",
   "execution_count": 8,
   "metadata": {
    "ExecuteTime": {
     "end_time": "2025-06-09T18:59:25.243627Z",
     "start_time": "2025-06-09T18:59:25.233657Z"
    }
   },
   "outputs": [
    {
     "name": "stderr",
     "output_type": "stream",
     "text": [
      "2025-06-10 17:12:49,112 - cleanHomes - DEBUG - Length: 23172 | after merge with sales time\n"
     ]
    }
   ],
   "source": [
    "df = pd.merge(df, salgstid, how='left', on='item_id')\n",
    "logger.debug(f'Length: {len(df)} | after merge with sales time')"
   ]
  },
  {
   "cell_type": "markdown",
   "metadata": {},
   "source": [
    "## Int and Float data"
   ]
  },
  {
   "cell_type": "code",
   "execution_count": 9,
   "metadata": {
    "ExecuteTime": {
     "end_time": "2025-06-09T18:59:25.264281Z",
     "start_time": "2025-06-09T18:59:25.260291Z"
    }
   },
   "outputs": [],
   "source": [
    "def extract_int(x: str) -> int | None:\n",
    "    \"\"\"\n",
    "    Trekker ut det første tallet fra en streng på en robust måte.\n",
    "\n",
    "    - Håndterer alle typer mellomrom (vanlige og harde).\n",
    "    - Fjerner tekst og valutasymboler.\n",
    "    - Konverterer til heltall eller flyttall etter behov.\n",
    "    \"\"\"\n",
    "    if not isinstance(x, str):\n",
    "        return None\n",
    "\n",
    "    # 1. Fjern alle typer mellomrom (både vanlige og harde)\n",
    "    # \\s er et spesialtegn i regex som matcher alle \"whitespace\" tegn.\n",
    "    uten_mellomrom = re.sub(r'\\s', '', x)\n",
    "\n",
    "    # 2. Finn den første sekvensen av sifre (og eventuelt ett punktum)\n",
    "    treff = re.search(r'[\\d.]+', uten_mellomrom)\n",
    "\n",
    "    if not treff:\n",
    "        return None\n",
    "\n",
    "    try:\n",
    "        nummer_str = treff.group(0)\n",
    "        nummer_float = float(nummer_str)\n",
    "\n",
    "        # 3. Returner som heltall hvis det ikke er desimaler, ellers som float\n",
    "        if nummer_float.is_integer():\n",
    "            return int(nummer_float)\n",
    "        else:\n",
    "            return nummer_float\n",
    "    except (ValueError, TypeError):\n",
    "        # Håndterer ugyldige formater som \"1.2.3\"\n",
    "        return None"
   ]
  },
  {
   "cell_type": "code",
   "execution_count": 10,
   "metadata": {
    "ExecuteTime": {
     "end_time": "2025-06-09T18:59:26.633168Z",
     "start_time": "2025-06-09T18:59:25.373897Z"
    }
   },
   "outputs": [
    {
     "name": "stderr",
     "output_type": "stream",
     "text": [
      "2025-06-10 17:12:52,157 - cleanHomes - DEBUG - Length: 22954 | after filter price and usable_area\n"
     ]
    }
   ],
   "source": [
    "int_cols = ['price','balcony', 'total_price','bedrooms', 'rooms', 'build_year',\n",
    "            #'primary_area',\n",
    "            'usable_area',\n",
    "            'internal_area', 'external_area', 'plot_size','fees', 'joint_debt', 'monthly_common_cost',\n",
    "              'collective_assets', 'tax_value','floor']\n",
    "\n",
    "\n",
    "for col in int_cols:\n",
    "    if col in df.columns:\n",
    "        new = df[col].apply(lambda x: extract_int(x) if isinstance(x, str) else x)\n",
    "        df[col] = new.astype('Int64', errors='ignore')\n",
    "        #print(f'Column: {col} | NaN: {df[col].isna().sum()} | Dtype: {df[col].dtype}')\n",
    "\n",
    "\n",
    "\n",
    "df.loc[:,'bedrooms'] = df['bedrooms'].fillna(0)\n",
    "df.loc[:, 'internal_area'] = df['internal_area'].fillna(df['usable_area'])\n",
    "df.loc[:,'usable_area'] = df['usable_area'].fillna(df['internal_area'])\n",
    "\n",
    "# Fix 1: price_pr_sqm\n",
    "df.loc[:,'price_pr_sqm'] = df.apply(\n",
    "    lambda x: x['price'] / x['usable_area']\n",
    "    if pd.notna(x['usable_area']) and pd.notna(x['price'])  and x['usable_area'] > 0\n",
    "    else np.nan,\n",
    "    axis=1\n",
    ")\n",
    "# logger.debug(f'Length: {len(df)} | after price_pr_sqm. NaN: {df[\"price_pr_sqm\"].isna().sum()}')\n",
    "\n",
    "df.loc[:,'price_pr_bedroom'] = df.apply(\n",
    "    lambda x: x['price'] / x['bedrooms']\n",
    "    if pd.notna(x['bedrooms']) and pd.notna(x['price']) and x['bedrooms'] > 0\n",
    "    else np.nan,\n",
    "    axis=1\n",
    ")\n",
    "\n",
    "df.loc[:,'sqm_pr_bedroom'] = df.apply(\n",
    "    lambda x: x['usable_area'] / x['bedrooms']\n",
    "    if pd.notna(x['usable_area']) and pd.notna(x['bedrooms']) and x['bedrooms'] > 0\n",
    "    else np.nan,\n",
    "    axis=1\n",
    ")\n",
    "# logger.debug(f'Length: {len(df)} | after sqm_pr_bedroom. NaN: {df[\"sqm_pr_bedroom\"].isna().sum()}')\n",
    "df.drop('primary_area',axis=1,inplace=True,errors = 'ignore')\n",
    "\n",
    "df = df[(df['price']>200000) & (df['price']<30000000) &\n",
    "        ( (df['usable_area']>0) & (df['usable_area']<1500))]\n",
    "\n",
    "logger.debug(f'Length: {len(df)} | after filter price and usable_area')"
   ]
  },
  {
   "cell_type": "markdown",
   "metadata": {
    "id": "mjpprFWvhdJ6"
   },
   "source": [
    "# Datetime Data"
   ]
  },
  {
   "cell_type": "code",
   "execution_count": 11,
   "metadata": {
    "ExecuteTime": {
     "end_time": "2025-06-09T18:59:26.660705Z",
     "start_time": "2025-06-09T18:59:26.651007Z"
    }
   },
   "outputs": [
    {
     "name": "stderr",
     "output_type": "stream",
     "text": [
      "2025-06-10 17:12:52,181 - cleanHomes - DEBUG - Length: 22954 | after datetime conversion\n"
     ]
    }
   ],
   "source": [
    "df['scrape_date'] = pd.to_datetime(df['scrape_date'],errors='coerce',utc=True)\n",
    "df['clean_date'] = pd.Timestamp.now()\n",
    "logger.debug(f'Length: {len(df)} | after datetime conversion')"
   ]
  },
  {
   "cell_type": "markdown",
   "metadata": {},
   "source": [
    "## Geographical data"
   ]
  },
  {
   "cell_type": "code",
   "execution_count": 12,
   "metadata": {
    "ExecuteTime": {
     "end_time": "2025-06-09T18:59:26.706703Z",
     "start_time": "2025-06-09T18:59:26.678700Z"
    }
   },
   "outputs": [
    {
     "name": "stderr",
     "output_type": "stream",
     "text": [
      "2025-06-10 17:12:52,258 - cleanHomes - DEBUG - Length: 22954 | after geo\n"
     ]
    }
   ],
   "source": [
    "def extract_postnummer(x):\n",
    "  if not isinstance(x, str):\n",
    "        return x\n",
    "\n",
    "  else:\n",
    "    match_ = re.search(r'\\d{4}',x)\n",
    "    if match_:\n",
    "      return match_.group()\n",
    "\n",
    "df.loc[:,'postal_code'] = df['address'].apply(extract_postnummer)\n",
    "df = pd.merge(df,geo[['postal_code','municipality','county','region']],how='left',on='postal_code')\n",
    "logger.debug(f'Length: {len(df)} | after geo')"
   ]
  },
  {
   "cell_type": "markdown",
   "metadata": {},
   "source": [
    "## Categorical Data"
   ]
  },
  {
   "cell_type": "code",
   "execution_count": 13,
   "metadata": {
    "ExecuteTime": {
     "end_time": "2025-06-09T18:59:26.958901Z",
     "start_time": "2025-06-09T18:59:26.739337Z"
    }
   },
   "outputs": [
    {
     "name": "stderr",
     "output_type": "stream",
     "text": [
      "/var/tmp/ipykernel_3332/2639718200.py:1: PerformanceWarning: Falling back on a non-pyarrow code path which may decrease performance.\n",
      "  df['ownership_type'] = df['ownership_type'].str.replace(r'^eieform', '', case=False, regex=True)\n",
      "/var/tmp/ipykernel_3332/2639718200.py:3: PerformanceWarning: Falling back on a non-pyarrow code path which may decrease performance.\n",
      "  df['property_type'] = df['property_type'].str.replace(r'^boligtype', '', case=False, regex=True)\n",
      "/var/tmp/ipykernel_3332/2639718200.py:4: PerformanceWarning: Falling back on a non-pyarrow code path which may decrease performance.\n",
      "  df['property_type'] = df['property_type'].str.replace(r'\\s*/småbruk', '', case=False, regex=True)\n",
      "/var/tmp/ipykernel_3332/2639718200.py:15: FutureWarning: Setting an item of incompatible dtype is deprecated and will raise in a future error of pandas. Value '['False' 'False' 'False' ... 'False' 'False' 'False']' has dtype incompatible with boolean, please explicitly cast to a compatible dtype first.\n",
      "  df.loc[:,'fixer-upper'] = df['fixer-upper'].astype('str')\n",
      "2025-06-10 17:12:52,636 - cleanHomes - DEBUG - Length: 22954 | after categorical\n"
     ]
    }
   ],
   "source": [
    "df['ownership_type'] = df['ownership_type'].str.replace(r'^eieform', '', case=False, regex=True)\n",
    "df['ownership_type'] = df['ownership_type'].apply(lambda x: x.replace('(Selveier)',\"\") if isinstance(x,str) else x)\n",
    "df['property_type'] = df['property_type'].str.replace(r'^boligtype', '', case=False, regex=True)\n",
    "df['property_type'] = df['property_type'].str.replace(r'\\s*/småbruk', '', case=False, regex=True)\n",
    "df['property_type'] = df['property_type'].str.replace(r'/$', '', regex=True)\n",
    "df['dealer'] = df['dealer'].fillna('private')\n",
    "\n",
    "keys = [\n",
    "        'oppussingsobjekt', 'oppussingsbehov', 'oppussingsklar','renoveringsobjekt','oppgraderingsobjekt',\n",
    "        'renoveringsbehov', 'moderniseringsbehov','moderniseringsobjekt','oppgraderingsbehov',\n",
    "        ]\n",
    "regex = '|'.join(re.escape(key) for key in keys)\n",
    "df.loc[:,'fixer-upper'] = df['description'].str.lower().str.contains(regex, regex=True)\n",
    "df.loc[:,'fixer-upper'] = df['fixer-upper'].fillna(False)\n",
    "df.loc[:,'fixer-upper'] = df['fixer-upper'].astype('str')\n",
    "\n",
    "cat_cols = ['dealer','energy_rating','municipality','county','region','property_type','ownership_type','country']\n",
    "for col in cat_cols:\n",
    "  df[col] = df[col].astype('category')\n",
    "\n",
    "logger.debug(f'Length: {len(df)} | after categorical')"
   ]
  },
  {
   "cell_type": "markdown",
   "metadata": {},
   "source": [
    "## Boolean data"
   ]
  },
  {
   "cell_type": "code",
   "execution_count": 14,
   "metadata": {
    "ExecuteTime": {
     "end_time": "2025-06-09T18:59:26.967044Z",
     "start_time": "2025-06-09T18:59:26.964784Z"
    }
   },
   "outputs": [],
   "source": [
    "if 'sold' in df.columns:\n",
    "    df.loc[:,'sold'] = df['sold'].str.lower().str.strip()\n",
    "    df.loc[:,'sold'] = df['sold'].apply(lambda x: True if pd.notna(x) and x == 'solgt' else False)\n",
    "    df.loc[:,'sold'] = df['sold'].fillna(False)\n",
    "    df['sold'].value_counts()"
   ]
  },
  {
   "cell_type": "code",
   "execution_count": 15,
   "metadata": {
    "ExecuteTime": {
     "end_time": "2025-06-09T18:59:27.015291Z",
     "start_time": "2025-06-09T18:59:27.001725Z"
    }
   },
   "outputs": [
    {
     "name": "stderr",
     "output_type": "stream",
     "text": [
      "2025-06-10 17:12:52,655 - cleanHomes - DEBUG - Length: 22954 | after boolean\n"
     ]
    },
    {
     "name": "stdout",
     "output_type": "stream",
     "text": [
      "<class 'pandas.core.frame.DataFrame'>\n",
      "RangeIndex: 22954 entries, 0 to 22953\n",
      "Data columns (total 51 columns):\n",
      " #   Column               Non-Null Count  Dtype               \n",
      "---  ------               --------------  -----               \n",
      " 0   dealer               22954 non-null  category            \n",
      " 1   district             15958 non-null  string              \n",
      " 2   address              22954 non-null  string              \n",
      " 3   price                22954 non-null  Int64               \n",
      " 4   total_price          22835 non-null  Int64               \n",
      " 5   fees                 22813 non-null  Int64               \n",
      " 6   joint_debt           6705 non-null   Int64               \n",
      " 7   monthly_common_cost  12186 non-null  Int64               \n",
      " 8   collective_assets    6782 non-null   Int64               \n",
      " 9   tax_value            19291 non-null  Int64               \n",
      " 10  property_type        22954 non-null  category            \n",
      " 11  ownership_type       22954 non-null  category            \n",
      " 12  bedrooms             22954 non-null  Int64               \n",
      " 13  internal_area        22954 non-null  Int64               \n",
      " 14  usable_area          22954 non-null  Int64               \n",
      " 15  external_area        16991 non-null  Int64               \n",
      " 16  floor                14727 non-null  Int64               \n",
      " 17  balcony              16916 non-null  Int64               \n",
      " 18  build_year           22739 non-null  Int64               \n",
      " 19  energy_rating        18919 non-null  category            \n",
      " 20  rooms                15563 non-null  Int64               \n",
      " 21  plot_size            21547 non-null  Int64               \n",
      " 22  last_updated         22954 non-null  string              \n",
      " 23  item_id              22954 non-null  string              \n",
      " 24  title                22954 non-null  string              \n",
      " 25  description          22954 non-null  string              \n",
      " 26  email                22340 non-null  string              \n",
      " 27  contact_person       22317 non-null  string              \n",
      " 28  phone                22336 non-null  string              \n",
      " 29  url                  22954 non-null  string              \n",
      " 30  scrape_date          22954 non-null  datetime64[ns, UTC] \n",
      " 31  country              22954 non-null  category            \n",
      " 32  web                  14155 non-null  string              \n",
      " 33  new                  22954 non-null  string              \n",
      " 34  facilities           22954 non-null  string              \n",
      " 35  cadastral_num        22954 non-null  string              \n",
      " 36  unit_num             22954 non-null  string              \n",
      " 37  section_num          22954 non-null  string              \n",
      " 38  rn                   22954 non-null  Int64               \n",
      " 39  FIRST                0 non-null      date32[day][pyarrow]\n",
      " 40  LAST                 0 non-null      date32[day][pyarrow]\n",
      " 41  salgstid             0 non-null      Int64               \n",
      " 42  price_pr_sqm         22954 non-null  float64             \n",
      " 43  price_pr_bedroom     22194 non-null  float64             \n",
      " 44  sqm_pr_bedroom       22194 non-null  float64             \n",
      " 45  clean_date           22954 non-null  datetime64[us]      \n",
      " 46  postal_code          22954 non-null  object              \n",
      " 47  municipality         22831 non-null  category            \n",
      " 48  county               22831 non-null  category            \n",
      " 49  region               22831 non-null  category            \n",
      " 50  fixer-upper          22954 non-null  object              \n",
      "dtypes: Int64(18), category(8), date32[day][pyarrow](2), datetime64[ns, UTC](1), datetime64[us](1), float64(3), object(2), string(16)\n",
      "memory usage: 63.8+ MB\n"
     ]
    }
   ],
   "source": [
    "logger.debug(f'Length: {len(df)} | after boolean')"
   ]
  },
  {
   "cell_type": "code",
   "execution_count": 16,
   "metadata": {
    "ExecuteTime": {
     "end_time": "2025-06-09T18:59:27.048370Z",
     "start_time": "2025-06-09T18:59:27.029Z"
    }
   },
   "outputs": [],
   "source": [
    "df.loc[:,'FIRST'] = pd.to_datetime(df['FIRST'], errors='coerce', utc=True)\n",
    "df.loc[:,'LAST'] = pd.to_datetime(df['LAST'], errors='coerce', utc=True)"
   ]
  },
  {
   "cell_type": "markdown",
   "metadata": {},
   "source": [
    "# Ensure extra columns"
   ]
  },
  {
   "cell_type": "code",
   "execution_count": 17,
   "metadata": {
    "ExecuteTime": {
     "end_time": "2025-06-09T18:59:27.067371Z",
     "start_time": "2025-06-09T18:59:27.064125Z"
    }
   },
   "outputs": [],
   "source": [
    "if 'email' not in df.columns:\n",
    "    df['email'] = None\n",
    "if 'web' not in df.columns:\n",
    "    df['web'] = None\n"
   ]
  },
  {
   "cell_type": "markdown",
   "metadata": {},
   "source": [
    "## Save to BQ"
   ]
  },
  {
   "cell_type": "code",
   "execution_count": 18,
   "metadata": {
    "ExecuteTime": {
     "end_time": "2025-06-09T18:59:46.015198Z",
     "start_time": "2025-06-09T18:59:27.085408Z"
    }
   },
   "outputs": [
    {
     "name": "stderr",
     "output_type": "stream",
     "text": [
      "2025-06-10 17:12:52,821 - cleanHomes - DEBUG - Length: 22954 | before saving to BQ. Replace False\n",
      "2025-06-10 17:12:52,981 - cleanHomes - INFO - Starting MERGE. Uploading data to staging table: sibr-market.clean.homes_staging_d81602180f7c423abe667f82e7153c6c\n",
      "2025-06-10 17:12:58,445 - cleanHomes - INFO - Staging table sibr-market.clean.homes_staging_d81602180f7c423abe667f82e7153c6c created with 22954 rows.\n",
      "2025-06-10 17:12:58,447 - cleanHomes - INFO - Executing MERGE statement...\n",
      "2025-06-10 17:13:09,422 - cleanHomes - INFO - Query executed: \n",
      "                                MERGE `sibr-market.clean.homes` AS T\n",
      "                              ... (truncated)\n",
      "2025-06-10 17:13:09,424 - cleanHomes - INFO - MERGE operation on sibr-market.clean.homes complete.\n",
      "2025-06-10 17:13:09,428 - cleanHomes - INFO - Deleting staging table: sibr-market.clean.homes_staging_d81602180f7c423abe667f82e7153c6c\n"
     ]
    }
   ],
   "source": [
    "logger.debug(f'Length: {len(df)} | before saving to BQ. Replace {replace}')\n",
    "if replace:\n",
    "    gbq.to_gbq(dataframe = df,\n",
    "               destination_table='clean.homes',\n",
    "               project_id = 'sibr-market',\n",
    "               if_exists='replace')\n",
    "else:\n",
    "    bq.to_bq(df,\n",
    "             table_name='homes',\n",
    "             dataset_name='clean',\n",
    "             if_exists='merge',\n",
    "             merge_on=['item_id'])"
   ]
  },
  {
   "cell_type": "markdown",
   "metadata": {
    "id": "Jzgo77QOkpWp"
   },
   "source": [
    "## EDA"
   ]
  },
  {
   "cell_type": "code",
   "execution_count": null,
   "metadata": {
    "ExecuteTime": {
     "end_time": "2025-06-09T18:59:46.061926Z",
     "start_time": "2025-06-09T18:59:46.060150Z"
    }
   },
   "outputs": [],
   "source": []
  },
  {
   "cell_type": "code",
   "execution_count": null,
   "metadata": {
    "ExecuteTime": {
     "end_time": "2025-06-09T18:59:46.085314Z",
     "start_time": "2025-06-09T18:59:46.084001Z"
    }
   },
   "outputs": [],
   "source": []
  }
 ],
 "metadata": {
  "colab": {
   "cell_execution_strategy": "setup",
   "name": "clean-homes",
   "provenance": []
  },
  "environment": {
   "kernel": "conda-base-py",
   "name": "workbench-notebooks.m129",
   "type": "gcloud",
   "uri": "us-docker.pkg.dev/deeplearning-platform-release/gcr.io/workbench-notebooks:m129"
  },
  "kernelspec": {
   "display_name": "Python 3 (ipykernel) (Local)",
   "language": "python",
   "name": "conda-base-py"
  },
  "language_info": {
   "codemirror_mode": {
    "name": "ipython",
    "version": 3
   },
   "file_extension": ".py",
   "mimetype": "text/x-python",
   "name": "python",
   "nbconvert_exporter": "python",
   "pygments_lexer": "ipython3",
   "version": "3.10.16"
  },
  "widgets": {
   "application/vnd.jupyter.widget-state+json": {
    "04f809c752104c839ce51b17079ddd00": {
     "model_module": "@jupyter-widgets/controls",
     "model_module_version": "1.5.0",
     "model_name": "HTMLModel",
     "state": {
      "_dom_classes": [],
      "_model_module": "@jupyter-widgets/controls",
      "_model_module_version": "1.5.0",
      "_model_name": "HTMLModel",
      "_view_count": null,
      "_view_module": "@jupyter-widgets/controls",
      "_view_module_version": "1.5.0",
      "_view_name": "HTMLView",
      "description": "",
      "description_tooltip": null,
      "layout": "IPY_MODEL_a91d53c23be940589af02e0f6c230b85",
      "placeholder": "​",
      "style": "IPY_MODEL_881b1779c9cd46fcb0d1ebd9463ca783",
      "value": ""
     }
    },
    "0c204a872eda460caadd6872a0325303": {
     "model_module": "@jupyter-widgets/controls",
     "model_module_version": "1.5.0",
     "model_name": "FloatProgressModel",
     "state": {
      "_dom_classes": [],
      "_model_module": "@jupyter-widgets/controls",
      "_model_module_version": "1.5.0",
      "_model_name": "FloatProgressModel",
      "_view_count": null,
      "_view_module": "@jupyter-widgets/controls",
      "_view_module_version": "1.5.0",
      "_view_name": "ProgressView",
      "bar_style": "success",
      "description": "",
      "description_tooltip": null,
      "layout": "IPY_MODEL_df4417824120445f920766dae0785c2d",
      "max": 1,
      "min": 0,
      "orientation": "horizontal",
      "style": "IPY_MODEL_9ca376b516df4f2388c600011bd95eb7",
      "value": 1
     }
    },
    "0f6fcf45d46a4647bd05c9a19888657d": {
     "model_module": "@jupyter-widgets/controls",
     "model_module_version": "1.5.0",
     "model_name": "HTMLModel",
     "state": {
      "_dom_classes": [],
      "_model_module": "@jupyter-widgets/controls",
      "_model_module_version": "1.5.0",
      "_model_name": "HTMLModel",
      "_view_count": null,
      "_view_module": "@jupyter-widgets/controls",
      "_view_module_version": "1.5.0",
      "_view_name": "HTMLView",
      "description": "",
      "description_tooltip": null,
      "layout": "IPY_MODEL_bfef7745125c491fa2bcf80cc20df5a7",
      "placeholder": "​",
      "style": "IPY_MODEL_66a2fb2be5594f83b30f2a16abd6a2f9",
      "value": "Downloading: 100%"
     }
    },
    "101511498f8a4cb3a8e6e3740cbddf5e": {
     "model_module": "@jupyter-widgets/base",
     "model_module_version": "1.2.0",
     "model_name": "LayoutModel",
     "state": {
      "_model_module": "@jupyter-widgets/base",
      "_model_module_version": "1.2.0",
      "_model_name": "LayoutModel",
      "_view_count": null,
      "_view_module": "@jupyter-widgets/base",
      "_view_module_version": "1.2.0",
      "_view_name": "LayoutView",
      "align_content": null,
      "align_items": null,
      "align_self": null,
      "border": null,
      "bottom": null,
      "display": null,
      "flex": null,
      "flex_flow": null,
      "grid_area": null,
      "grid_auto_columns": null,
      "grid_auto_flow": null,
      "grid_auto_rows": null,
      "grid_column": null,
      "grid_gap": null,
      "grid_row": null,
      "grid_template_areas": null,
      "grid_template_columns": null,
      "grid_template_rows": null,
      "height": null,
      "justify_content": null,
      "justify_items": null,
      "left": null,
      "margin": null,
      "max_height": null,
      "max_width": null,
      "min_height": null,
      "min_width": null,
      "object_fit": null,
      "object_position": null,
      "order": null,
      "overflow": null,
      "overflow_x": null,
      "overflow_y": null,
      "padding": null,
      "right": null,
      "top": null,
      "visibility": null,
      "width": null
     }
    },
    "105b3f1a0cde43529f3a8e15b3e6b387": {
     "model_module": "@jupyter-widgets/base",
     "model_module_version": "1.2.0",
     "model_name": "LayoutModel",
     "state": {
      "_model_module": "@jupyter-widgets/base",
      "_model_module_version": "1.2.0",
      "_model_name": "LayoutModel",
      "_view_count": null,
      "_view_module": "@jupyter-widgets/base",
      "_view_module_version": "1.2.0",
      "_view_name": "LayoutView",
      "align_content": null,
      "align_items": null,
      "align_self": null,
      "border": null,
      "bottom": null,
      "display": null,
      "flex": null,
      "flex_flow": null,
      "grid_area": null,
      "grid_auto_columns": null,
      "grid_auto_flow": null,
      "grid_auto_rows": null,
      "grid_column": null,
      "grid_gap": null,
      "grid_row": null,
      "grid_template_areas": null,
      "grid_template_columns": null,
      "grid_template_rows": null,
      "height": null,
      "justify_content": null,
      "justify_items": null,
      "left": null,
      "margin": null,
      "max_height": null,
      "max_width": null,
      "min_height": null,
      "min_width": null,
      "object_fit": null,
      "object_position": null,
      "order": null,
      "overflow": null,
      "overflow_x": null,
      "overflow_y": null,
      "padding": null,
      "right": null,
      "top": null,
      "visibility": null,
      "width": null
     }
    },
    "1581f86ce43b493ca8dd37e24d916e1f": {
     "model_module": "@jupyter-widgets/controls",
     "model_module_version": "1.5.0",
     "model_name": "HBoxModel",
     "state": {
      "_dom_classes": [],
      "_model_module": "@jupyter-widgets/controls",
      "_model_module_version": "1.5.0",
      "_model_name": "HBoxModel",
      "_view_count": null,
      "_view_module": "@jupyter-widgets/controls",
      "_view_module_version": "1.5.0",
      "_view_name": "HBoxView",
      "box_style": "",
      "children": [
       "IPY_MODEL_9eb72bb9fd08433c840003889774dcd8",
       "IPY_MODEL_6d7f85d161c34c7d90f50794ecad6746",
       "IPY_MODEL_8ba125942b834d74b3364cb483b5162d"
      ],
      "layout": "IPY_MODEL_101511498f8a4cb3a8e6e3740cbddf5e"
     }
    },
    "1e975b461a4f489bb34eb13241b8ca48": {
     "model_module": "@jupyter-widgets/controls",
     "model_module_version": "1.5.0",
     "model_name": "ProgressStyleModel",
     "state": {
      "_model_module": "@jupyter-widgets/controls",
      "_model_module_version": "1.5.0",
      "_model_name": "ProgressStyleModel",
      "_view_count": null,
      "_view_module": "@jupyter-widgets/base",
      "_view_module_version": "1.2.0",
      "_view_name": "StyleView",
      "bar_color": null,
      "description_width": ""
     }
    },
    "288dc97076ef4df7b1f10572b89d08e7": {
     "model_module": "@jupyter-widgets/controls",
     "model_module_version": "1.5.0",
     "model_name": "HBoxModel",
     "state": {
      "_dom_classes": [],
      "_model_module": "@jupyter-widgets/controls",
      "_model_module_version": "1.5.0",
      "_model_name": "HBoxModel",
      "_view_count": null,
      "_view_module": "@jupyter-widgets/controls",
      "_view_module_version": "1.5.0",
      "_view_name": "HBoxView",
      "box_style": "",
      "children": [
       "IPY_MODEL_42f504ff47364c559e6609fa948c7835",
       "IPY_MODEL_bdd1868f2b5b441bafb560442f8c3409",
       "IPY_MODEL_a54af7d04d774305a3df27103e602103"
      ],
      "layout": "IPY_MODEL_329960aa80d642b6ab08aec5412ed696"
     }
    },
    "28eba27cb04d4558a4dbc2ea7fa90603": {
     "model_module": "@jupyter-widgets/controls",
     "model_module_version": "1.5.0",
     "model_name": "DescriptionStyleModel",
     "state": {
      "_model_module": "@jupyter-widgets/controls",
      "_model_module_version": "1.5.0",
      "_model_name": "DescriptionStyleModel",
      "_view_count": null,
      "_view_module": "@jupyter-widgets/base",
      "_view_module_version": "1.2.0",
      "_view_name": "StyleView",
      "description_width": ""
     }
    },
    "2d2ef89e3fa348d69cd4e1d9c8dae351": {
     "model_module": "@jupyter-widgets/base",
     "model_module_version": "1.2.0",
     "model_name": "LayoutModel",
     "state": {
      "_model_module": "@jupyter-widgets/base",
      "_model_module_version": "1.2.0",
      "_model_name": "LayoutModel",
      "_view_count": null,
      "_view_module": "@jupyter-widgets/base",
      "_view_module_version": "1.2.0",
      "_view_name": "LayoutView",
      "align_content": null,
      "align_items": null,
      "align_self": null,
      "border": null,
      "bottom": null,
      "display": null,
      "flex": null,
      "flex_flow": null,
      "grid_area": null,
      "grid_auto_columns": null,
      "grid_auto_flow": null,
      "grid_auto_rows": null,
      "grid_column": null,
      "grid_gap": null,
      "grid_row": null,
      "grid_template_areas": null,
      "grid_template_columns": null,
      "grid_template_rows": null,
      "height": null,
      "justify_content": null,
      "justify_items": null,
      "left": null,
      "margin": null,
      "max_height": null,
      "max_width": null,
      "min_height": null,
      "min_width": null,
      "object_fit": null,
      "object_position": null,
      "order": null,
      "overflow": null,
      "overflow_x": null,
      "overflow_y": null,
      "padding": null,
      "right": null,
      "top": null,
      "visibility": null,
      "width": null
     }
    },
    "31063dbd21bc4de38a294f6de23ae52f": {
     "model_module": "@jupyter-widgets/controls",
     "model_module_version": "1.5.0",
     "model_name": "HTMLModel",
     "state": {
      "_dom_classes": [],
      "_model_module": "@jupyter-widgets/controls",
      "_model_module_version": "1.5.0",
      "_model_name": "HTMLModel",
      "_view_count": null,
      "_view_module": "@jupyter-widgets/controls",
      "_view_module_version": "1.5.0",
      "_view_name": "HTMLView",
      "description": "",
      "description_tooltip": null,
      "layout": "IPY_MODEL_51f4b6a3654a462a8a7c714338cd2a94",
      "placeholder": "​",
      "style": "IPY_MODEL_8207e6286ebb47d5a2bfa4c1a9c5c6e5",
      "value": "Job ID 3b1c8edd-0279-4790-b0fe-897611820a37 successfully executed: 100%"
     }
    },
    "31bc41a47eaf476bac47df5bcb6180e8": {
     "model_module": "@jupyter-widgets/controls",
     "model_module_version": "1.5.0",
     "model_name": "DescriptionStyleModel",
     "state": {
      "_model_module": "@jupyter-widgets/controls",
      "_model_module_version": "1.5.0",
      "_model_name": "DescriptionStyleModel",
      "_view_count": null,
      "_view_module": "@jupyter-widgets/base",
      "_view_module_version": "1.2.0",
      "_view_name": "StyleView",
      "description_width": ""
     }
    },
    "329960aa80d642b6ab08aec5412ed696": {
     "model_module": "@jupyter-widgets/base",
     "model_module_version": "1.2.0",
     "model_name": "LayoutModel",
     "state": {
      "_model_module": "@jupyter-widgets/base",
      "_model_module_version": "1.2.0",
      "_model_name": "LayoutModel",
      "_view_count": null,
      "_view_module": "@jupyter-widgets/base",
      "_view_module_version": "1.2.0",
      "_view_name": "LayoutView",
      "align_content": null,
      "align_items": null,
      "align_self": null,
      "border": null,
      "bottom": null,
      "display": null,
      "flex": null,
      "flex_flow": null,
      "grid_area": null,
      "grid_auto_columns": null,
      "grid_auto_flow": null,
      "grid_auto_rows": null,
      "grid_column": null,
      "grid_gap": null,
      "grid_row": null,
      "grid_template_areas": null,
      "grid_template_columns": null,
      "grid_template_rows": null,
      "height": null,
      "justify_content": null,
      "justify_items": null,
      "left": null,
      "margin": null,
      "max_height": null,
      "max_width": null,
      "min_height": null,
      "min_width": null,
      "object_fit": null,
      "object_position": null,
      "order": null,
      "overflow": null,
      "overflow_x": null,
      "overflow_y": null,
      "padding": null,
      "right": null,
      "top": null,
      "visibility": null,
      "width": null
     }
    },
    "32be94cb134a42bd93f670004d5cea35": {
     "model_module": "@jupyter-widgets/controls",
     "model_module_version": "1.5.0",
     "model_name": "DescriptionStyleModel",
     "state": {
      "_model_module": "@jupyter-widgets/controls",
      "_model_module_version": "1.5.0",
      "_model_name": "DescriptionStyleModel",
      "_view_count": null,
      "_view_module": "@jupyter-widgets/base",
      "_view_module_version": "1.2.0",
      "_view_name": "StyleView",
      "description_width": ""
     }
    },
    "331ca07d6f854f71b1a5e9e0a283874d": {
     "model_module": "@jupyter-widgets/base",
     "model_module_version": "1.2.0",
     "model_name": "LayoutModel",
     "state": {
      "_model_module": "@jupyter-widgets/base",
      "_model_module_version": "1.2.0",
      "_model_name": "LayoutModel",
      "_view_count": null,
      "_view_module": "@jupyter-widgets/base",
      "_view_module_version": "1.2.0",
      "_view_name": "LayoutView",
      "align_content": null,
      "align_items": null,
      "align_self": null,
      "border": null,
      "bottom": null,
      "display": null,
      "flex": null,
      "flex_flow": null,
      "grid_area": null,
      "grid_auto_columns": null,
      "grid_auto_flow": null,
      "grid_auto_rows": null,
      "grid_column": null,
      "grid_gap": null,
      "grid_row": null,
      "grid_template_areas": null,
      "grid_template_columns": null,
      "grid_template_rows": null,
      "height": null,
      "justify_content": null,
      "justify_items": null,
      "left": null,
      "margin": null,
      "max_height": null,
      "max_width": null,
      "min_height": null,
      "min_width": null,
      "object_fit": null,
      "object_position": null,
      "order": null,
      "overflow": null,
      "overflow_x": null,
      "overflow_y": null,
      "padding": null,
      "right": null,
      "top": null,
      "visibility": null,
      "width": null
     }
    },
    "351266209a21496faa45b5afa974b595": {
     "model_module": "@jupyter-widgets/base",
     "model_module_version": "1.2.0",
     "model_name": "LayoutModel",
     "state": {
      "_model_module": "@jupyter-widgets/base",
      "_model_module_version": "1.2.0",
      "_model_name": "LayoutModel",
      "_view_count": null,
      "_view_module": "@jupyter-widgets/base",
      "_view_module_version": "1.2.0",
      "_view_name": "LayoutView",
      "align_content": null,
      "align_items": null,
      "align_self": null,
      "border": null,
      "bottom": null,
      "display": null,
      "flex": null,
      "flex_flow": null,
      "grid_area": null,
      "grid_auto_columns": null,
      "grid_auto_flow": null,
      "grid_auto_rows": null,
      "grid_column": null,
      "grid_gap": null,
      "grid_row": null,
      "grid_template_areas": null,
      "grid_template_columns": null,
      "grid_template_rows": null,
      "height": null,
      "justify_content": null,
      "justify_items": null,
      "left": null,
      "margin": null,
      "max_height": null,
      "max_width": null,
      "min_height": null,
      "min_width": null,
      "object_fit": null,
      "object_position": null,
      "order": null,
      "overflow": null,
      "overflow_x": null,
      "overflow_y": null,
      "padding": null,
      "right": null,
      "top": null,
      "visibility": null,
      "width": null
     }
    },
    "36f6f342fc604aa1bea82935b780f623": {
     "model_module": "@jupyter-widgets/controls",
     "model_module_version": "1.5.0",
     "model_name": "DescriptionStyleModel",
     "state": {
      "_model_module": "@jupyter-widgets/controls",
      "_model_module_version": "1.5.0",
      "_model_name": "DescriptionStyleModel",
      "_view_count": null,
      "_view_module": "@jupyter-widgets/base",
      "_view_module_version": "1.2.0",
      "_view_name": "StyleView",
      "description_width": ""
     }
    },
    "376b5f6f0e5040dbb0820695e9b97232": {
     "model_module": "@jupyter-widgets/controls",
     "model_module_version": "1.5.0",
     "model_name": "HBoxModel",
     "state": {
      "_dom_classes": [],
      "_model_module": "@jupyter-widgets/controls",
      "_model_module_version": "1.5.0",
      "_model_name": "HBoxModel",
      "_view_count": null,
      "_view_module": "@jupyter-widgets/controls",
      "_view_module_version": "1.5.0",
      "_view_name": "HBoxView",
      "box_style": "",
      "children": [
       "IPY_MODEL_425d6234d52b4788b35a12c920046d08",
       "IPY_MODEL_f7bd53505d5646cc9b1c3537edd5eb92",
       "IPY_MODEL_56e404d8de224a59b6bcad12b30ee1e6"
      ],
      "layout": "IPY_MODEL_351266209a21496faa45b5afa974b595"
     }
    },
    "425d6234d52b4788b35a12c920046d08": {
     "model_module": "@jupyter-widgets/controls",
     "model_module_version": "1.5.0",
     "model_name": "HTMLModel",
     "state": {
      "_dom_classes": [],
      "_model_module": "@jupyter-widgets/controls",
      "_model_module_version": "1.5.0",
      "_model_name": "HTMLModel",
      "_view_count": null,
      "_view_module": "@jupyter-widgets/controls",
      "_view_module_version": "1.5.0",
      "_view_name": "HTMLView",
      "description": "",
      "description_tooltip": null,
      "layout": "IPY_MODEL_2d2ef89e3fa348d69cd4e1d9c8dae351",
      "placeholder": "​",
      "style": "IPY_MODEL_36f6f342fc604aa1bea82935b780f623",
      "value": "Job ID c1f30375-d1e6-4faa-9681-72298d198825 successfully executed: 100%"
     }
    },
    "42f504ff47364c559e6609fa948c7835": {
     "model_module": "@jupyter-widgets/controls",
     "model_module_version": "1.5.0",
     "model_name": "HTMLModel",
     "state": {
      "_dom_classes": [],
      "_model_module": "@jupyter-widgets/controls",
      "_model_module_version": "1.5.0",
      "_model_name": "HTMLModel",
      "_view_count": null,
      "_view_module": "@jupyter-widgets/controls",
      "_view_module_version": "1.5.0",
      "_view_name": "HTMLView",
      "description": "",
      "description_tooltip": null,
      "layout": "IPY_MODEL_54255a525df94787b2623f75eef12196",
      "placeholder": "​",
      "style": "IPY_MODEL_9393f02208a94d71ac6eebf55dd0bd34",
      "value": "Downloading: 100%"
     }
    },
    "47687e0a84794e64b2e528743fc41cfa": {
     "model_module": "@jupyter-widgets/controls",
     "model_module_version": "1.5.0",
     "model_name": "HBoxModel",
     "state": {
      "_dom_classes": [],
      "_model_module": "@jupyter-widgets/controls",
      "_model_module_version": "1.5.0",
      "_model_name": "HBoxModel",
      "_view_count": null,
      "_view_module": "@jupyter-widgets/controls",
      "_view_module_version": "1.5.0",
      "_view_name": "HBoxView",
      "box_style": "",
      "children": [
       "IPY_MODEL_0f6fcf45d46a4647bd05c9a19888657d",
       "IPY_MODEL_f29c4596e3724725a68931185960c0af",
       "IPY_MODEL_cd90f34dce09457297c2da20298114e6"
      ],
      "layout": "IPY_MODEL_105b3f1a0cde43529f3a8e15b3e6b387"
     }
    },
    "504ddbae7cf64f7c9657c6d5d023eb59": {
     "model_module": "@jupyter-widgets/controls",
     "model_module_version": "1.5.0",
     "model_name": "HTMLModel",
     "state": {
      "_dom_classes": [],
      "_model_module": "@jupyter-widgets/controls",
      "_model_module_version": "1.5.0",
      "_model_name": "HTMLModel",
      "_view_count": null,
      "_view_module": "@jupyter-widgets/controls",
      "_view_module_version": "1.5.0",
      "_view_name": "HTMLView",
      "description": "",
      "description_tooltip": null,
      "layout": "IPY_MODEL_fd9501249f05405eb63b85b2ebdded25",
      "placeholder": "​",
      "style": "IPY_MODEL_86b0ae6df79844228731b8d1f6ac5f39",
      "value": ""
     }
    },
    "51f4b6a3654a462a8a7c714338cd2a94": {
     "model_module": "@jupyter-widgets/base",
     "model_module_version": "1.2.0",
     "model_name": "LayoutModel",
     "state": {
      "_model_module": "@jupyter-widgets/base",
      "_model_module_version": "1.2.0",
      "_model_name": "LayoutModel",
      "_view_count": null,
      "_view_module": "@jupyter-widgets/base",
      "_view_module_version": "1.2.0",
      "_view_name": "LayoutView",
      "align_content": null,
      "align_items": null,
      "align_self": null,
      "border": null,
      "bottom": null,
      "display": null,
      "flex": null,
      "flex_flow": null,
      "grid_area": null,
      "grid_auto_columns": null,
      "grid_auto_flow": null,
      "grid_auto_rows": null,
      "grid_column": null,
      "grid_gap": null,
      "grid_row": null,
      "grid_template_areas": null,
      "grid_template_columns": null,
      "grid_template_rows": null,
      "height": null,
      "justify_content": null,
      "justify_items": null,
      "left": null,
      "margin": null,
      "max_height": null,
      "max_width": null,
      "min_height": null,
      "min_width": null,
      "object_fit": null,
      "object_position": null,
      "order": null,
      "overflow": null,
      "overflow_x": null,
      "overflow_y": null,
      "padding": null,
      "right": null,
      "top": null,
      "visibility": null,
      "width": null
     }
    },
    "54255a525df94787b2623f75eef12196": {
     "model_module": "@jupyter-widgets/base",
     "model_module_version": "1.2.0",
     "model_name": "LayoutModel",
     "state": {
      "_model_module": "@jupyter-widgets/base",
      "_model_module_version": "1.2.0",
      "_model_name": "LayoutModel",
      "_view_count": null,
      "_view_module": "@jupyter-widgets/base",
      "_view_module_version": "1.2.0",
      "_view_name": "LayoutView",
      "align_content": null,
      "align_items": null,
      "align_self": null,
      "border": null,
      "bottom": null,
      "display": null,
      "flex": null,
      "flex_flow": null,
      "grid_area": null,
      "grid_auto_columns": null,
      "grid_auto_flow": null,
      "grid_auto_rows": null,
      "grid_column": null,
      "grid_gap": null,
      "grid_row": null,
      "grid_template_areas": null,
      "grid_template_columns": null,
      "grid_template_rows": null,
      "height": null,
      "justify_content": null,
      "justify_items": null,
      "left": null,
      "margin": null,
      "max_height": null,
      "max_width": null,
      "min_height": null,
      "min_width": null,
      "object_fit": null,
      "object_position": null,
      "order": null,
      "overflow": null,
      "overflow_x": null,
      "overflow_y": null,
      "padding": null,
      "right": null,
      "top": null,
      "visibility": null,
      "width": null
     }
    },
    "56e404d8de224a59b6bcad12b30ee1e6": {
     "model_module": "@jupyter-widgets/controls",
     "model_module_version": "1.5.0",
     "model_name": "HTMLModel",
     "state": {
      "_dom_classes": [],
      "_model_module": "@jupyter-widgets/controls",
      "_model_module_version": "1.5.0",
      "_model_name": "HTMLModel",
      "_view_count": null,
      "_view_module": "@jupyter-widgets/controls",
      "_view_module_version": "1.5.0",
      "_view_name": "HTMLView",
      "description": "",
      "description_tooltip": null,
      "layout": "IPY_MODEL_a0b32b98f4cb4a04a5fbf394b780b158",
      "placeholder": "​",
      "style": "IPY_MODEL_fc1179ea7fdd492dad579ae12683d0aa",
      "value": ""
     }
    },
    "5d102767cca544f5a9325b8edfc725e5": {
     "model_module": "@jupyter-widgets/base",
     "model_module_version": "1.2.0",
     "model_name": "LayoutModel",
     "state": {
      "_model_module": "@jupyter-widgets/base",
      "_model_module_version": "1.2.0",
      "_model_name": "LayoutModel",
      "_view_count": null,
      "_view_module": "@jupyter-widgets/base",
      "_view_module_version": "1.2.0",
      "_view_name": "LayoutView",
      "align_content": null,
      "align_items": null,
      "align_self": null,
      "border": null,
      "bottom": null,
      "display": null,
      "flex": null,
      "flex_flow": null,
      "grid_area": null,
      "grid_auto_columns": null,
      "grid_auto_flow": null,
      "grid_auto_rows": null,
      "grid_column": null,
      "grid_gap": null,
      "grid_row": null,
      "grid_template_areas": null,
      "grid_template_columns": null,
      "grid_template_rows": null,
      "height": null,
      "justify_content": null,
      "justify_items": null,
      "left": null,
      "margin": null,
      "max_height": null,
      "max_width": null,
      "min_height": null,
      "min_width": null,
      "object_fit": null,
      "object_position": null,
      "order": null,
      "overflow": null,
      "overflow_x": null,
      "overflow_y": null,
      "padding": null,
      "right": null,
      "top": null,
      "visibility": null,
      "width": null
     }
    },
    "6105c5681fde434197c390278ee690eb": {
     "model_module": "@jupyter-widgets/base",
     "model_module_version": "1.2.0",
     "model_name": "LayoutModel",
     "state": {
      "_model_module": "@jupyter-widgets/base",
      "_model_module_version": "1.2.0",
      "_model_name": "LayoutModel",
      "_view_count": null,
      "_view_module": "@jupyter-widgets/base",
      "_view_module_version": "1.2.0",
      "_view_name": "LayoutView",
      "align_content": null,
      "align_items": null,
      "align_self": null,
      "border": null,
      "bottom": null,
      "display": null,
      "flex": null,
      "flex_flow": null,
      "grid_area": null,
      "grid_auto_columns": null,
      "grid_auto_flow": null,
      "grid_auto_rows": null,
      "grid_column": null,
      "grid_gap": null,
      "grid_row": null,
      "grid_template_areas": null,
      "grid_template_columns": null,
      "grid_template_rows": null,
      "height": null,
      "justify_content": null,
      "justify_items": null,
      "left": null,
      "margin": null,
      "max_height": null,
      "max_width": null,
      "min_height": null,
      "min_width": null,
      "object_fit": null,
      "object_position": null,
      "order": null,
      "overflow": null,
      "overflow_x": null,
      "overflow_y": null,
      "padding": null,
      "right": null,
      "top": null,
      "visibility": null,
      "width": null
     }
    },
    "626e64f951de496084643b091a982beb": {
     "model_module": "@jupyter-widgets/controls",
     "model_module_version": "1.5.0",
     "model_name": "ProgressStyleModel",
     "state": {
      "_model_module": "@jupyter-widgets/controls",
      "_model_module_version": "1.5.0",
      "_model_name": "ProgressStyleModel",
      "_view_count": null,
      "_view_module": "@jupyter-widgets/base",
      "_view_module_version": "1.2.0",
      "_view_name": "StyleView",
      "bar_color": null,
      "description_width": ""
     }
    },
    "66a2fb2be5594f83b30f2a16abd6a2f9": {
     "model_module": "@jupyter-widgets/controls",
     "model_module_version": "1.5.0",
     "model_name": "DescriptionStyleModel",
     "state": {
      "_model_module": "@jupyter-widgets/controls",
      "_model_module_version": "1.5.0",
      "_model_name": "DescriptionStyleModel",
      "_view_count": null,
      "_view_module": "@jupyter-widgets/base",
      "_view_module_version": "1.2.0",
      "_view_name": "StyleView",
      "description_width": ""
     }
    },
    "6d7f85d161c34c7d90f50794ecad6746": {
     "model_module": "@jupyter-widgets/controls",
     "model_module_version": "1.5.0",
     "model_name": "FloatProgressModel",
     "state": {
      "_dom_classes": [],
      "_model_module": "@jupyter-widgets/controls",
      "_model_module_version": "1.5.0",
      "_model_name": "FloatProgressModel",
      "_view_count": null,
      "_view_module": "@jupyter-widgets/controls",
      "_view_module_version": "1.5.0",
      "_view_name": "ProgressView",
      "bar_style": "success",
      "description": "",
      "description_tooltip": null,
      "layout": "IPY_MODEL_6105c5681fde434197c390278ee690eb",
      "max": 104429,
      "min": 0,
      "orientation": "horizontal",
      "style": "IPY_MODEL_89a6d528a5a4441684305e1ba8cc7453",
      "value": 104429
     }
    },
    "8014906d2fd448e3b3048c20d137cff2": {
     "model_module": "@jupyter-widgets/controls",
     "model_module_version": "1.5.0",
     "model_name": "FloatProgressModel",
     "state": {
      "_dom_classes": [],
      "_model_module": "@jupyter-widgets/controls",
      "_model_module_version": "1.5.0",
      "_model_name": "FloatProgressModel",
      "_view_count": null,
      "_view_module": "@jupyter-widgets/controls",
      "_view_module_version": "1.5.0",
      "_view_name": "ProgressView",
      "bar_style": "success",
      "description": "",
      "description_tooltip": null,
      "layout": "IPY_MODEL_9a1ad752ff294beb9ceff0b98a7fbb13",
      "max": 1,
      "min": 0,
      "orientation": "horizontal",
      "style": "IPY_MODEL_e358d1c357194ea0a4677e53fa8c7ba5",
      "value": 1
     }
    },
    "8207e6286ebb47d5a2bfa4c1a9c5c6e5": {
     "model_module": "@jupyter-widgets/controls",
     "model_module_version": "1.5.0",
     "model_name": "DescriptionStyleModel",
     "state": {
      "_model_module": "@jupyter-widgets/controls",
      "_model_module_version": "1.5.0",
      "_model_name": "DescriptionStyleModel",
      "_view_count": null,
      "_view_module": "@jupyter-widgets/base",
      "_view_module_version": "1.2.0",
      "_view_name": "StyleView",
      "description_width": ""
     }
    },
    "8249e3fad6f248598db92c188fe8d008": {
     "model_module": "@jupyter-widgets/base",
     "model_module_version": "1.2.0",
     "model_name": "LayoutModel",
     "state": {
      "_model_module": "@jupyter-widgets/base",
      "_model_module_version": "1.2.0",
      "_model_name": "LayoutModel",
      "_view_count": null,
      "_view_module": "@jupyter-widgets/base",
      "_view_module_version": "1.2.0",
      "_view_name": "LayoutView",
      "align_content": null,
      "align_items": null,
      "align_self": null,
      "border": null,
      "bottom": null,
      "display": null,
      "flex": null,
      "flex_flow": null,
      "grid_area": null,
      "grid_auto_columns": null,
      "grid_auto_flow": null,
      "grid_auto_rows": null,
      "grid_column": null,
      "grid_gap": null,
      "grid_row": null,
      "grid_template_areas": null,
      "grid_template_columns": null,
      "grid_template_rows": null,
      "height": null,
      "justify_content": null,
      "justify_items": null,
      "left": null,
      "margin": null,
      "max_height": null,
      "max_width": null,
      "min_height": null,
      "min_width": null,
      "object_fit": null,
      "object_position": null,
      "order": null,
      "overflow": null,
      "overflow_x": null,
      "overflow_y": null,
      "padding": null,
      "right": null,
      "top": null,
      "visibility": null,
      "width": null
     }
    },
    "86b0ae6df79844228731b8d1f6ac5f39": {
     "model_module": "@jupyter-widgets/controls",
     "model_module_version": "1.5.0",
     "model_name": "DescriptionStyleModel",
     "state": {
      "_model_module": "@jupyter-widgets/controls",
      "_model_module_version": "1.5.0",
      "_model_name": "DescriptionStyleModel",
      "_view_count": null,
      "_view_module": "@jupyter-widgets/base",
      "_view_module_version": "1.2.0",
      "_view_name": "StyleView",
      "description_width": ""
     }
    },
    "881b1779c9cd46fcb0d1ebd9463ca783": {
     "model_module": "@jupyter-widgets/controls",
     "model_module_version": "1.5.0",
     "model_name": "DescriptionStyleModel",
     "state": {
      "_model_module": "@jupyter-widgets/controls",
      "_model_module_version": "1.5.0",
      "_model_name": "DescriptionStyleModel",
      "_view_count": null,
      "_view_module": "@jupyter-widgets/base",
      "_view_module_version": "1.2.0",
      "_view_name": "StyleView",
      "description_width": ""
     }
    },
    "89a6d528a5a4441684305e1ba8cc7453": {
     "model_module": "@jupyter-widgets/controls",
     "model_module_version": "1.5.0",
     "model_name": "ProgressStyleModel",
     "state": {
      "_model_module": "@jupyter-widgets/controls",
      "_model_module_version": "1.5.0",
      "_model_name": "ProgressStyleModel",
      "_view_count": null,
      "_view_module": "@jupyter-widgets/base",
      "_view_module_version": "1.2.0",
      "_view_name": "StyleView",
      "bar_color": null,
      "description_width": ""
     }
    },
    "8aefe836a6b04dc99188f24bc01cc43c": {
     "model_module": "@jupyter-widgets/base",
     "model_module_version": "1.2.0",
     "model_name": "LayoutModel",
     "state": {
      "_model_module": "@jupyter-widgets/base",
      "_model_module_version": "1.2.0",
      "_model_name": "LayoutModel",
      "_view_count": null,
      "_view_module": "@jupyter-widgets/base",
      "_view_module_version": "1.2.0",
      "_view_name": "LayoutView",
      "align_content": null,
      "align_items": null,
      "align_self": null,
      "border": null,
      "bottom": null,
      "display": null,
      "flex": null,
      "flex_flow": null,
      "grid_area": null,
      "grid_auto_columns": null,
      "grid_auto_flow": null,
      "grid_auto_rows": null,
      "grid_column": null,
      "grid_gap": null,
      "grid_row": null,
      "grid_template_areas": null,
      "grid_template_columns": null,
      "grid_template_rows": null,
      "height": null,
      "justify_content": null,
      "justify_items": null,
      "left": null,
      "margin": null,
      "max_height": null,
      "max_width": null,
      "min_height": null,
      "min_width": null,
      "object_fit": null,
      "object_position": null,
      "order": null,
      "overflow": null,
      "overflow_x": null,
      "overflow_y": null,
      "padding": null,
      "right": null,
      "top": null,
      "visibility": null,
      "width": null
     }
    },
    "8b5e9b8e1a93423f8bcf4c6d2a18e7ae": {
     "model_module": "@jupyter-widgets/base",
     "model_module_version": "1.2.0",
     "model_name": "LayoutModel",
     "state": {
      "_model_module": "@jupyter-widgets/base",
      "_model_module_version": "1.2.0",
      "_model_name": "LayoutModel",
      "_view_count": null,
      "_view_module": "@jupyter-widgets/base",
      "_view_module_version": "1.2.0",
      "_view_name": "LayoutView",
      "align_content": null,
      "align_items": null,
      "align_self": null,
      "border": null,
      "bottom": null,
      "display": null,
      "flex": null,
      "flex_flow": null,
      "grid_area": null,
      "grid_auto_columns": null,
      "grid_auto_flow": null,
      "grid_auto_rows": null,
      "grid_column": null,
      "grid_gap": null,
      "grid_row": null,
      "grid_template_areas": null,
      "grid_template_columns": null,
      "grid_template_rows": null,
      "height": null,
      "justify_content": null,
      "justify_items": null,
      "left": null,
      "margin": null,
      "max_height": null,
      "max_width": null,
      "min_height": null,
      "min_width": null,
      "object_fit": null,
      "object_position": null,
      "order": null,
      "overflow": null,
      "overflow_x": null,
      "overflow_y": null,
      "padding": null,
      "right": null,
      "top": null,
      "visibility": null,
      "width": null
     }
    },
    "8ba125942b834d74b3364cb483b5162d": {
     "model_module": "@jupyter-widgets/controls",
     "model_module_version": "1.5.0",
     "model_name": "HTMLModel",
     "state": {
      "_dom_classes": [],
      "_model_module": "@jupyter-widgets/controls",
      "_model_module_version": "1.5.0",
      "_model_name": "HTMLModel",
      "_view_count": null,
      "_view_module": "@jupyter-widgets/controls",
      "_view_module_version": "1.5.0",
      "_view_name": "HTMLView",
      "description": "",
      "description_tooltip": null,
      "layout": "IPY_MODEL_f7a7ef5f97364979b92dfc999b1add46",
      "placeholder": "​",
      "style": "IPY_MODEL_a64983a6332849b0a3c86399c3f0104b",
      "value": ""
     }
    },
    "8f4b4ab950af42a0b8a81a98fa08f703": {
     "model_module": "@jupyter-widgets/controls",
     "model_module_version": "1.5.0",
     "model_name": "DescriptionStyleModel",
     "state": {
      "_model_module": "@jupyter-widgets/controls",
      "_model_module_version": "1.5.0",
      "_model_name": "DescriptionStyleModel",
      "_view_count": null,
      "_view_module": "@jupyter-widgets/base",
      "_view_module_version": "1.2.0",
      "_view_name": "StyleView",
      "description_width": ""
     }
    },
    "9393f02208a94d71ac6eebf55dd0bd34": {
     "model_module": "@jupyter-widgets/controls",
     "model_module_version": "1.5.0",
     "model_name": "DescriptionStyleModel",
     "state": {
      "_model_module": "@jupyter-widgets/controls",
      "_model_module_version": "1.5.0",
      "_model_name": "DescriptionStyleModel",
      "_view_count": null,
      "_view_module": "@jupyter-widgets/base",
      "_view_module_version": "1.2.0",
      "_view_name": "StyleView",
      "description_width": ""
     }
    },
    "99d2ab9f6df64b01b2597a5bbd5b4175": {
     "model_module": "@jupyter-widgets/controls",
     "model_module_version": "1.5.0",
     "model_name": "HBoxModel",
     "state": {
      "_dom_classes": [],
      "_model_module": "@jupyter-widgets/controls",
      "_model_module_version": "1.5.0",
      "_model_name": "HBoxModel",
      "_view_count": null,
      "_view_module": "@jupyter-widgets/controls",
      "_view_module_version": "1.5.0",
      "_view_name": "HBoxView",
      "box_style": "",
      "children": [
       "IPY_MODEL_31063dbd21bc4de38a294f6de23ae52f",
       "IPY_MODEL_8014906d2fd448e3b3048c20d137cff2",
       "IPY_MODEL_04f809c752104c839ce51b17079ddd00"
      ],
      "layout": "IPY_MODEL_8249e3fad6f248598db92c188fe8d008"
     }
    },
    "9a1ad752ff294beb9ceff0b98a7fbb13": {
     "model_module": "@jupyter-widgets/base",
     "model_module_version": "1.2.0",
     "model_name": "LayoutModel",
     "state": {
      "_model_module": "@jupyter-widgets/base",
      "_model_module_version": "1.2.0",
      "_model_name": "LayoutModel",
      "_view_count": null,
      "_view_module": "@jupyter-widgets/base",
      "_view_module_version": "1.2.0",
      "_view_name": "LayoutView",
      "align_content": null,
      "align_items": null,
      "align_self": null,
      "border": null,
      "bottom": null,
      "display": null,
      "flex": null,
      "flex_flow": null,
      "grid_area": null,
      "grid_auto_columns": null,
      "grid_auto_flow": null,
      "grid_auto_rows": null,
      "grid_column": null,
      "grid_gap": null,
      "grid_row": null,
      "grid_template_areas": null,
      "grid_template_columns": null,
      "grid_template_rows": null,
      "height": null,
      "justify_content": null,
      "justify_items": null,
      "left": null,
      "margin": null,
      "max_height": null,
      "max_width": null,
      "min_height": null,
      "min_width": null,
      "object_fit": null,
      "object_position": null,
      "order": null,
      "overflow": null,
      "overflow_x": null,
      "overflow_y": null,
      "padding": null,
      "right": null,
      "top": null,
      "visibility": null,
      "width": null
     }
    },
    "9a276b884d8543c29414e9b779bb7b61": {
     "model_module": "@jupyter-widgets/controls",
     "model_module_version": "1.5.0",
     "model_name": "HBoxModel",
     "state": {
      "_dom_classes": [],
      "_model_module": "@jupyter-widgets/controls",
      "_model_module_version": "1.5.0",
      "_model_name": "HBoxModel",
      "_view_count": null,
      "_view_module": "@jupyter-widgets/controls",
      "_view_module_version": "1.5.0",
      "_view_name": "HBoxView",
      "box_style": "",
      "children": [
       "IPY_MODEL_b5940e1a7fe04bc2a34064fe3d2f6c14",
       "IPY_MODEL_0c204a872eda460caadd6872a0325303",
       "IPY_MODEL_504ddbae7cf64f7c9657c6d5d023eb59"
      ],
      "layout": "IPY_MODEL_331ca07d6f854f71b1a5e9e0a283874d"
     }
    },
    "9ca376b516df4f2388c600011bd95eb7": {
     "model_module": "@jupyter-widgets/controls",
     "model_module_version": "1.5.0",
     "model_name": "ProgressStyleModel",
     "state": {
      "_model_module": "@jupyter-widgets/controls",
      "_model_module_version": "1.5.0",
      "_model_name": "ProgressStyleModel",
      "_view_count": null,
      "_view_module": "@jupyter-widgets/base",
      "_view_module_version": "1.2.0",
      "_view_name": "StyleView",
      "bar_color": null,
      "description_width": ""
     }
    },
    "9eb72bb9fd08433c840003889774dcd8": {
     "model_module": "@jupyter-widgets/controls",
     "model_module_version": "1.5.0",
     "model_name": "HTMLModel",
     "state": {
      "_dom_classes": [],
      "_model_module": "@jupyter-widgets/controls",
      "_model_module_version": "1.5.0",
      "_model_name": "HTMLModel",
      "_view_count": null,
      "_view_module": "@jupyter-widgets/controls",
      "_view_module_version": "1.5.0",
      "_view_name": "HTMLView",
      "description": "",
      "description_tooltip": null,
      "layout": "IPY_MODEL_c380d66ee0ab49a199fc9a04c476ae73",
      "placeholder": "​",
      "style": "IPY_MODEL_8f4b4ab950af42a0b8a81a98fa08f703",
      "value": "Downloading: 100%"
     }
    },
    "a0b32b98f4cb4a04a5fbf394b780b158": {
     "model_module": "@jupyter-widgets/base",
     "model_module_version": "1.2.0",
     "model_name": "LayoutModel",
     "state": {
      "_model_module": "@jupyter-widgets/base",
      "_model_module_version": "1.2.0",
      "_model_name": "LayoutModel",
      "_view_count": null,
      "_view_module": "@jupyter-widgets/base",
      "_view_module_version": "1.2.0",
      "_view_name": "LayoutView",
      "align_content": null,
      "align_items": null,
      "align_self": null,
      "border": null,
      "bottom": null,
      "display": null,
      "flex": null,
      "flex_flow": null,
      "grid_area": null,
      "grid_auto_columns": null,
      "grid_auto_flow": null,
      "grid_auto_rows": null,
      "grid_column": null,
      "grid_gap": null,
      "grid_row": null,
      "grid_template_areas": null,
      "grid_template_columns": null,
      "grid_template_rows": null,
      "height": null,
      "justify_content": null,
      "justify_items": null,
      "left": null,
      "margin": null,
      "max_height": null,
      "max_width": null,
      "min_height": null,
      "min_width": null,
      "object_fit": null,
      "object_position": null,
      "order": null,
      "overflow": null,
      "overflow_x": null,
      "overflow_y": null,
      "padding": null,
      "right": null,
      "top": null,
      "visibility": null,
      "width": null
     }
    },
    "a54af7d04d774305a3df27103e602103": {
     "model_module": "@jupyter-widgets/controls",
     "model_module_version": "1.5.0",
     "model_name": "HTMLModel",
     "state": {
      "_dom_classes": [],
      "_model_module": "@jupyter-widgets/controls",
      "_model_module_version": "1.5.0",
      "_model_name": "HTMLModel",
      "_view_count": null,
      "_view_module": "@jupyter-widgets/controls",
      "_view_module_version": "1.5.0",
      "_view_name": "HTMLView",
      "description": "",
      "description_tooltip": null,
      "layout": "IPY_MODEL_8b5e9b8e1a93423f8bcf4c6d2a18e7ae",
      "placeholder": "​",
      "style": "IPY_MODEL_32be94cb134a42bd93f670004d5cea35",
      "value": ""
     }
    },
    "a64983a6332849b0a3c86399c3f0104b": {
     "model_module": "@jupyter-widgets/controls",
     "model_module_version": "1.5.0",
     "model_name": "DescriptionStyleModel",
     "state": {
      "_model_module": "@jupyter-widgets/controls",
      "_model_module_version": "1.5.0",
      "_model_name": "DescriptionStyleModel",
      "_view_count": null,
      "_view_module": "@jupyter-widgets/base",
      "_view_module_version": "1.2.0",
      "_view_name": "StyleView",
      "description_width": ""
     }
    },
    "a91d53c23be940589af02e0f6c230b85": {
     "model_module": "@jupyter-widgets/base",
     "model_module_version": "1.2.0",
     "model_name": "LayoutModel",
     "state": {
      "_model_module": "@jupyter-widgets/base",
      "_model_module_version": "1.2.0",
      "_model_name": "LayoutModel",
      "_view_count": null,
      "_view_module": "@jupyter-widgets/base",
      "_view_module_version": "1.2.0",
      "_view_name": "LayoutView",
      "align_content": null,
      "align_items": null,
      "align_self": null,
      "border": null,
      "bottom": null,
      "display": null,
      "flex": null,
      "flex_flow": null,
      "grid_area": null,
      "grid_auto_columns": null,
      "grid_auto_flow": null,
      "grid_auto_rows": null,
      "grid_column": null,
      "grid_gap": null,
      "grid_row": null,
      "grid_template_areas": null,
      "grid_template_columns": null,
      "grid_template_rows": null,
      "height": null,
      "justify_content": null,
      "justify_items": null,
      "left": null,
      "margin": null,
      "max_height": null,
      "max_width": null,
      "min_height": null,
      "min_width": null,
      "object_fit": null,
      "object_position": null,
      "order": null,
      "overflow": null,
      "overflow_x": null,
      "overflow_y": null,
      "padding": null,
      "right": null,
      "top": null,
      "visibility": null,
      "width": null
     }
    },
    "b5940e1a7fe04bc2a34064fe3d2f6c14": {
     "model_module": "@jupyter-widgets/controls",
     "model_module_version": "1.5.0",
     "model_name": "HTMLModel",
     "state": {
      "_dom_classes": [],
      "_model_module": "@jupyter-widgets/controls",
      "_model_module_version": "1.5.0",
      "_model_name": "HTMLModel",
      "_view_count": null,
      "_view_module": "@jupyter-widgets/controls",
      "_view_module_version": "1.5.0",
      "_view_name": "HTMLView",
      "description": "",
      "description_tooltip": null,
      "layout": "IPY_MODEL_ca80a5c36de04393b15a6cfb888d953c",
      "placeholder": "​",
      "style": "IPY_MODEL_31bc41a47eaf476bac47df5bcb6180e8",
      "value": "Job ID fb4df1fb-6c4b-4c79-bb38-38a027394ac7 successfully executed: 100%"
     }
    },
    "bdd1868f2b5b441bafb560442f8c3409": {
     "model_module": "@jupyter-widgets/controls",
     "model_module_version": "1.5.0",
     "model_name": "FloatProgressModel",
     "state": {
      "_dom_classes": [],
      "_model_module": "@jupyter-widgets/controls",
      "_model_module_version": "1.5.0",
      "_model_name": "FloatProgressModel",
      "_view_count": null,
      "_view_module": "@jupyter-widgets/controls",
      "_view_module_version": "1.5.0",
      "_view_name": "ProgressView",
      "bar_style": "success",
      "description": "",
      "description_tooltip": null,
      "layout": "IPY_MODEL_c8addf47a01745e5871fcc32e627b1b6",
      "max": 5137,
      "min": 0,
      "orientation": "horizontal",
      "style": "IPY_MODEL_f7b5e1c2f278494aa6f301ac2908f589",
      "value": 5137
     }
    },
    "bfef7745125c491fa2bcf80cc20df5a7": {
     "model_module": "@jupyter-widgets/base",
     "model_module_version": "1.2.0",
     "model_name": "LayoutModel",
     "state": {
      "_model_module": "@jupyter-widgets/base",
      "_model_module_version": "1.2.0",
      "_model_name": "LayoutModel",
      "_view_count": null,
      "_view_module": "@jupyter-widgets/base",
      "_view_module_version": "1.2.0",
      "_view_name": "LayoutView",
      "align_content": null,
      "align_items": null,
      "align_self": null,
      "border": null,
      "bottom": null,
      "display": null,
      "flex": null,
      "flex_flow": null,
      "grid_area": null,
      "grid_auto_columns": null,
      "grid_auto_flow": null,
      "grid_auto_rows": null,
      "grid_column": null,
      "grid_gap": null,
      "grid_row": null,
      "grid_template_areas": null,
      "grid_template_columns": null,
      "grid_template_rows": null,
      "height": null,
      "justify_content": null,
      "justify_items": null,
      "left": null,
      "margin": null,
      "max_height": null,
      "max_width": null,
      "min_height": null,
      "min_width": null,
      "object_fit": null,
      "object_position": null,
      "order": null,
      "overflow": null,
      "overflow_x": null,
      "overflow_y": null,
      "padding": null,
      "right": null,
      "top": null,
      "visibility": null,
      "width": null
     }
    },
    "c380d66ee0ab49a199fc9a04c476ae73": {
     "model_module": "@jupyter-widgets/base",
     "model_module_version": "1.2.0",
     "model_name": "LayoutModel",
     "state": {
      "_model_module": "@jupyter-widgets/base",
      "_model_module_version": "1.2.0",
      "_model_name": "LayoutModel",
      "_view_count": null,
      "_view_module": "@jupyter-widgets/base",
      "_view_module_version": "1.2.0",
      "_view_name": "LayoutView",
      "align_content": null,
      "align_items": null,
      "align_self": null,
      "border": null,
      "bottom": null,
      "display": null,
      "flex": null,
      "flex_flow": null,
      "grid_area": null,
      "grid_auto_columns": null,
      "grid_auto_flow": null,
      "grid_auto_rows": null,
      "grid_column": null,
      "grid_gap": null,
      "grid_row": null,
      "grid_template_areas": null,
      "grid_template_columns": null,
      "grid_template_rows": null,
      "height": null,
      "justify_content": null,
      "justify_items": null,
      "left": null,
      "margin": null,
      "max_height": null,
      "max_width": null,
      "min_height": null,
      "min_width": null,
      "object_fit": null,
      "object_position": null,
      "order": null,
      "overflow": null,
      "overflow_x": null,
      "overflow_y": null,
      "padding": null,
      "right": null,
      "top": null,
      "visibility": null,
      "width": null
     }
    },
    "c8addf47a01745e5871fcc32e627b1b6": {
     "model_module": "@jupyter-widgets/base",
     "model_module_version": "1.2.0",
     "model_name": "LayoutModel",
     "state": {
      "_model_module": "@jupyter-widgets/base",
      "_model_module_version": "1.2.0",
      "_model_name": "LayoutModel",
      "_view_count": null,
      "_view_module": "@jupyter-widgets/base",
      "_view_module_version": "1.2.0",
      "_view_name": "LayoutView",
      "align_content": null,
      "align_items": null,
      "align_self": null,
      "border": null,
      "bottom": null,
      "display": null,
      "flex": null,
      "flex_flow": null,
      "grid_area": null,
      "grid_auto_columns": null,
      "grid_auto_flow": null,
      "grid_auto_rows": null,
      "grid_column": null,
      "grid_gap": null,
      "grid_row": null,
      "grid_template_areas": null,
      "grid_template_columns": null,
      "grid_template_rows": null,
      "height": null,
      "justify_content": null,
      "justify_items": null,
      "left": null,
      "margin": null,
      "max_height": null,
      "max_width": null,
      "min_height": null,
      "min_width": null,
      "object_fit": null,
      "object_position": null,
      "order": null,
      "overflow": null,
      "overflow_x": null,
      "overflow_y": null,
      "padding": null,
      "right": null,
      "top": null,
      "visibility": null,
      "width": null
     }
    },
    "ca80a5c36de04393b15a6cfb888d953c": {
     "model_module": "@jupyter-widgets/base",
     "model_module_version": "1.2.0",
     "model_name": "LayoutModel",
     "state": {
      "_model_module": "@jupyter-widgets/base",
      "_model_module_version": "1.2.0",
      "_model_name": "LayoutModel",
      "_view_count": null,
      "_view_module": "@jupyter-widgets/base",
      "_view_module_version": "1.2.0",
      "_view_name": "LayoutView",
      "align_content": null,
      "align_items": null,
      "align_self": null,
      "border": null,
      "bottom": null,
      "display": null,
      "flex": null,
      "flex_flow": null,
      "grid_area": null,
      "grid_auto_columns": null,
      "grid_auto_flow": null,
      "grid_auto_rows": null,
      "grid_column": null,
      "grid_gap": null,
      "grid_row": null,
      "grid_template_areas": null,
      "grid_template_columns": null,
      "grid_template_rows": null,
      "height": null,
      "justify_content": null,
      "justify_items": null,
      "left": null,
      "margin": null,
      "max_height": null,
      "max_width": null,
      "min_height": null,
      "min_width": null,
      "object_fit": null,
      "object_position": null,
      "order": null,
      "overflow": null,
      "overflow_x": null,
      "overflow_y": null,
      "padding": null,
      "right": null,
      "top": null,
      "visibility": null,
      "width": null
     }
    },
    "cd90f34dce09457297c2da20298114e6": {
     "model_module": "@jupyter-widgets/controls",
     "model_module_version": "1.5.0",
     "model_name": "HTMLModel",
     "state": {
      "_dom_classes": [],
      "_model_module": "@jupyter-widgets/controls",
      "_model_module_version": "1.5.0",
      "_model_name": "HTMLModel",
      "_view_count": null,
      "_view_module": "@jupyter-widgets/controls",
      "_view_module_version": "1.5.0",
      "_view_name": "HTMLView",
      "description": "",
      "description_tooltip": null,
      "layout": "IPY_MODEL_5d102767cca544f5a9325b8edfc725e5",
      "placeholder": "​",
      "style": "IPY_MODEL_28eba27cb04d4558a4dbc2ea7fa90603",
      "value": ""
     }
    },
    "df4417824120445f920766dae0785c2d": {
     "model_module": "@jupyter-widgets/base",
     "model_module_version": "1.2.0",
     "model_name": "LayoutModel",
     "state": {
      "_model_module": "@jupyter-widgets/base",
      "_model_module_version": "1.2.0",
      "_model_name": "LayoutModel",
      "_view_count": null,
      "_view_module": "@jupyter-widgets/base",
      "_view_module_version": "1.2.0",
      "_view_name": "LayoutView",
      "align_content": null,
      "align_items": null,
      "align_self": null,
      "border": null,
      "bottom": null,
      "display": null,
      "flex": null,
      "flex_flow": null,
      "grid_area": null,
      "grid_auto_columns": null,
      "grid_auto_flow": null,
      "grid_auto_rows": null,
      "grid_column": null,
      "grid_gap": null,
      "grid_row": null,
      "grid_template_areas": null,
      "grid_template_columns": null,
      "grid_template_rows": null,
      "height": null,
      "justify_content": null,
      "justify_items": null,
      "left": null,
      "margin": null,
      "max_height": null,
      "max_width": null,
      "min_height": null,
      "min_width": null,
      "object_fit": null,
      "object_position": null,
      "order": null,
      "overflow": null,
      "overflow_x": null,
      "overflow_y": null,
      "padding": null,
      "right": null,
      "top": null,
      "visibility": null,
      "width": null
     }
    },
    "e358d1c357194ea0a4677e53fa8c7ba5": {
     "model_module": "@jupyter-widgets/controls",
     "model_module_version": "1.5.0",
     "model_name": "ProgressStyleModel",
     "state": {
      "_model_module": "@jupyter-widgets/controls",
      "_model_module_version": "1.5.0",
      "_model_name": "ProgressStyleModel",
      "_view_count": null,
      "_view_module": "@jupyter-widgets/base",
      "_view_module_version": "1.2.0",
      "_view_name": "StyleView",
      "bar_color": null,
      "description_width": ""
     }
    },
    "f1a11055154844a68c8a0d63b016e615": {
     "model_module": "@jupyter-widgets/base",
     "model_module_version": "1.2.0",
     "model_name": "LayoutModel",
     "state": {
      "_model_module": "@jupyter-widgets/base",
      "_model_module_version": "1.2.0",
      "_model_name": "LayoutModel",
      "_view_count": null,
      "_view_module": "@jupyter-widgets/base",
      "_view_module_version": "1.2.0",
      "_view_name": "LayoutView",
      "align_content": null,
      "align_items": null,
      "align_self": null,
      "border": null,
      "bottom": null,
      "display": null,
      "flex": null,
      "flex_flow": null,
      "grid_area": null,
      "grid_auto_columns": null,
      "grid_auto_flow": null,
      "grid_auto_rows": null,
      "grid_column": null,
      "grid_gap": null,
      "grid_row": null,
      "grid_template_areas": null,
      "grid_template_columns": null,
      "grid_template_rows": null,
      "height": null,
      "justify_content": null,
      "justify_items": null,
      "left": null,
      "margin": null,
      "max_height": null,
      "max_width": null,
      "min_height": null,
      "min_width": null,
      "object_fit": null,
      "object_position": null,
      "order": null,
      "overflow": null,
      "overflow_x": null,
      "overflow_y": null,
      "padding": null,
      "right": null,
      "top": null,
      "visibility": null,
      "width": null
     }
    },
    "f29c4596e3724725a68931185960c0af": {
     "model_module": "@jupyter-widgets/controls",
     "model_module_version": "1.5.0",
     "model_name": "FloatProgressModel",
     "state": {
      "_dom_classes": [],
      "_model_module": "@jupyter-widgets/controls",
      "_model_module_version": "1.5.0",
      "_model_name": "FloatProgressModel",
      "_view_count": null,
      "_view_module": "@jupyter-widgets/controls",
      "_view_module_version": "1.5.0",
      "_view_name": "ProgressView",
      "bar_style": "success",
      "description": "",
      "description_tooltip": null,
      "layout": "IPY_MODEL_8aefe836a6b04dc99188f24bc01cc43c",
      "max": 149996,
      "min": 0,
      "orientation": "horizontal",
      "style": "IPY_MODEL_1e975b461a4f489bb34eb13241b8ca48",
      "value": 149996
     }
    },
    "f7a7ef5f97364979b92dfc999b1add46": {
     "model_module": "@jupyter-widgets/base",
     "model_module_version": "1.2.0",
     "model_name": "LayoutModel",
     "state": {
      "_model_module": "@jupyter-widgets/base",
      "_model_module_version": "1.2.0",
      "_model_name": "LayoutModel",
      "_view_count": null,
      "_view_module": "@jupyter-widgets/base",
      "_view_module_version": "1.2.0",
      "_view_name": "LayoutView",
      "align_content": null,
      "align_items": null,
      "align_self": null,
      "border": null,
      "bottom": null,
      "display": null,
      "flex": null,
      "flex_flow": null,
      "grid_area": null,
      "grid_auto_columns": null,
      "grid_auto_flow": null,
      "grid_auto_rows": null,
      "grid_column": null,
      "grid_gap": null,
      "grid_row": null,
      "grid_template_areas": null,
      "grid_template_columns": null,
      "grid_template_rows": null,
      "height": null,
      "justify_content": null,
      "justify_items": null,
      "left": null,
      "margin": null,
      "max_height": null,
      "max_width": null,
      "min_height": null,
      "min_width": null,
      "object_fit": null,
      "object_position": null,
      "order": null,
      "overflow": null,
      "overflow_x": null,
      "overflow_y": null,
      "padding": null,
      "right": null,
      "top": null,
      "visibility": null,
      "width": null
     }
    },
    "f7b5e1c2f278494aa6f301ac2908f589": {
     "model_module": "@jupyter-widgets/controls",
     "model_module_version": "1.5.0",
     "model_name": "ProgressStyleModel",
     "state": {
      "_model_module": "@jupyter-widgets/controls",
      "_model_module_version": "1.5.0",
      "_model_name": "ProgressStyleModel",
      "_view_count": null,
      "_view_module": "@jupyter-widgets/base",
      "_view_module_version": "1.2.0",
      "_view_name": "StyleView",
      "bar_color": null,
      "description_width": ""
     }
    },
    "f7bd53505d5646cc9b1c3537edd5eb92": {
     "model_module": "@jupyter-widgets/controls",
     "model_module_version": "1.5.0",
     "model_name": "FloatProgressModel",
     "state": {
      "_dom_classes": [],
      "_model_module": "@jupyter-widgets/controls",
      "_model_module_version": "1.5.0",
      "_model_name": "FloatProgressModel",
      "_view_count": null,
      "_view_module": "@jupyter-widgets/controls",
      "_view_module_version": "1.5.0",
      "_view_name": "ProgressView",
      "bar_style": "success",
      "description": "",
      "description_tooltip": null,
      "layout": "IPY_MODEL_f1a11055154844a68c8a0d63b016e615",
      "max": 1,
      "min": 0,
      "orientation": "horizontal",
      "style": "IPY_MODEL_626e64f951de496084643b091a982beb",
      "value": 1
     }
    },
    "fc1179ea7fdd492dad579ae12683d0aa": {
     "model_module": "@jupyter-widgets/controls",
     "model_module_version": "1.5.0",
     "model_name": "DescriptionStyleModel",
     "state": {
      "_model_module": "@jupyter-widgets/controls",
      "_model_module_version": "1.5.0",
      "_model_name": "DescriptionStyleModel",
      "_view_count": null,
      "_view_module": "@jupyter-widgets/base",
      "_view_module_version": "1.2.0",
      "_view_name": "StyleView",
      "description_width": ""
     }
    },
    "fd9501249f05405eb63b85b2ebdded25": {
     "model_module": "@jupyter-widgets/base",
     "model_module_version": "1.2.0",
     "model_name": "LayoutModel",
     "state": {
      "_model_module": "@jupyter-widgets/base",
      "_model_module_version": "1.2.0",
      "_model_name": "LayoutModel",
      "_view_count": null,
      "_view_module": "@jupyter-widgets/base",
      "_view_module_version": "1.2.0",
      "_view_name": "LayoutView",
      "align_content": null,
      "align_items": null,
      "align_self": null,
      "border": null,
      "bottom": null,
      "display": null,
      "flex": null,
      "flex_flow": null,
      "grid_area": null,
      "grid_auto_columns": null,
      "grid_auto_flow": null,
      "grid_auto_rows": null,
      "grid_column": null,
      "grid_gap": null,
      "grid_row": null,
      "grid_template_areas": null,
      "grid_template_columns": null,
      "grid_template_rows": null,
      "height": null,
      "justify_content": null,
      "justify_items": null,
      "left": null,
      "margin": null,
      "max_height": null,
      "max_width": null,
      "min_height": null,
      "min_width": null,
      "object_fit": null,
      "object_position": null,
      "order": null,
      "overflow": null,
      "overflow_x": null,
      "overflow_y": null,
      "padding": null,
      "right": null,
      "top": null,
      "visibility": null,
      "width": null
     }
    }
   }
  }
 },
 "nbformat": 4,
 "nbformat_minor": 4
}

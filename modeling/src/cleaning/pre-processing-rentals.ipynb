{
 "cells": [
  {
   "cell_type": "code",
   "id": "Xqzrda2z5ZJaxpnKF88Jukdt",
   "metadata": {
    "id": "Xqzrda2z5ZJaxpnKF88Jukdt",
    "tags": [],
    "ExecuteTime": {
     "end_time": "2025-07-19T18:59:13.568122Z",
     "start_time": "2025-07-19T18:59:12.654951Z"
    }
   },
   "source": [
    "import os\n",
    "from src.cleaning.common_functions import *\n",
    "from src.cleaning.common_functions import mk_cat\n",
    "\n",
    "os.chdir(\"../..\")\n",
    "from sibr_module import BigQuery, Logger, CStorage\n",
    "\n",
    "import pandas as pd\n",
    "pd.set_option('display.max_columns', 500)"
   ],
   "outputs": [
    {
     "name": "stderr",
     "output_type": "stream",
     "text": [
      "/Users/sigvardbratlie/Documents/Projects/sibr_market_training/.venv/lib/python3.9/site-packages/urllib3/__init__.py:35: NotOpenSSLWarning: urllib3 v2 only supports OpenSSL 1.1.1+, currently the 'ssl' module is compiled with 'LibreSSL 2.8.3'. See: https://github.com/urllib3/urllib3/issues/3020\n",
      "  warnings.warn(\n"
     ]
    }
   ],
   "execution_count": 1
  },
  {
   "metadata": {
    "ExecuteTime": {
     "end_time": "2025-07-19T18:59:14.789895Z",
     "start_time": "2025-07-19T18:59:14.774067Z"
    }
   },
   "cell_type": "code",
   "source": [
    "replace  = True\n",
    "dataset = 'rentals'\n",
    "logger = Logger(f'pre_process{dataset.capitalize()}')\n",
    "bq = BigQuery(logger=logger,dataset=dataset)\n",
    "cs = CStorage(logger=logger, bucket_name='sibr-market-bucket')\n",
    "logger.debug(f'Replace: {replace} | Dataset: {dataset}')"
   ],
   "id": "660e2b0b398c559d",
   "outputs": [
    {
     "name": "stderr",
     "output_type": "stream",
     "text": [
      "2025-07-19 20:59:14,781 - pre_processRentals - INFO - Cloud Logging is disabled. Using local logging to /Users/sigvardbratlie/Documents/Projects/sibr_market_training/logfiles/pre_processRentals.log\n",
      "2025-07-19 20:59:14,785 - pre_processRentals - INFO - BigQuery client initialized with project_id: sibr-market\n",
      "2025-07-19 20:59:14,787 - pre_processRentals - INFO - Google Cloud Storage client initialized with bucket: sibr-market-bucket\n",
      "2025-07-19 20:59:14,788 - pre_processRentals - DEBUG - Replace: True | Dataset: rentals\n"
     ]
    }
   ],
   "execution_count": 2
  },
  {
   "cell_type": "code",
   "id": "3mSAo2ISsH4u",
   "metadata": {
    "colab": {
     "base_uri": "https://localhost:8080/",
     "referenced_widgets": [
      "9978c3eaed644ed992073d8a51b421ba",
      "c23911907148402fb01e813dacace25f",
      "4aa7f1b59a754985863226aceae6a358",
      "435f5e57a5a1440aa83deb09c7351d9e",
      "f4aadb39468d426e818e7d5d1e4420e4",
      "0efecf6c931e403d81779d07292a69b0",
      "8b7b7763f1d544689332feea786fd135",
      "66d00030ec8e4e12b7861663dc4faf26",
      "06bbecbbcd9148bf86283f955aa32f8e",
      "4d2d1ed984b54dd58a22d903565364ce",
      "06a6dc0421804690a53c91d90b089d4c",
      "225077afc9064667a5ced49b9a7754e9",
      "a7ccdf6ca26f4a6188fe6101493d80fe",
      "fcd2b9e894e042348019895109f36bd2",
      "09e68d34d3024873a7709e4f0bfc046c",
      "181a5c68f0a745e1b1a6e86493941bd2",
      "fe7b7b5e0f5440b98d1871e3c54a511b",
      "66a79212dc404c678a422d703bd93d67",
      "7f6cd02dd35c43adbe5243abbb4911e0",
      "003b084538784bb69ed6de0fccca8a2f",
      "75ec65ebc565493d9c7fb09b9babbdd8",
      "cf5b5ee7bd5f4cc2ba933608f72bbc1a"
     ]
    },
    "executionInfo": {
     "elapsed": 5197,
     "status": "ok",
     "timestamp": 1749067580204,
     "user": {
      "displayName": "",
      "userId": ""
     },
     "user_tz": -120
    },
    "id": "3mSAo2ISsH4u",
    "outputId": "f0677631-2281-4c6c-f5f4-b88e027ff3ec",
    "ExecuteTime": {
     "end_time": "2025-07-19T18:59:25.912759Z",
     "start_time": "2025-07-19T18:59:20.127452Z"
    }
   },
   "source": "df_ = bq.read_clean(replace = replace)",
   "outputs": [
    {
     "name": "stderr",
     "output_type": "stream",
     "text": [
      "2025-07-19 20:59:20,129 - pre_processRentals - INFO - Reading clean data from dataset: rentals\n",
      "2025-07-19 20:59:25,911 - pre_processRentals - INFO - 134063 rows read from rentals. Query: \n",
      "            SELECT c.* FROM sibr-market.clean.rentals c\n",
      "            ... (truncated)\n"
     ]
    }
   ],
   "execution_count": 3
  },
  {
   "cell_type": "markdown",
   "id": "KoGM8B88sTDs",
   "metadata": {
    "id": "KoGM8B88sTDs"
   },
   "source": [
    "## Set index and remove empty data"
   ]
  },
  {
   "cell_type": "code",
   "id": "P-25crrasP5K",
   "metadata": {
    "id": "P-25crrasP5K",
    "ExecuteTime": {
     "end_time": "2025-07-19T19:01:20.894848Z",
     "start_time": "2025-07-19T19:01:20.855115Z"
    }
   },
   "source": [
    "df = df_.dropna(subset='item_id')\n",
    "df.set_index('item_id',inplace=True)\n",
    "logger.debug(f'Length of df: {len(df)} | after dropping NaN on item_id')"
   ],
   "outputs": [
    {
     "name": "stderr",
     "output_type": "stream",
     "text": [
      "2025-07-19 21:01:20,893 - pre_processRentals - DEBUG - Length of df: 134063 | after dropping NaN on item_id\n"
     ]
    }
   ],
   "execution_count": 12
  },
  {
   "cell_type": "code",
   "id": "5BbImA6ZsWU8",
   "metadata": {
    "id": "5BbImA6ZsWU8",
    "ExecuteTime": {
     "end_time": "2025-07-19T19:01:21.104779Z",
     "start_time": "2025-07-19T19:01:21.004139Z"
    }
   },
   "source": [
    "df.dropna(subset=['monthly_rent','primary_area'],inplace=True)\n",
    "\n",
    "df = df[(df['monthly_rent'] > 1000) & (df['monthly_rent'] < 50000)\n",
    "        & ((df['primary_area'] > 0) & (df['primary_area'] < 200))\n",
    "        ]\n",
    "\n",
    "drop = ['address','description','contact_person','phone','url','country','title',\n",
    "        'facilities','deposit','includes','web','email',\n",
    "        'rn','FIRST','LAST','postal_code','municipality','county','region','last_updated','salgstid','facilities'\n",
    "        ,'price_pr_bedroom','rent_pr_sqm','clean_date','energy_rating','internal_area','gross_area','usable_area',]\n",
    "\n",
    "df.drop(columns=drop,inplace=True,errors = 'ignore')\n",
    "logger.debug(f'Length of df: {len(df)} | after dropping NaN on price, usable_area and bedrooms')"
   ],
   "outputs": [
    {
     "name": "stderr",
     "output_type": "stream",
     "text": [
      "2025-07-19 21:01:21,103 - pre_processRentals - DEBUG - Length of df: 115212 | after dropping NaN on price, usable_area and bedrooms\n"
     ]
    }
   ],
   "execution_count": 13
  },
  {
   "cell_type": "markdown",
   "id": "mCyZghGT6uSU",
   "metadata": {
    "id": "mCyZghGT6uSU"
   },
   "source": [
    "## DUMMY VARIABLES"
   ]
  },
  {
   "cell_type": "code",
   "id": "fb7Swxio8GBU",
   "metadata": {
    "id": "fb7Swxio8GBU",
    "ExecuteTime": {
     "end_time": "2025-07-19T19:01:21.308825Z",
     "start_time": "2025-07-19T19:01:21.286164Z"
    }
   },
   "source": [
    "df['dealer'] = df['dealer'].apply(lambda x: False if x.lower() == 'private' else True)"
   ],
   "outputs": [],
   "execution_count": 14
  },
  {
   "cell_type": "code",
   "id": "FCNv6G0x6nbl",
   "metadata": {
    "id": "FCNv6G0x6nbl",
    "ExecuteTime": {
     "end_time": "2025-07-19T19:01:21.669195Z",
     "start_time": "2025-07-19T19:01:21.426395Z"
    }
   },
   "source": [
    "prop_type = ['Enebolig',\n",
    " 'Leilighet',\n",
    " 'Rom i bofellesskap',\n",
    " 'Tomannsbolig',\n",
    " 'Hybel',\n",
    " 'Andre',\n",
    " 'Rekkehus']\n",
    "df = mk_cat(df,'property_type', prop_type)\n",
    "\n",
    "df = process_bool(df)\n",
    "\n",
    "logger.debug(f'Length of df: {len(df)} | after dummy variables')"
   ],
   "outputs": [
    {
     "name": "stderr",
     "output_type": "stream",
     "text": [
      "2025-07-19 21:01:21,667 - pre_processRentals - DEBUG - Length of df: 112909 | after dummy variables\n"
     ]
    }
   ],
   "execution_count": 15
  },
  {
   "cell_type": "markdown",
   "id": "H8cpmk78WHQX",
   "metadata": {
    "id": "H8cpmk78WHQX"
   },
   "source": "## DATE COLUMNS"
  },
  {
   "cell_type": "code",
   "id": "Ei3j-zrr_An4",
   "metadata": {
    "id": "Ei3j-zrr_An4",
    "ExecuteTime": {
     "end_time": "2025-07-19T19:01:21.871511Z",
     "start_time": "2025-07-19T19:01:21.844233Z"
    }
   },
   "source": [
    "df['scrape_date'] = pd.to_datetime(df['scrape_date'], errors='coerce')\n",
    "df['day'] = df['scrape_date'].dt.day\n",
    "df['month'] = df['scrape_date'].dt.month\n",
    "df['year'] = df['scrape_date'].dt.year\n",
    "df.drop('scrape_date',axis=1,inplace=True)\n",
    "df['pre_processed_date'] = pd.Timestamp.now()\n",
    "logger.debug(f'Length of df: {len(df)} | after date columns')"
   ],
   "outputs": [
    {
     "name": "stderr",
     "output_type": "stream",
     "text": [
      "2025-07-19 21:01:21,870 - pre_processRentals - DEBUG - Length of df: 112909 | after date columns\n"
     ]
    }
   ],
   "execution_count": 16
  },
  {
   "metadata": {},
   "cell_type": "markdown",
   "source": "## ENSURE CORRECT DATA TYPES",
   "id": "85aece5f37a120ce"
  },
  {
   "metadata": {
    "ExecuteTime": {
     "end_time": "2025-07-19T19:01:22.513397Z",
     "start_time": "2025-07-19T19:01:22.495333Z"
    }
   },
   "cell_type": "code",
   "source": "df = ensure_num_types(df)",
   "id": "203c1400e4c3b7b4",
   "outputs": [],
   "execution_count": 17
  },
  {
   "metadata": {},
   "cell_type": "markdown",
   "source": "## REMOVE OUTLIERS AND SPLIT DATA",
   "id": "6e34fd532f97b944"
  },
  {
   "metadata": {},
   "cell_type": "code",
   "outputs": [],
   "execution_count": null,
   "source": [
    "def rm_rental_outliers(df):\n",
    "    if 'bedrooms' in df.columns and 'monthly_rent' in df.columns:\n",
    "        drop_item_ids = df[(df['bedrooms'] == 0) & (df['monthly_rent'] > 20000)]\n",
    "        df = df[~df['item_id'].isin(drop_item_ids['item_id'])]\n",
    "    return df"
   ],
   "id": "7f62506c5b66a508"
  },
  {
   "metadata": {
    "ExecuteTime": {
     "end_time": "2025-07-19T19:01:22.771955Z",
     "start_time": "2025-07-19T19:01:22.728819Z"
    }
   },
   "cell_type": "code",
   "source": [
    "df_r = df[(df['property_type'] != 'rom i bofellesskap') & (df['property_type'] != 'hybel')]\n",
    "df_k = df[(df['property_type'] == 'rom i bofellesskap')]\n",
    "df_ord = df[df['property_type'] != 'rom i bofellesskap']\n",
    "\n",
    "df_r = rm_rental_outliers(df_r)\n",
    "df_ord = rm_rental_outliers(df_ord)\n",
    "logger.debug(f'Length of df_r: {len(df_r)} | Length of df_k: {len(df_k)} | Length of df_ord: {len(df_ord)}')"
   ],
   "id": "35d086f4522fc93d",
   "outputs": [
    {
     "name": "stderr",
     "output_type": "stream",
     "text": [
      "2025-07-19 21:01:22,770 - pre_processRentals - DEBUG - Length of df_r: 85514 | Length of df_k: 12581 | Length of df_ord: 100328\n"
     ]
    }
   ],
   "execution_count": 18
  },
  {
   "cell_type": "markdown",
   "id": "WEP4DPhUWU-9",
   "metadata": {
    "id": "WEP4DPhUWU-9"
   },
   "source": [
    "## ORDINARY RENTALS"
   ]
  },
  {
   "metadata": {
    "ExecuteTime": {
     "end_time": "2025-07-19T19:01:23.554635Z",
     "start_time": "2025-07-19T19:01:23.529363Z"
    }
   },
   "cell_type": "code",
   "source": "df_ord = pd.get_dummies(df_ord, columns=['property_type'], drop_first=True)",
   "id": "59607d4f77f045a5",
   "outputs": [],
   "execution_count": 19
  },
  {
   "cell_type": "code",
   "id": "yUaf_4iV7Qy1",
   "metadata": {
    "colab": {
     "base_uri": "https://localhost:8080/"
    },
    "executionInfo": {
     "elapsed": 3200,
     "status": "ok",
     "timestamp": 1749067583402,
     "user": {
      "displayName": "",
      "userId": ""
     },
     "user_tz": -120
    },
    "id": "yUaf_4iV7Qy1",
    "outputId": "1ed87e68-6fc9-491c-fbd2-65e3e73c12e8",
    "ExecuteTime": {
     "end_time": "2025-07-19T19:01:28.226244Z",
     "start_time": "2025-07-19T19:01:24.148372Z"
    }
   },
   "source": [
    "logger.debug(f'Length of df_ord: {len(df_ord)} | before saving to BQ. Replace is {replace}')\n",
    "if replace:\n",
    "    bq.to_bq(df_ord,\n",
    "             table_name='rentals',\n",
    "             dataset_name='pre_processed',\n",
    "             if_exists='replace')\n",
    "else:\n",
    "    bq.to_bq(df_ord,\n",
    "             table_name='rentals',\n",
    "             dataset_name='pre_processed',\n",
    "             if_exists='merge',\n",
    "             merge_on=['item_id'])"
   ],
   "outputs": [
    {
     "name": "stderr",
     "output_type": "stream",
     "text": [
      "2025-07-19 21:01:24,150 - pre_processRentals - DEBUG - Length of df_ord: 100328 | before saving to BQ. Replace is True\n",
      "2025-07-19 21:01:28,222 - pre_processRentals - INFO - 100328 rader lagret i sibr-market.pre_processed.rentals\n"
     ]
    }
   ],
   "execution_count": 20
  },
  {
   "cell_type": "markdown",
   "id": "MYXrnd9hXWRz",
   "metadata": {
    "id": "MYXrnd9hXWRz"
   },
   "source": "## HOUSING RENTALS"
  },
  {
   "cell_type": "code",
   "id": "v3QqqayC9xac",
   "metadata": {
    "id": "v3QqqayC9xac",
    "ExecuteTime": {
     "end_time": "2025-07-19T19:01:29.981439Z",
     "start_time": "2025-07-19T19:01:29.956805Z"
    }
   },
   "source": [
    "drop_rentals = ['dealer_True']\n",
    "df_r = df_r.drop(columns=drop_rentals)\n",
    "df_r = pd.get_dummies(df_r,columns=['property_type'],drop_first=True)"
   ],
   "outputs": [],
   "execution_count": 21
  },
  {
   "cell_type": "code",
   "id": "s1BtTmTDeZ_X",
   "metadata": {
    "colab": {
     "base_uri": "https://localhost:8080/"
    },
    "executionInfo": {
     "elapsed": 4142,
     "status": "ok",
     "timestamp": 1749067587542,
     "user": {
      "displayName": "",
      "userId": ""
     },
     "user_tz": -120
    },
    "id": "s1BtTmTDeZ_X",
    "outputId": "db2df971-d17a-4f2c-9121-2303b6fd5bee",
    "ExecuteTime": {
     "end_time": "2025-07-19T19:01:33.520562Z",
     "start_time": "2025-07-19T19:01:30.685482Z"
    }
   },
   "source": [
    "logger.debug(f'Length of df_r: {len(df_r)} | Before saving to BQ. Replace is {replace}')\n",
    "if replace:\n",
    "    bq.to_bq(df_r,\n",
    "             table_name='rentals_homes',\n",
    "             dataset_name='pre_processed',\n",
    "             if_exists='replace')\n",
    "else:\n",
    "    bq.to_bq(df_r,\n",
    "             table_name='rentals_homes',\n",
    "             dataset_name='pre_processed',\n",
    "             if_exists='merge',\n",
    "             merge_on=['item_id'])"
   ],
   "outputs": [
    {
     "name": "stderr",
     "output_type": "stream",
     "text": [
      "2025-07-19 21:01:30,687 - pre_processRentals - DEBUG - Length of df_r: 85514 | Before saving to BQ. Replace is True\n",
      "2025-07-19 21:01:33,519 - pre_processRentals - INFO - 85514 rader lagret i sibr-market.pre_processed.rentals_homes\n"
     ]
    }
   ],
   "execution_count": 22
  },
  {
   "metadata": {},
   "cell_type": "markdown",
   "source": "## Co-living rentals",
   "id": "9bba52d0c17470d2"
  },
  {
   "cell_type": "code",
   "id": "hPjeUwH9jJnw",
   "metadata": {
    "id": "hPjeUwH9jJnw",
    "ExecuteTime": {
     "end_time": "2025-07-19T19:01:33.551168Z",
     "start_time": "2025-07-19T19:01:33.547732Z"
    }
   },
   "source": "df_k = df_k.drop(columns=['dealer_True','property_type','bedrooms','sqm_pr_bedroom','primary_area'], errors='ignore')",
   "outputs": [],
   "execution_count": 23
  },
  {
   "metadata": {
    "ExecuteTime": {
     "end_time": "2025-07-19T19:01:38.495747Z",
     "start_time": "2025-07-19T19:01:33.572046Z"
    }
   },
   "cell_type": "code",
   "source": [
    "logger.debug(f'Length of df_k: {len(df_k)} | Before saving to BQ. Replace is {replace}')\n",
    "table_name = 'rentals_co-living'\n",
    "if replace:\n",
    "    bq.to_bq(df_k,\n",
    "             table_name=table_name,\n",
    "             dataset_name='pre_processed',\n",
    "             if_exists='replace')\n",
    "else:\n",
    "    bq.to_bq(df_k,\n",
    "             table_name=table_name,\n",
    "             dataset_name='pre_processed',\n",
    "             if_exists='merge',\n",
    "             merge_on=['item_id'])"
   ],
   "id": "d4d4b3567367fece",
   "outputs": [
    {
     "name": "stderr",
     "output_type": "stream",
     "text": [
      "2025-07-19 21:01:33,573 - pre_processRentals - DEBUG - Length of df_k: 12581 | Before saving to BQ. Replace is True\n",
      "2025-07-19 21:01:38,494 - pre_processRentals - INFO - 12581 rader lagret i sibr-market.pre_processed.rentals_co-living\n"
     ]
    }
   ],
   "execution_count": 24
  },
  {
   "metadata": {
    "ExecuteTime": {
     "end_time": "2025-07-19T18:59:33.184749Z",
     "start_time": "2025-06-12T21:17:53.967888Z"
    }
   },
   "cell_type": "code",
   "source": "",
   "id": "21d331ada844dc61",
   "outputs": [],
   "execution_count": null
  }
 ],
 "metadata": {
  "colab": {
   "name": "pre-processing-rentals",
   "provenance": []
  },
  "environment": {
   "kernel": "conda-base-py",
   "name": "workbench-notebooks.m129",
   "type": "gcloud",
   "uri": "us-docker.pkg.dev/deeplearning-platform-release/gcr.io/workbench-notebooks:m129"
  },
  "kernelspec": {
   "display_name": "Python 3 (ipykernel)",
   "language": "python",
   "name": "python3"
  },
  "language_info": {
   "codemirror_mode": {
    "name": "ipython",
    "version": 3
   },
   "file_extension": ".py",
   "mimetype": "text/x-python",
   "name": "python",
   "nbconvert_exporter": "python",
   "pygments_lexer": "ipython3",
   "version": "3.10.16"
  },
  "widgets": {
   "application/vnd.jupyter.widget-state+json": {
    "003b084538784bb69ed6de0fccca8a2f": {
     "model_module": "@jupyter-widgets/controls",
     "model_module_version": "1.5.0",
     "model_name": "ProgressStyleModel",
     "state": {
      "_model_module": "@jupyter-widgets/controls",
      "_model_module_version": "1.5.0",
      "_model_name": "ProgressStyleModel",
      "_view_count": null,
      "_view_module": "@jupyter-widgets/base",
      "_view_module_version": "1.2.0",
      "_view_name": "StyleView",
      "bar_color": null,
      "description_width": ""
     }
    },
    "06a6dc0421804690a53c91d90b089d4c": {
     "model_module": "@jupyter-widgets/controls",
     "model_module_version": "1.5.0",
     "model_name": "DescriptionStyleModel",
     "state": {
      "_model_module": "@jupyter-widgets/controls",
      "_model_module_version": "1.5.0",
      "_model_name": "DescriptionStyleModel",
      "_view_count": null,
      "_view_module": "@jupyter-widgets/base",
      "_view_module_version": "1.2.0",
      "_view_name": "StyleView",
      "description_width": ""
     }
    },
    "06bbecbbcd9148bf86283f955aa32f8e": {
     "model_module": "@jupyter-widgets/controls",
     "model_module_version": "1.5.0",
     "model_name": "ProgressStyleModel",
     "state": {
      "_model_module": "@jupyter-widgets/controls",
      "_model_module_version": "1.5.0",
      "_model_name": "ProgressStyleModel",
      "_view_count": null,
      "_view_module": "@jupyter-widgets/base",
      "_view_module_version": "1.2.0",
      "_view_name": "StyleView",
      "bar_color": null,
      "description_width": ""
     }
    },
    "09e68d34d3024873a7709e4f0bfc046c": {
     "model_module": "@jupyter-widgets/controls",
     "model_module_version": "1.5.0",
     "model_name": "HTMLModel",
     "state": {
      "_dom_classes": [],
      "_model_module": "@jupyter-widgets/controls",
      "_model_module_version": "1.5.0",
      "_model_name": "HTMLModel",
      "_view_count": null,
      "_view_module": "@jupyter-widgets/controls",
      "_view_module_version": "1.5.0",
      "_view_name": "HTMLView",
      "description": "",
      "description_tooltip": null,
      "layout": "IPY_MODEL_75ec65ebc565493d9c7fb09b9babbdd8",
      "placeholder": "​",
      "style": "IPY_MODEL_cf5b5ee7bd5f4cc2ba933608f72bbc1a",
      "value": ""
     }
    },
    "0efecf6c931e403d81779d07292a69b0": {
     "model_module": "@jupyter-widgets/base",
     "model_module_version": "1.2.0",
     "model_name": "LayoutModel",
     "state": {
      "_model_module": "@jupyter-widgets/base",
      "_model_module_version": "1.2.0",
      "_model_name": "LayoutModel",
      "_view_count": null,
      "_view_module": "@jupyter-widgets/base",
      "_view_module_version": "1.2.0",
      "_view_name": "LayoutView",
      "align_content": null,
      "align_items": null,
      "align_self": null,
      "border": null,
      "bottom": null,
      "display": null,
      "flex": null,
      "flex_flow": null,
      "grid_area": null,
      "grid_auto_columns": null,
      "grid_auto_flow": null,
      "grid_auto_rows": null,
      "grid_column": null,
      "grid_gap": null,
      "grid_row": null,
      "grid_template_areas": null,
      "grid_template_columns": null,
      "grid_template_rows": null,
      "height": null,
      "justify_content": null,
      "justify_items": null,
      "left": null,
      "margin": null,
      "max_height": null,
      "max_width": null,
      "min_height": null,
      "min_width": null,
      "object_fit": null,
      "object_position": null,
      "order": null,
      "overflow": null,
      "overflow_x": null,
      "overflow_y": null,
      "padding": null,
      "right": null,
      "top": null,
      "visibility": null,
      "width": null
     }
    },
    "181a5c68f0a745e1b1a6e86493941bd2": {
     "model_module": "@jupyter-widgets/base",
     "model_module_version": "1.2.0",
     "model_name": "LayoutModel",
     "state": {
      "_model_module": "@jupyter-widgets/base",
      "_model_module_version": "1.2.0",
      "_model_name": "LayoutModel",
      "_view_count": null,
      "_view_module": "@jupyter-widgets/base",
      "_view_module_version": "1.2.0",
      "_view_name": "LayoutView",
      "align_content": null,
      "align_items": null,
      "align_self": null,
      "border": null,
      "bottom": null,
      "display": null,
      "flex": null,
      "flex_flow": null,
      "grid_area": null,
      "grid_auto_columns": null,
      "grid_auto_flow": null,
      "grid_auto_rows": null,
      "grid_column": null,
      "grid_gap": null,
      "grid_row": null,
      "grid_template_areas": null,
      "grid_template_columns": null,
      "grid_template_rows": null,
      "height": null,
      "justify_content": null,
      "justify_items": null,
      "left": null,
      "margin": null,
      "max_height": null,
      "max_width": null,
      "min_height": null,
      "min_width": null,
      "object_fit": null,
      "object_position": null,
      "order": null,
      "overflow": null,
      "overflow_x": null,
      "overflow_y": null,
      "padding": null,
      "right": null,
      "top": null,
      "visibility": null,
      "width": null
     }
    },
    "225077afc9064667a5ced49b9a7754e9": {
     "model_module": "@jupyter-widgets/controls",
     "model_module_version": "1.5.0",
     "model_name": "HBoxModel",
     "state": {
      "_dom_classes": [],
      "_model_module": "@jupyter-widgets/controls",
      "_model_module_version": "1.5.0",
      "_model_name": "HBoxModel",
      "_view_count": null,
      "_view_module": "@jupyter-widgets/controls",
      "_view_module_version": "1.5.0",
      "_view_name": "HBoxView",
      "box_style": "",
      "children": [
       "IPY_MODEL_a7ccdf6ca26f4a6188fe6101493d80fe",
       "IPY_MODEL_fcd2b9e894e042348019895109f36bd2",
       "IPY_MODEL_09e68d34d3024873a7709e4f0bfc046c"
      ],
      "layout": "IPY_MODEL_181a5c68f0a745e1b1a6e86493941bd2"
     }
    },
    "435f5e57a5a1440aa83deb09c7351d9e": {
     "model_module": "@jupyter-widgets/controls",
     "model_module_version": "1.5.0",
     "model_name": "HTMLModel",
     "state": {
      "_dom_classes": [],
      "_model_module": "@jupyter-widgets/controls",
      "_model_module_version": "1.5.0",
      "_model_name": "HTMLModel",
      "_view_count": null,
      "_view_module": "@jupyter-widgets/controls",
      "_view_module_version": "1.5.0",
      "_view_name": "HTMLView",
      "description": "",
      "description_tooltip": null,
      "layout": "IPY_MODEL_4d2d1ed984b54dd58a22d903565364ce",
      "placeholder": "​",
      "style": "IPY_MODEL_06a6dc0421804690a53c91d90b089d4c",
      "value": ""
     }
    },
    "4aa7f1b59a754985863226aceae6a358": {
     "model_module": "@jupyter-widgets/controls",
     "model_module_version": "1.5.0",
     "model_name": "FloatProgressModel",
     "state": {
      "_dom_classes": [],
      "_model_module": "@jupyter-widgets/controls",
      "_model_module_version": "1.5.0",
      "_model_name": "FloatProgressModel",
      "_view_count": null,
      "_view_module": "@jupyter-widgets/controls",
      "_view_module_version": "1.5.0",
      "_view_name": "ProgressView",
      "bar_style": "success",
      "description": "",
      "description_tooltip": null,
      "layout": "IPY_MODEL_66d00030ec8e4e12b7861663dc4faf26",
      "max": 1,
      "min": 0,
      "orientation": "horizontal",
      "style": "IPY_MODEL_06bbecbbcd9148bf86283f955aa32f8e",
      "value": 1
     }
    },
    "4d2d1ed984b54dd58a22d903565364ce": {
     "model_module": "@jupyter-widgets/base",
     "model_module_version": "1.2.0",
     "model_name": "LayoutModel",
     "state": {
      "_model_module": "@jupyter-widgets/base",
      "_model_module_version": "1.2.0",
      "_model_name": "LayoutModel",
      "_view_count": null,
      "_view_module": "@jupyter-widgets/base",
      "_view_module_version": "1.2.0",
      "_view_name": "LayoutView",
      "align_content": null,
      "align_items": null,
      "align_self": null,
      "border": null,
      "bottom": null,
      "display": null,
      "flex": null,
      "flex_flow": null,
      "grid_area": null,
      "grid_auto_columns": null,
      "grid_auto_flow": null,
      "grid_auto_rows": null,
      "grid_column": null,
      "grid_gap": null,
      "grid_row": null,
      "grid_template_areas": null,
      "grid_template_columns": null,
      "grid_template_rows": null,
      "height": null,
      "justify_content": null,
      "justify_items": null,
      "left": null,
      "margin": null,
      "max_height": null,
      "max_width": null,
      "min_height": null,
      "min_width": null,
      "object_fit": null,
      "object_position": null,
      "order": null,
      "overflow": null,
      "overflow_x": null,
      "overflow_y": null,
      "padding": null,
      "right": null,
      "top": null,
      "visibility": null,
      "width": null
     }
    },
    "66a79212dc404c678a422d703bd93d67": {
     "model_module": "@jupyter-widgets/controls",
     "model_module_version": "1.5.0",
     "model_name": "DescriptionStyleModel",
     "state": {
      "_model_module": "@jupyter-widgets/controls",
      "_model_module_version": "1.5.0",
      "_model_name": "DescriptionStyleModel",
      "_view_count": null,
      "_view_module": "@jupyter-widgets/base",
      "_view_module_version": "1.2.0",
      "_view_name": "StyleView",
      "description_width": ""
     }
    },
    "66d00030ec8e4e12b7861663dc4faf26": {
     "model_module": "@jupyter-widgets/base",
     "model_module_version": "1.2.0",
     "model_name": "LayoutModel",
     "state": {
      "_model_module": "@jupyter-widgets/base",
      "_model_module_version": "1.2.0",
      "_model_name": "LayoutModel",
      "_view_count": null,
      "_view_module": "@jupyter-widgets/base",
      "_view_module_version": "1.2.0",
      "_view_name": "LayoutView",
      "align_content": null,
      "align_items": null,
      "align_self": null,
      "border": null,
      "bottom": null,
      "display": null,
      "flex": null,
      "flex_flow": null,
      "grid_area": null,
      "grid_auto_columns": null,
      "grid_auto_flow": null,
      "grid_auto_rows": null,
      "grid_column": null,
      "grid_gap": null,
      "grid_row": null,
      "grid_template_areas": null,
      "grid_template_columns": null,
      "grid_template_rows": null,
      "height": null,
      "justify_content": null,
      "justify_items": null,
      "left": null,
      "margin": null,
      "max_height": null,
      "max_width": null,
      "min_height": null,
      "min_width": null,
      "object_fit": null,
      "object_position": null,
      "order": null,
      "overflow": null,
      "overflow_x": null,
      "overflow_y": null,
      "padding": null,
      "right": null,
      "top": null,
      "visibility": null,
      "width": null
     }
    },
    "75ec65ebc565493d9c7fb09b9babbdd8": {
     "model_module": "@jupyter-widgets/base",
     "model_module_version": "1.2.0",
     "model_name": "LayoutModel",
     "state": {
      "_model_module": "@jupyter-widgets/base",
      "_model_module_version": "1.2.0",
      "_model_name": "LayoutModel",
      "_view_count": null,
      "_view_module": "@jupyter-widgets/base",
      "_view_module_version": "1.2.0",
      "_view_name": "LayoutView",
      "align_content": null,
      "align_items": null,
      "align_self": null,
      "border": null,
      "bottom": null,
      "display": null,
      "flex": null,
      "flex_flow": null,
      "grid_area": null,
      "grid_auto_columns": null,
      "grid_auto_flow": null,
      "grid_auto_rows": null,
      "grid_column": null,
      "grid_gap": null,
      "grid_row": null,
      "grid_template_areas": null,
      "grid_template_columns": null,
      "grid_template_rows": null,
      "height": null,
      "justify_content": null,
      "justify_items": null,
      "left": null,
      "margin": null,
      "max_height": null,
      "max_width": null,
      "min_height": null,
      "min_width": null,
      "object_fit": null,
      "object_position": null,
      "order": null,
      "overflow": null,
      "overflow_x": null,
      "overflow_y": null,
      "padding": null,
      "right": null,
      "top": null,
      "visibility": null,
      "width": null
     }
    },
    "7f6cd02dd35c43adbe5243abbb4911e0": {
     "model_module": "@jupyter-widgets/base",
     "model_module_version": "1.2.0",
     "model_name": "LayoutModel",
     "state": {
      "_model_module": "@jupyter-widgets/base",
      "_model_module_version": "1.2.0",
      "_model_name": "LayoutModel",
      "_view_count": null,
      "_view_module": "@jupyter-widgets/base",
      "_view_module_version": "1.2.0",
      "_view_name": "LayoutView",
      "align_content": null,
      "align_items": null,
      "align_self": null,
      "border": null,
      "bottom": null,
      "display": null,
      "flex": null,
      "flex_flow": null,
      "grid_area": null,
      "grid_auto_columns": null,
      "grid_auto_flow": null,
      "grid_auto_rows": null,
      "grid_column": null,
      "grid_gap": null,
      "grid_row": null,
      "grid_template_areas": null,
      "grid_template_columns": null,
      "grid_template_rows": null,
      "height": null,
      "justify_content": null,
      "justify_items": null,
      "left": null,
      "margin": null,
      "max_height": null,
      "max_width": null,
      "min_height": null,
      "min_width": null,
      "object_fit": null,
      "object_position": null,
      "order": null,
      "overflow": null,
      "overflow_x": null,
      "overflow_y": null,
      "padding": null,
      "right": null,
      "top": null,
      "visibility": null,
      "width": null
     }
    },
    "8b7b7763f1d544689332feea786fd135": {
     "model_module": "@jupyter-widgets/controls",
     "model_module_version": "1.5.0",
     "model_name": "DescriptionStyleModel",
     "state": {
      "_model_module": "@jupyter-widgets/controls",
      "_model_module_version": "1.5.0",
      "_model_name": "DescriptionStyleModel",
      "_view_count": null,
      "_view_module": "@jupyter-widgets/base",
      "_view_module_version": "1.2.0",
      "_view_name": "StyleView",
      "description_width": ""
     }
    },
    "9978c3eaed644ed992073d8a51b421ba": {
     "model_module": "@jupyter-widgets/controls",
     "model_module_version": "1.5.0",
     "model_name": "HBoxModel",
     "state": {
      "_dom_classes": [],
      "_model_module": "@jupyter-widgets/controls",
      "_model_module_version": "1.5.0",
      "_model_name": "HBoxModel",
      "_view_count": null,
      "_view_module": "@jupyter-widgets/controls",
      "_view_module_version": "1.5.0",
      "_view_name": "HBoxView",
      "box_style": "",
      "children": [
       "IPY_MODEL_c23911907148402fb01e813dacace25f",
       "IPY_MODEL_4aa7f1b59a754985863226aceae6a358",
       "IPY_MODEL_435f5e57a5a1440aa83deb09c7351d9e"
      ],
      "layout": "IPY_MODEL_f4aadb39468d426e818e7d5d1e4420e4"
     }
    },
    "a7ccdf6ca26f4a6188fe6101493d80fe": {
     "model_module": "@jupyter-widgets/controls",
     "model_module_version": "1.5.0",
     "model_name": "HTMLModel",
     "state": {
      "_dom_classes": [],
      "_model_module": "@jupyter-widgets/controls",
      "_model_module_version": "1.5.0",
      "_model_name": "HTMLModel",
      "_view_count": null,
      "_view_module": "@jupyter-widgets/controls",
      "_view_module_version": "1.5.0",
      "_view_name": "HTMLView",
      "description": "",
      "description_tooltip": null,
      "layout": "IPY_MODEL_fe7b7b5e0f5440b98d1871e3c54a511b",
      "placeholder": "​",
      "style": "IPY_MODEL_66a79212dc404c678a422d703bd93d67",
      "value": "Downloading: 100%"
     }
    },
    "c23911907148402fb01e813dacace25f": {
     "model_module": "@jupyter-widgets/controls",
     "model_module_version": "1.5.0",
     "model_name": "HTMLModel",
     "state": {
      "_dom_classes": [],
      "_model_module": "@jupyter-widgets/controls",
      "_model_module_version": "1.5.0",
      "_model_name": "HTMLModel",
      "_view_count": null,
      "_view_module": "@jupyter-widgets/controls",
      "_view_module_version": "1.5.0",
      "_view_name": "HTMLView",
      "description": "",
      "description_tooltip": null,
      "layout": "IPY_MODEL_0efecf6c931e403d81779d07292a69b0",
      "placeholder": "​",
      "style": "IPY_MODEL_8b7b7763f1d544689332feea786fd135",
      "value": "Job ID f56f3f25-f5c0-4b87-9743-71cb780a683a successfully executed: 100%"
     }
    },
    "cf5b5ee7bd5f4cc2ba933608f72bbc1a": {
     "model_module": "@jupyter-widgets/controls",
     "model_module_version": "1.5.0",
     "model_name": "DescriptionStyleModel",
     "state": {
      "_model_module": "@jupyter-widgets/controls",
      "_model_module_version": "1.5.0",
      "_model_name": "DescriptionStyleModel",
      "_view_count": null,
      "_view_module": "@jupyter-widgets/base",
      "_view_module_version": "1.2.0",
      "_view_name": "StyleView",
      "description_width": ""
     }
    },
    "f4aadb39468d426e818e7d5d1e4420e4": {
     "model_module": "@jupyter-widgets/base",
     "model_module_version": "1.2.0",
     "model_name": "LayoutModel",
     "state": {
      "_model_module": "@jupyter-widgets/base",
      "_model_module_version": "1.2.0",
      "_model_name": "LayoutModel",
      "_view_count": null,
      "_view_module": "@jupyter-widgets/base",
      "_view_module_version": "1.2.0",
      "_view_name": "LayoutView",
      "align_content": null,
      "align_items": null,
      "align_self": null,
      "border": null,
      "bottom": null,
      "display": null,
      "flex": null,
      "flex_flow": null,
      "grid_area": null,
      "grid_auto_columns": null,
      "grid_auto_flow": null,
      "grid_auto_rows": null,
      "grid_column": null,
      "grid_gap": null,
      "grid_row": null,
      "grid_template_areas": null,
      "grid_template_columns": null,
      "grid_template_rows": null,
      "height": null,
      "justify_content": null,
      "justify_items": null,
      "left": null,
      "margin": null,
      "max_height": null,
      "max_width": null,
      "min_height": null,
      "min_width": null,
      "object_fit": null,
      "object_position": null,
      "order": null,
      "overflow": null,
      "overflow_x": null,
      "overflow_y": null,
      "padding": null,
      "right": null,
      "top": null,
      "visibility": null,
      "width": null
     }
    },
    "fcd2b9e894e042348019895109f36bd2": {
     "model_module": "@jupyter-widgets/controls",
     "model_module_version": "1.5.0",
     "model_name": "FloatProgressModel",
     "state": {
      "_dom_classes": [],
      "_model_module": "@jupyter-widgets/controls",
      "_model_module_version": "1.5.0",
      "_model_name": "FloatProgressModel",
      "_view_count": null,
      "_view_module": "@jupyter-widgets/controls",
      "_view_module_version": "1.5.0",
      "_view_name": "ProgressView",
      "bar_style": "success",
      "description": "",
      "description_tooltip": null,
      "layout": "IPY_MODEL_7f6cd02dd35c43adbe5243abbb4911e0",
      "max": 33854,
      "min": 0,
      "orientation": "horizontal",
      "style": "IPY_MODEL_003b084538784bb69ed6de0fccca8a2f",
      "value": 33854
     }
    },
    "fe7b7b5e0f5440b98d1871e3c54a511b": {
     "model_module": "@jupyter-widgets/base",
     "model_module_version": "1.2.0",
     "model_name": "LayoutModel",
     "state": {
      "_model_module": "@jupyter-widgets/base",
      "_model_module_version": "1.2.0",
      "_model_name": "LayoutModel",
      "_view_count": null,
      "_view_module": "@jupyter-widgets/base",
      "_view_module_version": "1.2.0",
      "_view_name": "LayoutView",
      "align_content": null,
      "align_items": null,
      "align_self": null,
      "border": null,
      "bottom": null,
      "display": null,
      "flex": null,
      "flex_flow": null,
      "grid_area": null,
      "grid_auto_columns": null,
      "grid_auto_flow": null,
      "grid_auto_rows": null,
      "grid_column": null,
      "grid_gap": null,
      "grid_row": null,
      "grid_template_areas": null,
      "grid_template_columns": null,
      "grid_template_rows": null,
      "height": null,
      "justify_content": null,
      "justify_items": null,
      "left": null,
      "margin": null,
      "max_height": null,
      "max_width": null,
      "min_height": null,
      "min_width": null,
      "object_fit": null,
      "object_position": null,
      "order": null,
      "overflow": null,
      "overflow_x": null,
      "overflow_y": null,
      "padding": null,
      "right": null,
      "top": null,
      "visibility": null,
      "width": null
     }
    }
   }
  }
 },
 "nbformat": 4,
 "nbformat_minor": 5
}

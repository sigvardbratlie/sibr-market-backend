{
 "cells": [
  {
   "cell_type": "code",
   "id": "initial_id",
   "metadata": {
    "collapsed": true,
    "ExecuteTime": {
     "end_time": "2025-06-08T20:44:10.328338Z",
     "start_time": "2025-06-08T20:44:08.857276Z"
    }
   },
   "source": [
    "import os\n",
    "os.chdir(\"../..\")\n",
    "from examples.help_modules import BigQuery, ConfigReader, Logger,CStorage\n",
    "import pandas as pd\n",
    "import joblib"
   ],
   "outputs": [],
   "execution_count": 3
  },
  {
   "metadata": {},
   "cell_type": "code",
   "outputs": [],
   "execution_count": null,
   "source": [
    "p = ConfigReader().get_config().get('bq_path')\n",
    "logger = Logger('predictHomes',CREDENTIALS_PATH=p)\n",
    "bq = BigQuery(CREDENTIALS_PATH=p, logger=logger)\n",
    "cs = CStorage(logger=logger, bucket_name='sibr-market-bucket', CREDENTIALS_PATH=p)"
   ],
   "id": "c82fb0de0759e6c9"
  },
  {
   "metadata": {
    "ExecuteTime": {
     "end_time": "2025-06-05T07:13:04.657236Z",
     "start_time": "2025-06-05T07:12:56.473675Z"
    }
   },
   "cell_type": "code",
   "source": [
    "\n",
    "\n",
    "sql_a = '''\n",
    "SELECT a.*,c.lat,c.lng FROM `sibr-market.pre_processed.homes_apartments` a\n",
    "JOIN admin.coordinates c ON c.item_id = a.item_id\n",
    "WHERE month = 6 and year = 2025;\n",
    "'''\n",
    "sql_h = '''\n",
    "SELECT h.*,c.lat,c.lng FROM `sibr-market.pre_processed.homes_apartments` h\n",
    "JOIN admin.coordinates c ON c.item_id = h.item_id\n",
    "WHERE month = 6 and year = 2025;\n",
    "'''\n",
    "df_a = bq.read_bq(sql_a,read_type=\"pandas_gbq\")\n",
    "df_a.set_index('item_id', inplace=True)\n",
    "df_h = bq.read_bq(sql_h,read_type=\"pandas_gbq\")\n",
    "df_h.set_index('item_id', inplace=True)"
   ],
   "id": "d98e6eefdc08c096",
   "outputs": [
    {
     "name": "stdout",
     "output_type": "stream",
     "text": [
      "Downloading: 100%|\u001B[32m██████████\u001B[0m|\n",
      "Downloading: 100%|\u001B[32m██████████\u001B[0m|\n"
     ]
    }
   ],
   "execution_count": 3
  },
  {
   "metadata": {
    "ExecuteTime": {
     "end_time": "2025-06-05T07:18:16.938111Z",
     "start_time": "2025-06-05T07:18:16.845786Z"
    }
   },
   "cell_type": "code",
   "source": [
    "filepath = '/models'\n",
    "pipeline_a  = joblib.load(f'{filepath}/xgboost_apartments.pkl')\n",
    "pipeline_h  = joblib.load(f'{filepath}/xgboost_houses.pkl')"
   ],
   "id": "a8db0762e6ebb2a4",
   "outputs": [],
   "execution_count": 5
  },
  {
   "metadata": {
    "ExecuteTime": {
     "end_time": "2025-06-05T07:18:35.887929Z",
     "start_time": "2025-06-05T07:18:35.741738Z"
    }
   },
   "cell_type": "code",
   "source": [
    "y_pred_a = pipeline_a.predict(df_a.drop(columns=['price'], axis=1))\n",
    "y_pred_h = pipeline_a.predict(df_h.drop(columns=['price'], axis=1))"
   ],
   "id": "62769848c2dec91",
   "outputs": [],
   "execution_count": 6
  },
  {
   "metadata": {
    "ExecuteTime": {
     "end_time": "2025-06-05T07:19:05.844952Z",
     "start_time": "2025-06-05T07:19:05.826685Z"
    }
   },
   "cell_type": "code",
   "source": [
    "pred_a = pd.DataFrame({\n",
    "    'item_id': df_a.index,\n",
    "    'predicted_price': y_pred_a\n",
    "})\n",
    "pred_h = pd.DataFrame({\n",
    "    'item_id': df_h.index,\n",
    "    'predicted_price': y_pred_h\n",
    "})\n",
    "pred = pd.concat([pred_a, pred_h], ignore_index=False)"
   ],
   "id": "84a0e6e892fcd389",
   "outputs": [],
   "execution_count": 8
  },
  {
   "metadata": {
    "ExecuteTime": {
     "end_time": "2025-06-05T07:19:28.102096Z",
     "start_time": "2025-06-05T07:19:23.329017Z"
    }
   },
   "cell_type": "code",
   "source": "bq.to_bq(pred,'homes','predictions',if_exists='append')",
   "id": "9c5ce4abdf24310d",
   "outputs": [],
   "execution_count": 10
  },
  {
   "metadata": {
    "ExecuteTime": {
     "end_time": "2025-06-05T07:19:29.917359Z",
     "start_time": "2025-06-05T07:19:29.914313Z"
    }
   },
   "cell_type": "code",
   "source": "",
   "id": "f61d0ba133c7f13e",
   "outputs": [],
   "execution_count": null
  },
  {
   "metadata": {},
   "cell_type": "code",
   "outputs": [],
   "execution_count": null,
   "source": "",
   "id": "40b158911cd8b2bd"
  }
 ],
 "metadata": {
  "kernelspec": {
   "display_name": "Python 3",
   "language": "python",
   "name": "python3"
  },
  "language_info": {
   "codemirror_mode": {
    "name": "ipython",
    "version": 2
   },
   "file_extension": ".py",
   "mimetype": "text/x-python",
   "name": "python",
   "nbconvert_exporter": "python",
   "pygments_lexer": "ipython2",
   "version": "2.7.6"
  }
 },
 "nbformat": 4,
 "nbformat_minor": 5
}

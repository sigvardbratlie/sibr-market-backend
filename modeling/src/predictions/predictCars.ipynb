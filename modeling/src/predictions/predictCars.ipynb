{
 "cells": [
  {
   "cell_type": "code",
   "id": "initial_id",
   "metadata": {
    "ExecuteTime": {
     "end_time": "2025-06-20T10:51:42.113805Z",
     "start_time": "2025-06-20T10:51:40.897119Z"
    }
   },
   "source": [
    "import os\n",
    "from prediction_commonfunctions import *\n",
    "os.chdir(\"../..\")\n",
    "from sibr_module import BigQuery, Logger, CStorage\n",
    "\n",
    "import pandas as pd"
   ],
   "outputs": [
    {
     "name": "stderr",
     "output_type": "stream",
     "text": [
      "/Users/sigvardbratlie/Documents/Projects/sibr_market_training/.venv/lib/python3.9/site-packages/urllib3/__init__.py:35: NotOpenSSLWarning: urllib3 v2 only supports OpenSSL 1.1.1+, currently the 'ssl' module is compiled with 'LibreSSL 2.8.3'. See: https://github.com/urllib3/urllib3/issues/3020\n",
      "  warnings.warn(\n"
     ]
    }
   ],
   "execution_count": 1
  },
  {
   "cell_type": "code",
   "id": "c82fb0de0759e6c9",
   "metadata": {
    "ExecuteTime": {
     "end_time": "2025-06-20T10:51:44.641075Z",
     "start_time": "2025-06-20T10:51:44.603817Z"
    }
   },
   "source": [
    "dataset = 'cars'\n",
    "logger = Logger(f'predict{dataset.capitalize()}')\n",
    "bq = BigQuery(logger=logger, dataset=dataset)\n",
    "cs = CStorage(logger=logger, bucket_name='sibr-market-bucket')\n",
    "save_to_bq = True\n",
    "logger.debug(f'Dataset: {dataset}')"
   ],
   "outputs": [
    {
     "name": "stderr",
     "output_type": "stream",
     "text": [
      "2025-06-20 12:51:44,631 - predictCars - INFO - \n",
      " Starting new session. All loggs successfully initiated\n",
      "2025-06-20 12:51:44,636 - predictCars - INFO - BigQuery client initialized with project_id: sibr-market\n",
      "2025-06-20 12:51:44,638 - predictCars - INFO - Google Cloud Storage client initialized with bucket: sibr-market-bucket\n",
      "2025-06-20 12:51:44,639 - predictCars - DEBUG - Dataset: cars\n"
     ]
    }
   ],
   "execution_count": 2
  },
  {
   "metadata": {},
   "cell_type": "code",
   "outputs": [],
   "execution_count": null,
   "source": [
    "models = cs.download('models.json', read_in_file=True)\n",
    "models['created_at'] = pd.to_datetime(models['created_at'], unit='ms')"
   ],
   "id": "3e5db1cb6ca67eb"
  },
  {
   "cell_type": "code",
   "id": "d98e6eefdc08c096",
   "metadata": {
    "ExecuteTime": {
     "end_time": "2025-06-20T10:52:30.380004Z",
     "start_time": "2025-06-20T10:51:59.859990Z"
    }
   },
   "source": [
    "df_el = bq.read_preprocessed(table='cars_el', last_scrape_date=True, coordinates=False)\n",
    "df_fossil = bq.read_preprocessed(table='cars_fossil', last_scrape_date=True, coordinates=False)"
   ],
   "outputs": [
    {
     "data": {
      "text/plain": [
       "<IPython.core.display.HTML object>"
      ],
      "text/html": [
       "Query job e7651b94-ef91-4d48-805a-c702df7cadf8 is DONE. 0 Bytes processed. <a target=\"_blank\" href=\"https://console.cloud.google.com/bigquery?project=sibr-market&j=bq:EU:e7651b94-ef91-4d48-805a-c702df7cadf8&page=queryresults\">Open Job</a>"
      ]
     },
     "metadata": {},
     "output_type": "display_data"
    },
    {
     "data": {
      "text/plain": [
       "<IPython.core.display.HTML object>"
      ],
      "text/html": [
       "Query job 595f93e1-1076-4a40-ae78-89577ced295c is DONE. 204.9 MB processed. <a target=\"_blank\" href=\"https://console.cloud.google.com/bigquery?project=sibr-market&j=bq:EU:595f93e1-1076-4a40-ae78-89577ced295c&page=queryresults\">Open Job</a>"
      ]
     },
     "metadata": {},
     "output_type": "display_data"
    },
    {
     "name": "stderr",
     "output_type": "stream",
     "text": [
      "2025-06-20 12:52:15,429 - predictCars - INFO - 12337 rows read from cars. Query: SELECT a.* FROM `sibr-market.p... (truncated)\n"
     ]
    },
    {
     "data": {
      "text/plain": [
       "<IPython.core.display.HTML object>"
      ],
      "text/html": [
       "Query job 2e1bbd28-4d66-4847-b9c1-530fb8893f01 is DONE. 361.4 MB processed. <a target=\"_blank\" href=\"https://console.cloud.google.com/bigquery?project=sibr-market&j=bq:EU:2e1bbd28-4d66-4847-b9c1-530fb8893f01&page=queryresults\">Open Job</a>"
      ]
     },
     "metadata": {},
     "output_type": "display_data"
    },
    {
     "name": "stderr",
     "output_type": "stream",
     "text": [
      "2025-06-20 12:52:30,373 - predictCars - INFO - 32225 rows read from cars. Query: SELECT a.* FROM `sibr-market.p... (truncated)\n"
     ]
    }
   ],
   "execution_count": 3
  },
  {
   "cell_type": "code",
   "id": "a8db0762e6ebb2a4",
   "metadata": {
    "ExecuteTime": {
     "end_time": "2025-06-20T11:00:11.489536Z",
     "start_time": "2025-06-20T11:00:07.599968Z"
    }
   },
   "source": [
    "res_el = models[models['dataset']=='cars_el'].iloc[0].to_dict()\n",
    "res_fossil = models[models['dataset']=='cars_fossil'].iloc[0].to_dict()\n",
    "m_el = cs.download(res_el.get('filename'), read_in_file=True)\n",
    "m_fossil = cs.download(res_fossil.get('filename'), read_in_file=True)\n",
    "\n",
    "y_pred_el = predict_data(dataframe = df_el,\n",
    "                              pipeline = m_el,\n",
    "                              target = res_el.get(f'target'),\n",
    "                              log_target=res_el.get(f'log_target'),\n",
    "                              training_columns=res_el.get('training_columns'))\n",
    "y_pred_fossil = predict_data(dataframe = df_fossil,\n",
    "                                  pipeline = m_fossil,\n",
    "                                  target = res_fossil.get(f'target'),\n",
    "                                  log_target = res_fossil.get('log_target'),\n",
    "                                  training_columns = res_fossil.get('training_columns'))"
   ],
   "outputs": [
    {
     "name": "stderr",
     "output_type": "stream",
     "text": [
      "2025-06-20 13:00:09,523 - predictCars - INFO - Read in CatBoostRegressor_el.pkl\n",
      "2025-06-20 13:00:11,484 - predictCars - INFO - Read in CatBoostRegressor_fossil.pkl\n"
     ]
    }
   ],
   "execution_count": 8
  },
  {
   "cell_type": "code",
   "id": "62769848c2dec91",
   "metadata": {
    "ExecuteTime": {
     "end_time": "2025-06-20T11:00:13.684095Z",
     "start_time": "2025-06-20T11:00:13.465555Z"
    }
   },
   "source": [
    "pred_el = pd.DataFrame({\n",
    "    'item_id': df_el.index,\n",
    "    'predicted_price': y_pred_el,\n",
    "    'model': 'el'\n",
    "})\n",
    "pred_fossil = pd.DataFrame({\n",
    "    'item_id': df_fossil.index,\n",
    "    'predicted_price': y_pred_fossil,\n",
    "    'model': 'fossil'\n",
    "})\n",
    "pred = pd.concat([pred_el, pred_fossil], ignore_index=False)\n",
    "pred['predict_date'] = pd.Timestamp.now()\n",
    "\n",
    "if save_to_bq:\n",
    "    if not pred.empty:\n",
    "        save_data(df=pred, table_name=dataset)\n",
    "else:\n",
    "    logger.warning('No data saved to BQ as save_to_bq is set to False.')"
   ],
   "outputs": [],
   "execution_count": 9
  },
  {
   "metadata": {},
   "cell_type": "code",
   "outputs": [],
   "execution_count": null,
   "source": "",
   "id": "6381f86f06c60c1f"
  }
 ],
 "metadata": {
  "environment": {
   "kernel": "conda-base-py",
   "name": "workbench-notebooks.m129",
   "type": "gcloud",
   "uri": "us-docker.pkg.dev/deeplearning-platform-release/gcr.io/workbench-notebooks:m129"
  },
  "kernelspec": {
   "display_name": "Python 3 (ipykernel)",
   "language": "python",
   "name": "python3"
  },
  "language_info": {
   "codemirror_mode": {
    "name": "ipython",
    "version": 3
   },
   "file_extension": ".py",
   "mimetype": "text/x-python",
   "name": "python",
   "nbconvert_exporter": "python",
   "pygments_lexer": "ipython3",
   "version": "3.10.16"
  }
 },
 "nbformat": 4,
 "nbformat_minor": 5
}

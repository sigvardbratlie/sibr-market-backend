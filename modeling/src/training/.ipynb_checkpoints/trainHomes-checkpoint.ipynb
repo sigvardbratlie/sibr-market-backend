{
 "cells": [
  {
   "metadata": {},
   "cell_type": "markdown",
   "source": "# TRAINING APARTMENTS",
   "id": "59ae7740a715001f"
  },
  {
   "metadata": {
    "ExecuteTime": {
     "end_time": "2025-06-08T20:27:02.066914Z",
     "start_time": "2025-06-08T20:26:59.689876Z"
    }
   },
   "cell_type": "code",
   "source": [
    "import os\n",
    "from examples.help_modules import BigQuery, ConfigReader, Logger,CStorage\n",
    "import numpy as np\n",
    "import pandas as pd\n",
    "pd.set_option('display.max_columns', None)\n",
    "from sklearn.pipeline import Pipeline\n",
    "from xgboost import XGBRegressor\n",
    "from sklearn.model_selection import train_test_split\n",
    "from sklearn.preprocessing import StandardScaler\n",
    "from sklearn.impute import SimpleImputer\n",
    "from sklearn.metrics import mean_squared_error,r2_score\n",
    "import joblib\n",
    "os.chdir(\"../..\")"
   ],
   "id": "6d7975ff3cc68a29",
   "outputs": [],
   "execution_count": 1
  },
  {
   "metadata": {
    "ExecuteTime": {
     "end_time": "2025-06-08T20:27:03.825283Z",
     "start_time": "2025-06-08T20:27:03.710408Z"
    }
   },
   "cell_type": "code",
   "source": [
    "p = ConfigReader().get_config().get('bq_path')\n",
    "logger = Logger('trainRentals',CREDENTIALS_PATH=p)\n",
    "bq = BigQuery(logger,p)\n",
    "cs = CStorage(logger = logger,bucket_name='sibr-market-bucket', CREDENTIALS_PATH=p)\n",
    "p"
   ],
   "id": "646d7670e0046518",
   "outputs": [
    {
     "name": "stderr",
     "output_type": "stream",
     "text": [
      "2025-06-08 22:27:03,781 - trainRentals - INFO - Google Cloud Logging initialized with project: sibr-market\n",
      "2025-06-08 22:27:03,782 - trainRentals - INFO - All loggs successfully initiated\n",
      "2025-06-08 22:27:03,819 - trainRentals - INFO - BigQuery client initialized with project_id: sibr-market\n"
     ]
    },
    {
     "data": {
      "text/plain": [
       "'config/market-keys.json'"
      ]
     },
     "execution_count": 2,
     "metadata": {},
     "output_type": "execute_result"
    }
   ],
   "execution_count": 2
  },
  {
   "metadata": {
    "ExecuteTime": {
     "end_time": "2025-06-08T20:27:19.371300Z",
     "start_time": "2025-06-08T20:27:08.644536Z"
    }
   },
   "cell_type": "code",
   "source": [
    "#READ IN DATA\n",
    "sql_a = '''\n",
    "SELECT a.*,c.lat,c.lng FROM `sibr-market.pre_processed.homes_apartments` a\n",
    "JOIN admin.coordinates c ON c.item_id = a.item_id\n",
    "WHERE c.lat != 0;\n",
    "'''\n",
    "sql_h = '''\n",
    "SELECT h.*,c.lat,c.lng FROM `sibr-market.pre_processed.homes_houses` h\n",
    "JOIN admin.coordinates c ON c.item_id = h.item_id\n",
    "WHERE c.lat != 0;\n",
    "'''\n",
    "df_a = bq.read_bq(sql_a,read_type=\"pandas_gbq\")\n",
    "df_a.set_index('item_id', inplace=True)\n",
    "df_h = bq.read_bq(sql_h,read_type=\"pandas_gbq\")\n",
    "df_h.set_index('item_id', inplace=True)"
   ],
   "id": "2ef38b0c539a0afe",
   "outputs": [
    {
     "name": "stdout",
     "output_type": "stream",
     "text": [
      "Downloading: 100%|\u001B[32m██████████\u001B[0m|"
     ]
    },
    {
     "name": "stderr",
     "output_type": "stream",
     "text": [
      "2025-06-08 22:27:15,296 - trainRentals - INFO - 16809 rader lest fra BigQuery\n"
     ]
    },
    {
     "name": "stdout",
     "output_type": "stream",
     "text": [
      "\n",
      "Downloading: 100%|\u001B[32m██████████\u001B[0m|"
     ]
    },
    {
     "name": "stderr",
     "output_type": "stream",
     "text": [
      "2025-06-08 22:27:19,366 - trainRentals - INFO - 12411 rader lest fra BigQuery\n"
     ]
    },
    {
     "name": "stdout",
     "output_type": "stream",
     "text": [
      "\n"
     ]
    }
   ],
   "execution_count": 3
  },
  {
   "metadata": {},
   "cell_type": "markdown",
   "source": "## Model Training with XGBoost | Apartments",
   "id": "b2251b5c74d8114"
  },
  {
   "metadata": {
    "ExecuteTime": {
     "end_time": "2025-06-08T20:40:52.004920Z",
     "start_time": "2025-06-08T20:40:51.988631Z"
    }
   },
   "cell_type": "code",
   "source": [
    "def train(df,params,target , dataset_name,model):\n",
    "    logger.info(f'TRAINING {model().__class__.__name__} model for {dataset_name.upper()} \\n \\n')\n",
    "    X_train, X_test, y_train, y_test = train_test_split(\n",
    "        df.drop(columns=[target], axis=1),\n",
    "        df[target],\n",
    "        test_size=0.2,\n",
    "        # stratify=y_binned,\n",
    "        random_state=42)\n",
    "    logger.info(f\"Train set size: {X_train.shape[0]}, Test set size: {X_test.shape[0]}\")\n",
    "\n",
    "    pipeline = Pipeline([\n",
    "            ('impute', SimpleImputer()),\n",
    "            ('scaler', StandardScaler()),\n",
    "            ('model', model()),\n",
    "        ])\n",
    "\n",
    "    pipeline.set_params(**params)\n",
    "    pipeline.fit(X_train, y_train)\n",
    "    y_pred = pipeline.predict(X_test)\n",
    "    r2 = r2_score(y_test, y_pred)\n",
    "    mse = mean_squared_error(y_test, y_pred)\n",
    "    logger.info(f'MSE test: {mse},r2_score test: {r2}, trainscore: {pipeline.score(X_train, y_train)} for {dataset_name}')\n",
    "\n",
    "    local_filepath = f'/tmp/{model().__class__.__name__}.pkl'\n",
    "    joblib.dump(pipeline, local_filepath)\n",
    "    cs.upload(local_filepath, f'models/{model().__class__.__name__}_{dataset_name}.pkl')\n",
    "    os.remove(local_filepath)\n",
    "    return pipeline"
   ],
   "id": "efd89b6ccfb4c909",
   "outputs": [],
   "execution_count": 15
  },
  {
   "metadata": {
    "ExecuteTime": {
     "end_time": "2025-06-08T20:40:59.485028Z",
     "start_time": "2025-06-08T20:40:53.954006Z"
    }
   },
   "cell_type": "code",
   "source": [
    "params_a = {'model__learning_rate': np.float64(0.03317316825297632), 'model__max_depth': 5, 'model__n_estimators': 1482, 'model__random_state': 69, 'model__subsample': np.float64(0.8042989210310263)}\n",
    "\n",
    "params_h = {'model__learning_rate': np.float64(0.02102146663035812), 'model__max_depth': 6, 'model__n_estimators': 1454, 'model__random_state': 91, 'model__subsample': np.float64(0.7425191352307899)}\n",
    "pipline_a = train(df_a,params_a,target = 'price' ,dataset_name='apartments',model = XGBRegressor)\n",
    "pipeline_h = train(df_h, params_h,target = 'price' ,dataset_name='houses',model = XGBRegressor)"
   ],
   "id": "19bb8c3ed60feac8",
   "outputs": [
    {
     "name": "stderr",
     "output_type": "stream",
     "text": [
      "2025-06-08 22:40:53,959 - trainRentals - INFO - TRAINING XGBRegressor model for APARTMENTS \n",
      " \n",
      "\n",
      "2025-06-08 22:40:53,988 - trainRentals - INFO - Train set size: 13447, Test set size: 3362\n",
      "2025-06-08 22:40:56,087 - trainRentals - INFO - MSE test: 539287194162.6983,r2_score test: 0.9269906946863538, trainscore: 0.9862155956466966 for apartments\n",
      "2025-06-08 22:40:56,489 - trainRentals - INFO - File /tmp/XGBRegressor.pkl uploaded to models/XGBRegressor_apartments.pkl in bucket sibr-market-bucket.\n",
      "2025-06-08 22:40:56,506 - trainRentals - INFO - TRAINING XGBRegressor model for HOUSES \n",
      " \n",
      "\n",
      "2025-06-08 22:40:56,517 - trainRentals - INFO - Train set size: 9928, Test set size: 2483\n",
      "2025-06-08 22:40:58,802 - trainRentals - INFO - MSE test: 519836134179.7185,r2_score test: 0.9637003207581909, trainscore: 0.9949728756103037 for houses\n",
      "2025-06-08 22:40:59,463 - trainRentals - INFO - File /tmp/XGBRegressor.pkl uploaded to models/XGBRegressor_houses.pkl in bucket sibr-market-bucket.\n"
     ]
    }
   ],
   "execution_count": 16
  },
  {
   "metadata": {
    "ExecuteTime": {
     "end_time": "2025-06-08T20:39:38.024032Z",
     "start_time": "2025-06-08T20:39:37.988874Z"
    }
   },
   "cell_type": "code",
   "source": "XGBRegressor().__class__.__name__",
   "id": "bbf4fa751efdaf19",
   "outputs": [
    {
     "data": {
      "text/plain": [
       "'XGBRegressor'"
      ]
     },
     "execution_count": 14,
     "metadata": {},
     "output_type": "execute_result"
    }
   ],
   "execution_count": 14
  },
  {
   "metadata": {},
   "cell_type": "code",
   "outputs": [],
   "execution_count": null,
   "source": "",
   "id": "b793ee566f49eb78"
  }
 ],
 "metadata": {
  "kernelspec": {
   "display_name": "Python 3",
   "language": "python",
   "name": "python3"
  },
  "language_info": {
   "codemirror_mode": {
    "name": "ipython",
    "version": 2
   },
   "file_extension": ".py",
   "mimetype": "text/x-python",
   "name": "python",
   "nbconvert_exporter": "python",
   "pygments_lexer": "ipython2",
   "version": "2.7.6"
  }
 },
 "nbformat": 4,
 "nbformat_minor": 5
}

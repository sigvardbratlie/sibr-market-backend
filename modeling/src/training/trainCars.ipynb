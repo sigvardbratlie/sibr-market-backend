{
 "cells": [
  {
   "cell_type": "code",
   "execution_count": 4,
   "id": "initial_id",
   "metadata": {
    "ExecuteTime": {
     "end_time": "2025-07-22T13:29:26.919832Z",
     "start_time": "2025-07-22T13:29:25.871718Z"
    },
    "collapsed": true
   },
   "outputs": [],
   "source": [
    "import os\n",
    "os.chdir(\"../..\")\n",
    "from sibr_module import BigQuery, Logger, CStorage\n",
    "import numpy as np\n",
    "import pandas as pd\n",
    "pd.set_option('display.max_columns', None)\n",
    "import warnings\n",
    "warnings.filterwarnings(\"ignore\", category=UserWarning, message=\".*feature names, but LGBMRegressor was fitted with feature names*\")\n",
    "import seaborn as sns\n",
    "import matplotlib.pyplot as plt\n",
    "from src.sibr_market_training import Train\n",
    "from catboost import CatBoostRegressor"
   ]
  },
  {
   "cell_type": "code",
   "execution_count": 3,
   "id": "aa28cce075a088fd",
   "metadata": {
    "ExecuteTime": {
     "end_time": "2025-07-22T13:29:27.407281Z",
     "start_time": "2025-07-22T13:29:27.394286Z"
    }
   },
   "outputs": [
    {
     "name": "stderr",
     "output_type": "stream",
     "text": [
      "2025-08-03 13:48:03,371 - trainCars - INFO - Cloud Logging is disabled. Using local logging to /Users/sigvardbratlie/Documents/Projects/sibr_market_training/logfiles/trainCars.log\n",
      "2025-08-03 13:48:03,375 - trainCars - INFO - BigQuery client initialized with project_id: sibr-market\n",
      "2025-08-03 13:48:03,377 - trainCars - INFO - Google Cloud Storage client initialized with bucket: sibr-market-bucket\n",
      "2025-08-03 13:48:03,380 - trainCars - INFO - BigQuery client initialized with project_id: sibr-market\n",
      "2025-08-03 13:48:03,382 - trainCars - INFO - Google Cloud Storage client initialized with bucket: sibr-market\n",
      "2025-08-03 13:48:03,382 - trainCars - DEBUG - Dataset: cars | | Replace: False\n"
     ]
    }
   ],
   "source": [
    "dataset = 'cars'\n",
    "logger = Logger(f'train{dataset.capitalize()}')\n",
    "bq = BigQuery(logger=logger,dataset=dataset)\n",
    "cs = CStorage(logger=logger, bucket_name='sibr-market-bucket')\n",
    "t = Train(dataset = dataset,logger = logger, log_target=True)\n",
    "save_to_gc = True"
   ]
  },
  {
   "cell_type": "code",
   "execution_count": null,
   "id": "3aa6483da0224fe",
   "metadata": {},
   "outputs": [
    {
     "name": "stderr",
     "output_type": "stream",
     "text": [
      "2025-08-03 13:49:19,543 - trainCars - INFO - 135218 rows read from cars. Query: SELECT a.* FROM `sibr-market.pre_processed.cars_el` a... (truncated)\n",
      "2025-08-03 13:49:23,088 - trainCars - INFO - 355354 rows read from cars. Query: SELECT a.* FROM `sibr-market.pre_processed.cars_fossil` a... (truncated)\n"
     ]
    }
   ],
   "source": [
    "data = t.bq.read_cars(task = \"train\")\n",
    "df_el = data.get(\"cars_el\")\n",
    "df_fossil = data.get(\"cars_fossil\")"
   ]
  },
  {
   "cell_type": "code",
   "execution_count": 7,
   "id": "2202d999",
   "metadata": {},
   "outputs": [
    {
     "name": "stderr",
     "output_type": "stream",
     "text": [
      "2025-08-03 13:54:10,210 - trainCars - INFO - Length dataframes after dropping NaN:  df_el: 135197 | df_fossil: 346289\n"
     ]
    }
   ],
   "source": [
    "df_el.dropna(inplace=True)\n",
    "df_fossil.dropna(inplace=True)\n",
    "t.logger.info(f'Length dataframes after dropping NaN:  df_el: {len(df_el)} | df_fossil: {len(df_fossil)}')"
   ]
  },
  {
   "cell_type": "code",
   "execution_count": 8,
   "id": "57a46601763dc47",
   "metadata": {
    "ExecuteTime": {
     "end_time": "2025-06-20T10:57:47.856248Z",
     "start_time": "2025-06-20T10:57:47.849679Z"
    }
   },
   "outputs": [
    {
     "name": "stderr",
     "output_type": "stream",
     "text": [
      "2025-08-03 13:54:15,496 - trainCars - INFO - \n",
      " \n",
      "TRAINING CatBoostRegressor model for CARS_EL\n",
      "2025-08-03 13:54:15,571 - trainCars - INFO - Train set size: 108157, Test set size: 27040\n",
      "2025-08-03 13:54:15,572 - trainCars - INFO - Target: total_price and log_target: True\n",
      "2025-08-03 13:54:45,144 - trainCars - INFO - MSE test: 760354464.2396675,r2 test: 0.9798060812320136, mse train: 562008656.1450939, r2 train 0.9849059324876347 for cars_el with target total_price and log_target True\n",
      "2025-08-03 13:54:45,523 - trainCars - INFO - Blob models.json downloaded to /tmp/models.json.\n",
      "2025-08-03 13:54:45,815 - trainCars - INFO - File /tmp/models.json uploaded to models.json in bucket sibr-market.\n",
      "2025-08-03 13:54:46,304 - trainCars - INFO - File /tmp/tmp_file.pkl uploaded to models/CatBoostRegressor_cars_el.pkl in bucket sibr-market.\n",
      "2025-08-03 13:54:46,320 - trainCars - INFO - \n",
      " \n",
      "TRAINING CatBoostRegressor model for CARS_FOSSIL\n",
      "2025-08-03 13:54:46,464 - trainCars - INFO - Train set size: 277031, Test set size: 69258\n",
      "2025-08-03 13:54:46,464 - trainCars - INFO - Target: total_price and log_target: True\n",
      "2025-08-03 13:55:35,750 - trainCars - INFO - MSE test: 1684269023.168016,r2 test: 0.9683269274860594, mse train: 1689893424.6690977, r2 train 0.9682088261505672 for cars_fossil with target total_price and log_target True\n",
      "2025-08-03 13:55:36,134 - trainCars - INFO - Blob models.json downloaded to /tmp/models.json.\n",
      "2025-08-03 13:55:36,271 - trainCars - INFO - File /tmp/models.json uploaded to models.json in bucket sibr-market.\n",
      "2025-08-03 13:55:36,786 - trainCars - INFO - File /tmp/tmp_file.pkl uploaded to models/CatBoostRegressor_cars_fossil.pkl in bucket sibr-market.\n"
     ]
    }
   ],
   "source": [
    "params_el = {'depth': 7, 'iterations': 1223, 'l2_leaf_reg': np.float64(1.3895264494261033),\n",
    "                'learning_rate': np.float64(0.09150423569345205), 'random_state': 52}\n",
    "params_fossil = {'depth': 4, 'iterations': 1463, 'l2_leaf_reg': np.float64(1.7419090119209117),\n",
    "                    'learning_rate': np.float64(0.10215580871496355), 'random_state': 43}\n",
    "\n",
    "pipeline_el = t.train(df = df_el,\n",
    "                                params = params_el,\n",
    "                                target = 'total_price',\n",
    "                                data_name =  'cars_el',\n",
    "                                model = CatBoostRegressor,\n",
    "                                save_to_gc=save_to_gc,\n",
    "                                categorical=True,\n",
    "                                log_target = True)\n",
    "pipeline_fossil = t.train(df = df_fossil,\n",
    "                                    params = params_fossil,\n",
    "                                    target = 'total_price',\n",
    "                                    data_name = 'cars_fossil',\n",
    "                                    model = CatBoostRegressor,\n",
    "                                    save_to_gc = save_to_gc\n",
    "                                    ,categorical=True,\n",
    "                                    log_target = True)"
   ]
  },
  {
   "cell_type": "code",
   "execution_count": null,
   "id": "c62fdb7e",
   "metadata": {},
   "outputs": [],
   "source": []
  }
 ],
 "metadata": {
  "kernelspec": {
   "display_name": ".venv",
   "language": "python",
   "name": "python3"
  },
  "language_info": {
   "codemirror_mode": {
    "name": "ipython",
    "version": 3
   },
   "file_extension": ".py",
   "mimetype": "text/x-python",
   "name": "python",
   "nbconvert_exporter": "python",
   "pygments_lexer": "ipython3",
   "version": "3.9.6"
  }
 },
 "nbformat": 4,
 "nbformat_minor": 5
}

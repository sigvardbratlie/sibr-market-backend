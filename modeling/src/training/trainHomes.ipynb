{
 "cells": [
  {
   "cell_type": "markdown",
   "id": "59ae7740a715001f",
   "metadata": {},
   "source": [
    "# TRAINING APARTMENTS"
   ]
  },
  {
   "cell_type": "code",
   "id": "6d7975ff3cc68a29",
   "metadata": {
    "ExecuteTime": {
     "end_time": "2025-08-05T10:59:57.145442Z",
     "start_time": "2025-08-05T10:59:55.938914Z"
    }
   },
   "source": [
    "import os\n",
    "import numpy as np\n",
    "import pandas as pd\n",
    "pd.set_option('display.max_columns', None)\n",
    "from common_functions_training import *\n",
    "from xgboost import XGBRegressor\n",
    "import seaborn as sns\n",
    "import matplotlib.pyplot as plt\n",
    "os.chdir(\"../..\")\n",
    "from sibr_module import BigQuery, Logger, CStorage\n",
    "from src.sibr_market_training import Train"
   ],
   "outputs": [
    {
     "name": "stderr",
     "output_type": "stream",
     "text": [
      "/Users/sigvardbratlie/Documents/Projects/sibr_market_training/.venv/lib/python3.9/site-packages/urllib3/__init__.py:35: NotOpenSSLWarning: urllib3 v2 only supports OpenSSL 1.1.1+, currently the 'ssl' module is compiled with 'LibreSSL 2.8.3'. See: https://github.com/urllib3/urllib3/issues/3020\n",
      "  warnings.warn(\n"
     ]
    }
   ],
   "execution_count": 1
  },
  {
   "cell_type": "code",
   "id": "646d7670e0046518",
   "metadata": {
    "ExecuteTime": {
     "end_time": "2025-08-05T10:59:59.406472Z",
     "start_time": "2025-08-05T10:59:59.384404Z"
    }
   },
   "source": [
    "dataset = 'homes'\n",
    "logger = Logger(f'train{dataset.capitalize()}')\n",
    "bq = BigQuery(logger=logger, dataset=dataset)\n",
    "cs = CStorage(logger=logger, bucket_name='sibr-market')\n",
    "save_to_gc = True\n",
    "t = Train(dataset='homes',logger = logger,log_target=True)"
   ],
   "outputs": [
    {
     "name": "stderr",
     "output_type": "stream",
     "text": [
      "2025-08-05 12:59:59,392 - trainHomes - INFO - Cloud Logging is disabled. Using local logging to /Users/sigvardbratlie/Documents/Projects/sibr_market_training/logfiles/trainHomes.log\n",
      "2025-08-05 12:59:59,396 - trainHomes - INFO - BigQuery client initialized with project_id: sibr-market\n",
      "2025-08-05 12:59:59,398 - trainHomes - INFO - Google Cloud Storage client initialized with bucket: sibr-market\n",
      "2025-08-05 12:59:59,401 - trainHomes - INFO - BigQuery client initialized with project_id: sibr-market\n",
      "2025-08-05 12:59:59,403 - trainHomes - INFO - Google Cloud Storage client initialized with bucket: sibr-market\n",
      "2025-08-05 12:59:59,404 - trainHomes - DEBUG - Dataset: homes | | Replace: False\n"
     ]
    }
   ],
   "execution_count": 2
  },
  {
   "cell_type": "code",
   "id": "cd0e1df9",
   "metadata": {
    "ExecuteTime": {
     "end_time": "2025-08-05T11:00:30.608633Z",
     "start_time": "2025-08-05T11:00:01.413102Z"
    }
   },
   "source": [
    "a_n = ['ownership_type_annet', 'utdanning_Personer', 'utdanning_PersonerProsent', 'ownership_type_obligasjon']\n",
    "h_n = ['property_type_bygård_flermannsbolig', 'ownership_type_obligasjon', 'ownership_type_annet', 'eq_lift_tmp_True', 'utdanning_PersonerProsent']\n",
    "o_n = ['eq_aircondition_True', 'ownership_type_annet', 'ownership_type_obligasjon']\n",
    "data = t.bq.read_homes(task = \"train\")\n",
    "df_a = data.get(\"homes_apartments\")\n",
    "df_h = data.get(\"homes_houses\")\n",
    "df_o = data.get(\"homes_oslo\")"
   ],
   "outputs": [
    {
     "name": "stderr",
     "output_type": "stream",
     "text": [
      "2025-08-05 13:00:10,236 - trainHomes - INFO - 100732 rows read from homes. Query: \n",
      "                            SELECT\n",
      "                a.*,\n",
      "                CASE\n",
      "                    WH... (truncated)\n",
      "2025-08-05 13:00:17,971 - trainHomes - INFO - 81995 rows read from homes. Query: \n",
      "                            SELECT\n",
      "                a.*,\n",
      "                CASE\n",
      "                    WH... (truncated)\n",
      "2025-08-05 13:00:30,427 - trainHomes - INFO - 29553 rows read from homes. Query: \n",
      "            WITH OsloHomes AS (\n",
      "                SELECT\n",
      "                h.*,\n",
      "                go.BYDE... (truncated)\n"
     ]
    }
   ],
   "execution_count": 3
  },
  {
   "cell_type": "markdown",
   "id": "b2251b5c74d8114",
   "metadata": {},
   "source": [
    "## Model Training with XGBoost | Apartments"
   ]
  },
  {
   "cell_type": "code",
   "id": "19bb8c3ed60feac8",
   "metadata": {
    "ExecuteTime": {
     "end_time": "2025-08-05T11:05:19.498369Z",
     "start_time": "2025-08-05T11:05:12.540426Z"
    }
   },
   "source": [
    "params_a = {'model__colsample_bytree': np.float64(0.7669644012595116), 'model__learning_rate': np.float64(0.0212853192163843), 'model__max_depth': 5, 'model__n_estimators': 1357, 'model__random_state': 43, 'model__reg_lambda': np.float64(8.974374279504338e-07), 'model__subsample': np.float64(0.6673164168691722)}\n",
    "pipline_a = t.train(df = df_a,\n",
    "                       params = params_a,\n",
    "                       target='price',\n",
    "                       data_name='homes_apartments',\n",
    "                       model=XGBRegressor,\n",
    "                       save_to_gc=save_to_gc,\n",
    "                       log_target = True)"
   ],
   "outputs": [
    {
     "name": "stderr",
     "output_type": "stream",
     "text": [
      "2025-08-05 13:05:12,541 - trainHomes - INFO - \n",
      " \n",
      "TRAINING XGBRegressor model for HOMES_APARTMENTS\n",
      "2025-08-05 13:05:12,582 - trainHomes - INFO - Train set size: 80585, Test set size: 20147\n",
      "2025-08-05 13:05:12,582 - trainHomes - INFO - Target: price and log_target: True\n",
      "2025-08-05 13:05:18,226 - trainHomes - INFO - MSE test: 598873276416.0,r2 test: 0.9386155605316162, mse train: 467523010560.0, r2 train 0.9526061415672302 for homes_apartments with target price and log_target True\n",
      "2025-08-05 13:05:18,667 - trainHomes - INFO - Blob models.json downloaded to /tmp/models.json.\n",
      "2025-08-05 13:05:18,674 - trainHomes - INFO - Oppdaterer eksisterende modell 'homes_apartments' i manifestet.\n",
      "2025-08-05 13:05:18,932 - trainHomes - INFO - File /tmp/models.json uploaded to models.json in bucket sibr-market.\n",
      "2025-08-05 13:05:19,490 - trainHomes - INFO - File /tmp/tmp_file.pkl uploaded to models/XGBRegressor_homes_apartments.pkl in bucket sibr-market.\n"
     ]
    }
   ],
   "execution_count": 4
  },
  {
   "cell_type": "code",
   "id": "12c98f285a0b57c3",
   "metadata": {
    "ExecuteTime": {
     "end_time": "2025-08-05T11:45:56.677325Z",
     "start_time": "2025-08-05T11:45:50.804422Z"
    }
   },
   "source": [
    "params_h = {'model__colsample_bytree': np.float64(0.7669644012595116), 'model__learning_rate': np.float64(0.0212853192163843), 'model__max_depth': 5, 'model__n_estimators': 1357, 'model__random_state': 43, 'model__reg_lambda': np.float64(8.974374279504338e-07), 'model__subsample': np.float64(0.6673164168691722)}\n",
    "pipeline_h = t.train(df = df_h,\n",
    "                        params = params_h,\n",
    "                        target='price',\n",
    "                        data_name='homes_houses',\n",
    "                        model=XGBRegressor,\n",
    "                        save_to_gc=save_to_gc,\n",
    "                        log_target = True)"
   ],
   "outputs": [
    {
     "name": "stderr",
     "output_type": "stream",
     "text": [
      "2025-08-05 13:45:50,806 - trainHomes - INFO - \n",
      " \n",
      "TRAINING XGBRegressor model for HOMES_HOUSES\n",
      "2025-08-05 13:45:50,847 - trainHomes - INFO - Train set size: 65596, Test set size: 16399\n",
      "2025-08-05 13:45:50,848 - trainHomes - INFO - Target: price and log_target: True\n",
      "2025-08-05 13:45:55,746 - trainHomes - INFO - MSE test: 1923616473088.0,r2 test: 0.8864208459854126, mse train: 1551114174464.0, r2 train 0.9078566431999207 for homes_houses with target price and log_target True\n",
      "2025-08-05 13:45:55,951 - trainHomes - INFO - Blob models.json downloaded to /tmp/models.json.\n",
      "2025-08-05 13:45:55,958 - trainHomes - INFO - Oppdaterer eksisterende modell 'homes_houses' i manifestet.\n",
      "2025-08-05 13:45:56,142 - trainHomes - INFO - File /tmp/models.json uploaded to models.json in bucket sibr-market.\n",
      "2025-08-05 13:45:56,664 - trainHomes - INFO - File /tmp/tmp_file.pkl uploaded to models/XGBRegressor_homes_houses.pkl in bucket sibr-market.\n"
     ]
    }
   ],
   "execution_count": 7
  },
  {
   "cell_type": "code",
   "execution_count": 8,
   "id": "358b26e90cd50467",
   "metadata": {
    "ExecuteTime": {
     "end_time": "2025-08-02T10:12:32.968127Z",
     "start_time": "2025-08-02T10:12:31.501211Z"
    }
   },
   "outputs": [
    {
     "name": "stderr",
     "output_type": "stream",
     "text": [
      "2025-08-02 22:10:25,802 - trainHomes - INFO - \n",
      " \n",
      "TRAINING XGBRegressor model for HOMES_APARTMENTS_OSLO\n",
      "2025-08-02 22:10:25,815 - trainHomes - INFO - Train set size: 23102, Test set size: 5776\n",
      "2025-08-02 22:10:25,816 - trainHomes - INFO - Target: price and log_target: True\n",
      "2025-08-02 22:10:27,745 - trainHomes - INFO - MSE test: 774767575040.0,r2 test: 0.9316033124923706, mse train: 466613174272.0, r2 train 0.9589529037475586 for homes_apartments_oslo with target price and log_target True\n",
      "2025-08-02 22:10:27,836 - trainHomes - INFO - Blob models.json downloaded to /tmp/models.json.\n",
      "2025-08-02 22:10:27,956 - trainHomes - INFO - File /tmp/models.json uploaded to models.json in bucket sibr-market.\n",
      "2025-08-02 22:10:28,343 - trainHomes - INFO - File /tmp/tmp_file.pkl uploaded to models/XGBRegressor_homes_apartments_oslo.pkl in bucket sibr-market.\n"
     ]
    }
   ],
   "source": [
    "params_o = {'model__learning_rate': np.float64(0.03750796359625606), 'model__max_depth': 4, 'model__n_estimators': 978, 'model__random_state': 52, 'model__subsample': np.float64(0.8347004662655393)}\n",
    "pipeline_o = t.train(df = df_o,\n",
    "                        params = params_o,\n",
    "                        target='price',\n",
    "                        data_name='homes_apartments_oslo',\n",
    "                        model=XGBRegressor,\n",
    "                        save_to_gc=save_to_gc,\n",
    "                        log_target = True)"
   ]
  },
  {
   "cell_type": "code",
   "id": "b793ee566f49eb78",
   "metadata": {
    "ExecuteTime": {
     "end_time": "2025-08-05T11:52:37.332561Z",
     "start_time": "2025-08-05T11:52:36.783929Z"
    }
   },
   "source": [
    "results = cs.download('models.json',read_in_file=True)"
   ],
   "outputs": [
    {
     "name": "stderr",
     "output_type": "stream",
     "text": [
      "2025-08-05 13:52:37,329 - trainHomes - INFO - Read in models.json\n"
     ]
    }
   ],
   "execution_count": 8
  },
  {
   "cell_type": "code",
   "id": "eca883c20fbbc5a",
   "metadata": {
    "ExecuteTime": {
     "end_time": "2025-08-05T11:52:38.746767Z",
     "start_time": "2025-08-05T11:52:38.738068Z"
    }
   },
   "source": [
    "results[['dataset','r2_score','r2_train']]"
   ],
   "outputs": [
    {
     "data": {
      "text/plain": [
       "                 dataset  r2_score  r2_train\n",
       "0                cars_el  0.979806  0.984906\n",
       "1            cars_fossil  0.968327  0.968209\n",
       "2  homes_apartments_oslo  0.936778  0.955281\n",
       "3                rentals  0.842147  0.879048\n",
       "4           rentals_oslo  0.866926  0.908223\n",
       "5      rentals_co-living  0.342840  0.635360\n",
       "6       homes_apartments  0.938616  0.952606\n",
       "7           homes_houses  0.886421  0.907857"
      ],
      "text/html": [
       "<div>\n",
       "<style scoped>\n",
       "    .dataframe tbody tr th:only-of-type {\n",
       "        vertical-align: middle;\n",
       "    }\n",
       "\n",
       "    .dataframe tbody tr th {\n",
       "        vertical-align: top;\n",
       "    }\n",
       "\n",
       "    .dataframe thead th {\n",
       "        text-align: right;\n",
       "    }\n",
       "</style>\n",
       "<table border=\"1\" class=\"dataframe\">\n",
       "  <thead>\n",
       "    <tr style=\"text-align: right;\">\n",
       "      <th></th>\n",
       "      <th>dataset</th>\n",
       "      <th>r2_score</th>\n",
       "      <th>r2_train</th>\n",
       "    </tr>\n",
       "  </thead>\n",
       "  <tbody>\n",
       "    <tr>\n",
       "      <th>0</th>\n",
       "      <td>cars_el</td>\n",
       "      <td>0.979806</td>\n",
       "      <td>0.984906</td>\n",
       "    </tr>\n",
       "    <tr>\n",
       "      <th>1</th>\n",
       "      <td>cars_fossil</td>\n",
       "      <td>0.968327</td>\n",
       "      <td>0.968209</td>\n",
       "    </tr>\n",
       "    <tr>\n",
       "      <th>2</th>\n",
       "      <td>homes_apartments_oslo</td>\n",
       "      <td>0.936778</td>\n",
       "      <td>0.955281</td>\n",
       "    </tr>\n",
       "    <tr>\n",
       "      <th>3</th>\n",
       "      <td>rentals</td>\n",
       "      <td>0.842147</td>\n",
       "      <td>0.879048</td>\n",
       "    </tr>\n",
       "    <tr>\n",
       "      <th>4</th>\n",
       "      <td>rentals_oslo</td>\n",
       "      <td>0.866926</td>\n",
       "      <td>0.908223</td>\n",
       "    </tr>\n",
       "    <tr>\n",
       "      <th>5</th>\n",
       "      <td>rentals_co-living</td>\n",
       "      <td>0.342840</td>\n",
       "      <td>0.635360</td>\n",
       "    </tr>\n",
       "    <tr>\n",
       "      <th>6</th>\n",
       "      <td>homes_apartments</td>\n",
       "      <td>0.938616</td>\n",
       "      <td>0.952606</td>\n",
       "    </tr>\n",
       "    <tr>\n",
       "      <th>7</th>\n",
       "      <td>homes_houses</td>\n",
       "      <td>0.886421</td>\n",
       "      <td>0.907857</td>\n",
       "    </tr>\n",
       "  </tbody>\n",
       "</table>\n",
       "</div>"
      ]
     },
     "execution_count": 9,
     "metadata": {},
     "output_type": "execute_result"
    }
   ],
   "execution_count": 9
  },
  {
   "cell_type": "code",
   "execution_count": null,
   "id": "744a0a7c",
   "metadata": {},
   "outputs": [],
   "source": []
  }
 ],
 "metadata": {
  "environment": {
   "kernel": "conda-base-py",
   "name": "workbench-notebooks.m129",
   "type": "gcloud",
   "uri": "us-docker.pkg.dev/deeplearning-platform-release/gcr.io/workbench-notebooks:m129"
  },
  "kernelspec": {
   "display_name": ".venv",
   "language": "python",
   "name": "python3"
  },
  "language_info": {
   "codemirror_mode": {
    "name": "ipython",
    "version": 3
   },
   "file_extension": ".py",
   "mimetype": "text/x-python",
   "name": "python",
   "nbconvert_exporter": "python",
   "pygments_lexer": "ipython3",
   "version": "3.9.6"
  }
 },
 "nbformat": 4,
 "nbformat_minor": 5
}
